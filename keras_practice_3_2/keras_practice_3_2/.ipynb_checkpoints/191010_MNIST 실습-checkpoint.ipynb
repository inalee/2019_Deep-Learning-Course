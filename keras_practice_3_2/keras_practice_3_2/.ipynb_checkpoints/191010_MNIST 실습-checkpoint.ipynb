{
 "cells": [
  {
   "cell_type": "code",
   "execution_count": 1,
   "metadata": {},
   "outputs": [
    {
     "name": "stderr",
     "output_type": "stream",
     "text": [
      "Using TensorFlow backend.\n"
     ]
    }
   ],
   "source": [
    "import keras"
   ]
  },
  {
   "cell_type": "code",
   "execution_count": 2,
   "metadata": {},
   "outputs": [],
   "source": [
    "from keras.datasets import mnist\n",
    "\n",
    "(train_images, train_labels), (test_images, test_labels) = mnist.load_data()\n",
    "\n",
    "train_images = train_images.reshape((60000, 28 * 28)) ## 2D로 표현되어 있기 때문에.. dense 로 넣으려면 vector 로 해주어야하므로! reshape\n",
    "train_images = train_images.astype('float32') / 255\n",
    "## 원래 int로 되어있어서 float으로 바꿔주고,  scaling 해주는  과정. 0~255 까지 표현되어 있으므로. \n",
    "\n",
    "test_images = test_images.reshape((10000, 28 * 28))\n",
    "test_images = test_images.astype('float32') / 255"
   ]
  },
  {
   "cell_type": "code",
   "execution_count": 13,
   "metadata": {},
   "outputs": [],
   "source": [
    "### minmax_scale로도 사용 가능."
   ]
  },
  {
   "cell_type": "code",
   "execution_count": 3,
   "metadata": {},
   "outputs": [],
   "source": [
    "from keras.utils import to_categorical\n",
    "\n",
    "## multiclass classification 문제에서, output layer의 뉴런은 class 수 만큼 존재.\n",
    "## softmax 함수 사용 -> 각 클래스에 포함될 확률! 총 클래스 수만큼 확률 결과를 얻음(0~1사이의 값). 가장 높은 확률이 해당 input의 예측 class \n",
    "## label 을 one-hot vector 스타일로 만들어줌. \n",
    "train_labels = to_categorical(train_labels) \n",
    "test_labels = to_categorical(test_labels)"
   ]
  },
  {
   "cell_type": "markdown",
   "metadata": {},
   "source": [
    "## DROPOUT 있음"
   ]
  },
  {
   "cell_type": "code",
   "execution_count": 14,
   "metadata": {},
   "outputs": [],
   "source": [
    "from keras import models\n",
    "from keras import layers\n",
    "\n",
    "network = models.Sequential()\n",
    "network.add(layers.Dense(256, activation='relu', input_shape=(28 * 28,),kernel_initializer= 'glorot_uniform'))\n",
    "network.add(layers.Dropout(rate=0.3))\n",
    "network.add(layers.Dense(256, activation='relu',kernel_initializer= 'glorot_uniform'))\n",
    "network.add(layers.Dropout(rate=0.3))\n",
    "network.add(layers.Dense(256, activation='relu',kernel_initializer= 'glorot_uniform'))\n",
    "network.add(layers.Dropout(rate=0.3))\n",
    "network.add(layers.Dense(256, activation='relu',kernel_initializer= 'glorot_uniform'))\n",
    "network.add(layers.Dropout(rate=0.3))\n",
    "network.add(layers.Dense(10, activation='softmax'))"
   ]
  },
  {
   "cell_type": "code",
   "execution_count": 15,
   "metadata": {},
   "outputs": [],
   "source": [
    "network.compile(optimizer='adam',\n",
    "                loss='categorical_crossentropy',\n",
    "                metrics=['accuracy'])"
   ]
  },
  {
   "cell_type": "code",
   "execution_count": 16,
   "metadata": {
    "scrolled": true
   },
   "outputs": [
    {
     "name": "stdout",
     "output_type": "stream",
     "text": [
      "Epoch 1/15\n",
      "60000/60000 [==============================] - 10s 171us/step - loss: 0.3686 - acc: 0.8860\n",
      "Epoch 2/15\n",
      "60000/60000 [==============================] - 9s 157us/step - loss: 0.1777 - acc: 0.9498\n",
      "Epoch 3/15\n",
      "60000/60000 [==============================] - 9s 156us/step - loss: 0.1420 - acc: 0.9586\n",
      "Epoch 4/15\n",
      "60000/60000 [==============================] - 10s 162us/step - loss: 0.1257 - acc: 0.9649\n",
      "Epoch 5/15\n",
      "60000/60000 [==============================] - 9s 156us/step - loss: 0.1103 - acc: 0.9698\n",
      "Epoch 6/15\n",
      "60000/60000 [==============================] - 9s 154us/step - loss: 0.0984 - acc: 0.9723\n",
      "Epoch 7/15\n",
      "60000/60000 [==============================] - 10s 158us/step - loss: 0.0959 - acc: 0.9723\n",
      "Epoch 8/15\n",
      "60000/60000 [==============================] - 9s 151us/step - loss: 0.0865 - acc: 0.9760\n",
      "Epoch 9/15\n",
      "60000/60000 [==============================] - 9s 151us/step - loss: 0.0849 - acc: 0.9762\n",
      "Epoch 10/15\n",
      "60000/60000 [==============================] - 9s 151us/step - loss: 0.0829 - acc: 0.9772\n",
      "Epoch 11/15\n",
      "60000/60000 [==============================] - 9s 151us/step - loss: 0.0746 - acc: 0.9786\n",
      "Epoch 12/15\n",
      "60000/60000 [==============================] - 9s 151us/step - loss: 0.0716 - acc: 0.9794\n",
      "Epoch 13/15\n",
      "60000/60000 [==============================] - 9s 151us/step - loss: 0.0691 - acc: 0.9798\n",
      "Epoch 14/15\n",
      "60000/60000 [==============================] - 9s 150us/step - loss: 0.0667 - acc: 0.9809\n",
      "Epoch 15/15\n",
      "60000/60000 [==============================] - 9s 150us/step - loss: 0.0655 - acc: 0.9821\n"
     ]
    },
    {
     "data": {
      "text/plain": [
       "<keras.callbacks.History at 0x21aef1884a8>"
      ]
     },
     "execution_count": 16,
     "metadata": {},
     "output_type": "execute_result"
    }
   ],
   "source": [
    "network.fit(train_images, train_labels, epochs=15, batch_size=50)"
   ]
  },
  {
   "cell_type": "code",
   "execution_count": 7,
   "metadata": {},
   "outputs": [
    {
     "name": "stdout",
     "output_type": "stream",
     "text": [
      "10000/10000 [==============================] - 1s 60us/step\n",
      "test_acc: 0.9792\n"
     ]
    }
   ],
   "source": [
    "test_loss, test_acc = network.evaluate(test_images, test_labels)\n",
    "print('test_acc:', test_acc)"
   ]
  },
  {
   "cell_type": "markdown",
   "metadata": {},
   "source": [
    "## DROPOUT 없음"
   ]
  },
  {
   "cell_type": "code",
   "execution_count": 10,
   "metadata": {},
   "outputs": [],
   "source": [
    "from keras import models\n",
    "from keras import layers\n",
    "\n",
    "network = models.Sequential()\n",
    "network.add(layers.Dense(256, activation='relu', input_shape=(28 * 28,)))\n",
    "network.add(layers.Dense(256, activation='relu'))\n",
    "network.add(layers.Dense(256, activation='relu'))\n",
    "network.add(layers.Dense(256, activation='relu'))\n",
    "network.add(layers.Dense(10, activation='softmax'))"
   ]
  },
  {
   "cell_type": "code",
   "execution_count": 11,
   "metadata": {},
   "outputs": [],
   "source": [
    "network.compile(optimizer='adam',\n",
    "                loss='categorical_crossentropy',\n",
    "                metrics=['accuracy'])"
   ]
  },
  {
   "cell_type": "code",
   "execution_count": 12,
   "metadata": {},
   "outputs": [
    {
     "name": "stdout",
     "output_type": "stream",
     "text": [
      "Epoch 1/15\n",
      "60000/60000 [==============================] - 7s 121us/step - loss: 0.2196 - acc: 0.9341\n",
      "Epoch 2/15\n",
      "60000/60000 [==============================] - 7s 113us/step - loss: 0.0974 - acc: 0.9698\n",
      "Epoch 3/15\n",
      "60000/60000 [==============================] - 7s 116us/step - loss: 0.0732 - acc: 0.9773\n",
      "Epoch 4/15\n",
      "60000/60000 [==============================] - 7s 115us/step - loss: 0.0553 - acc: 0.9836\n",
      "Epoch 5/15\n",
      "60000/60000 [==============================] - 7s 112us/step - loss: 0.0450 - acc: 0.9857\n",
      "Epoch 6/15\n",
      "60000/60000 [==============================] - 7s 112us/step - loss: 0.0413 - acc: 0.9875\n",
      "Epoch 7/15\n",
      "60000/60000 [==============================] - 7s 110us/step - loss: 0.0300 - acc: 0.9910\n",
      "Epoch 8/15\n",
      "60000/60000 [==============================] - 6s 99us/step - loss: 0.0301 - acc: 0.9910\n",
      "Epoch 9/15\n",
      "60000/60000 [==============================] - 6s 98us/step - loss: 0.0276 - acc: 0.9914\n",
      "Epoch 10/15\n",
      "60000/60000 [==============================] - 6s 102us/step - loss: 0.0261 - acc: 0.9925\n",
      "Epoch 11/15\n",
      "60000/60000 [==============================] - 6s 105us/step - loss: 0.0200 - acc: 0.9937\n",
      "Epoch 12/15\n",
      "60000/60000 [==============================] - 6s 98us/step - loss: 0.0211 - acc: 0.9937\n",
      "Epoch 13/15\n",
      "60000/60000 [==============================] - 6s 97us/step - loss: 0.0187 - acc: 0.9944\n",
      "Epoch 14/15\n",
      "60000/60000 [==============================] - 6s 101us/step - loss: 0.0158 - acc: 0.9951\n",
      "Epoch 15/15\n",
      "60000/60000 [==============================] - 6s 105us/step - loss: 0.0178 - acc: 0.9951\n"
     ]
    },
    {
     "data": {
      "text/plain": [
       "<keras.callbacks.History at 0x21aea9ae5c0>"
      ]
     },
     "execution_count": 12,
     "metadata": {},
     "output_type": "execute_result"
    }
   ],
   "source": [
    "network.fit(train_images, train_labels, epochs=15, batch_size=50)"
   ]
  },
  {
   "cell_type": "code",
   "execution_count": 17,
   "metadata": {},
   "outputs": [
    {
     "name": "stdout",
     "output_type": "stream",
     "text": [
      "10000/10000 [==============================] - 1s 67us/step\n",
      "test_acc: 0.979\n"
     ]
    }
   ],
   "source": [
    "test_loss, test_acc = network.evaluate(test_images, test_labels)\n",
    "print('test_acc:', test_acc)"
   ]
  }
 ],
 "metadata": {
  "kernelspec": {
   "display_name": "Python 3",
   "language": "python",
   "name": "python3"
  },
  "language_info": {
   "codemirror_mode": {
    "name": "ipython",
    "version": 3
   },
   "file_extension": ".py",
   "mimetype": "text/x-python",
   "name": "python",
   "nbconvert_exporter": "python",
   "pygments_lexer": "ipython3",
   "version": "3.7.0"
  }
 },
 "nbformat": 4,
 "nbformat_minor": 2
}
