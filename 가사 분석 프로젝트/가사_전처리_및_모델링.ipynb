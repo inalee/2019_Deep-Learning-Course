{
  "nbformat": 4,
  "nbformat_minor": 0,
  "metadata": {
    "colab": {
      "name": "가사 전처리 및 모델링",
      "provenance": [],
      "collapsed_sections": [],
      "include_colab_link": true
    },
    "kernelspec": {
      "name": "python3",
      "display_name": "Python 3"
    },
    "accelerator": "GPU"
  },
  "cells": [
    {
      "cell_type": "markdown",
      "metadata": {
        "id": "view-in-github",
        "colab_type": "text"
      },
      "source": [
        "<a href=\"https://colab.research.google.com/github/inalee/2019_Deep-Learning-Course/blob/master/%EA%B0%80%EC%82%AC%20%EB%B6%84%EC%84%9D%20%ED%94%84%EB%A1%9C%EC%A0%9D%ED%8A%B8/%EA%B0%80%EC%82%AC_%EC%A0%84%EC%B2%98%EB%A6%AC_%EB%B0%8F_%EB%AA%A8%EB%8D%B8%EB%A7%81.ipynb\" target=\"_parent\"><img src=\"https://colab.research.google.com/assets/colab-badge.svg\" alt=\"Open In Colab\"/></a>"
      ]
    },
    {
      "cell_type": "code",
      "metadata": {
        "id": "7sTFQDzT7Q_m",
        "colab_type": "code",
        "colab": {
          "base_uri": "https://localhost:8080/",
          "height": 298
        },
        "outputId": "48edbed1-cffb-426a-dfde-4c91478b6d6c"
      },
      "source": [
        "pip install konlpy"
      ],
      "execution_count": null,
      "outputs": [
        {
          "output_type": "stream",
          "text": [
            "Requirement already satisfied: konlpy in /usr/local/lib/python3.6/dist-packages (0.5.2)\n",
            "Requirement already satisfied: colorama in /usr/local/lib/python3.6/dist-packages (from konlpy) (0.4.3)\n",
            "Requirement already satisfied: tweepy>=3.7.0 in /usr/local/lib/python3.6/dist-packages (from konlpy) (3.8.0)\n",
            "Requirement already satisfied: JPype1>=0.7.0 in /usr/local/lib/python3.6/dist-packages (from konlpy) (0.7.1)\n",
            "Requirement already satisfied: lxml>=4.1.0 in /usr/local/lib/python3.6/dist-packages (from konlpy) (4.2.6)\n",
            "Requirement already satisfied: numpy>=1.6 in /usr/local/lib/python3.6/dist-packages (from konlpy) (1.17.4)\n",
            "Requirement already satisfied: beautifulsoup4==4.6.0 in /usr/local/lib/python3.6/dist-packages (from konlpy) (4.6.0)\n",
            "Requirement already satisfied: requests>=2.11.1 in /usr/local/lib/python3.6/dist-packages (from tweepy>=3.7.0->konlpy) (2.21.0)\n",
            "Requirement already satisfied: requests-oauthlib>=0.7.0 in /usr/local/lib/python3.6/dist-packages (from tweepy>=3.7.0->konlpy) (1.3.0)\n",
            "Requirement already satisfied: six>=1.10.0 in /usr/local/lib/python3.6/dist-packages (from tweepy>=3.7.0->konlpy) (1.12.0)\n",
            "Requirement already satisfied: PySocks>=1.5.7 in /usr/local/lib/python3.6/dist-packages (from tweepy>=3.7.0->konlpy) (1.7.1)\n",
            "Requirement already satisfied: certifi>=2017.4.17 in /usr/local/lib/python3.6/dist-packages (from requests>=2.11.1->tweepy>=3.7.0->konlpy) (2019.11.28)\n",
            "Requirement already satisfied: chardet<3.1.0,>=3.0.2 in /usr/local/lib/python3.6/dist-packages (from requests>=2.11.1->tweepy>=3.7.0->konlpy) (3.0.4)\n",
            "Requirement already satisfied: idna<2.9,>=2.5 in /usr/local/lib/python3.6/dist-packages (from requests>=2.11.1->tweepy>=3.7.0->konlpy) (2.8)\n",
            "Requirement already satisfied: urllib3<1.25,>=1.21.1 in /usr/local/lib/python3.6/dist-packages (from requests>=2.11.1->tweepy>=3.7.0->konlpy) (1.24.3)\n",
            "Requirement already satisfied: oauthlib>=3.0.0 in /usr/local/lib/python3.6/dist-packages (from requests-oauthlib>=0.7.0->tweepy>=3.7.0->konlpy) (3.1.0)\n"
          ],
          "name": "stdout"
        }
      ]
    },
    {
      "cell_type": "code",
      "metadata": {
        "id": "mX2oUXVO6v0G",
        "colab_type": "code",
        "colab": {
          "base_uri": "https://localhost:8080/",
          "height": 81
        },
        "outputId": "f9cac55c-e033-42e6-deec-22f820a6d034"
      },
      "source": [
        "import pandas as pd\n",
        "import konlpy\n",
        "from konlpy.tag import Komoran\n",
        "from konlpy.tag import Okt\n",
        "from konlpy.tag import Kkma\n",
        "from itertools import chain\n",
        "from gensim.models import Word2Vec\n",
        "\n",
        "from keras import models\n",
        "from keras import layers\n",
        "from keras.layers import LSTM,Embedding,Bidirectional,CuDNNLSTM\n",
        "from keras import optimizers"
      ],
      "execution_count": null,
      "outputs": [
        {
          "output_type": "stream",
          "text": [
            "Using TensorFlow backend.\n"
          ],
          "name": "stderr"
        },
        {
          "output_type": "display_data",
          "data": {
            "text/html": [
              "<p style=\"color: red;\">\n",
              "The default version of TensorFlow in Colab will soon switch to TensorFlow 2.x.<br>\n",
              "We recommend you <a href=\"https://www.tensorflow.org/guide/migrate\" target=\"_blank\">upgrade</a> now \n",
              "or ensure your notebook will continue to use TensorFlow 1.x via the <code>%tensorflow_version 1.x</code> magic:\n",
              "<a href=\"https://colab.research.google.com/notebooks/tensorflow_version.ipynb\" target=\"_blank\">more info</a>.</p>\n"
            ],
            "text/plain": [
              "<IPython.core.display.HTML object>"
            ]
          },
          "metadata": {
            "tags": []
          }
        }
      ]
    },
    {
      "cell_type": "code",
      "metadata": {
        "id": "iWxPnZls61DJ",
        "colab_type": "code",
        "colab": {
          "base_uri": "https://localhost:8080/",
          "height": 125
        },
        "outputId": "809213a7-b2e3-4760-cfdc-2cc39d22f3b8"
      },
      "source": [
        "from google.colab import drive\n",
        "drive.mount('/content/drive')"
      ],
      "execution_count": null,
      "outputs": [
        {
          "output_type": "stream",
          "text": [
            "Go to this URL in a browser: https://accounts.google.com/o/oauth2/auth?client_id=947318989803-6bn6qk8qdgf4n4g3pfee6491hc0brc4i.apps.googleusercontent.com&redirect_uri=urn%3aietf%3awg%3aoauth%3a2.0%3aoob&response_type=code&scope=email%20https%3a%2f%2fwww.googleapis.com%2fauth%2fdocs.test%20https%3a%2f%2fwww.googleapis.com%2fauth%2fdrive%20https%3a%2f%2fwww.googleapis.com%2fauth%2fdrive.photos.readonly%20https%3a%2f%2fwww.googleapis.com%2fauth%2fpeopleapi.readonly\n",
            "\n",
            "Enter your authorization code:\n",
            "··········\n",
            "Mounted at /content/drive\n"
          ],
          "name": "stdout"
        }
      ]
    },
    {
      "cell_type": "code",
      "metadata": {
        "id": "yGAlOJC16ztf",
        "colab_type": "code",
        "colab": {}
      },
      "source": [
        "ballad = pd.read_csv(\"/content/drive/My Drive/딥러닝_가사_프로젝트/ballad.csv\")"
      ],
      "execution_count": null,
      "outputs": []
    },
    {
      "cell_type": "code",
      "metadata": {
        "id": "suPVDLh67pIz",
        "colab_type": "code",
        "colab": {}
      },
      "source": [
        "ballad = ballad[:5000]\n",
        "ballad[\"konlpy\"] = \"\"\n",
        "ballad[\"konlpy\"] = ballad.lyric.map(lambda x: Okt().pos(x)) # 모든 글자 pos tag 달기\n",
        "ballad[\"konlpy\"] = ballad.konlpy.map(lambda x: list(chain.from_iterable(x))) # tuple 형태 flatten 해서 하나의 리스트로만 만들기"
      ],
      "execution_count": null,
      "outputs": []
    },
    {
      "cell_type": "code",
      "metadata": {
        "id": "VqXnN0b37q4H",
        "colab_type": "code",
        "colab": {}
      },
      "source": [
        "ballad_final_list = []\n",
        "for i in range(0,len(ballad.konlpy)):\n",
        "    temp_list = []\n",
        "    #print(ballad.konlpy[i])\n",
        "    for j in range(0,len(ballad.konlpy[i])):\n",
        "        # Noun / Verb / Adjective / Conjunction / Adverb (명사,동사,형용사,접속사,부사) 만 남기기 \n",
        "        if ballad.konlpy[i][j]==\"Noun\": temp_list.append(ballad.konlpy[i][j-1])\n",
        "        if ballad.konlpy[i][j]==\"Verb\": temp_list.append(ballad.konlpy[i][j-1])\n",
        "        if ballad.konlpy[i][j]==\"Adjective\":  temp_list.append(ballad.konlpy[i][j-1])\n",
        "        if ballad.konlpy[i][j]==\"Conjunction\":  temp_list.append(ballad.konlpy[i][j-1])\n",
        "        if ballad.konlpy[i][j]==\"Adverb\": temp_list.append(ballad.konlpy[i][j-1])\n",
        "    ballad_final_list.append(temp_list)"
      ],
      "execution_count": null,
      "outputs": []
    },
    {
      "cell_type": "code",
      "metadata": {
        "id": "1xFbs5JbsbdK",
        "colab_type": "code",
        "colab": {}
      },
      "source": [
        "# 한글자 단어 없애기\n",
        "for i in ballad_final_list:\n",
        "  for j in i:\n",
        "    if len(j) == 1:\n",
        "      i.remove(j)\n",
        "      continue"
      ],
      "execution_count": null,
      "outputs": []
    },
    {
      "cell_type": "code",
      "metadata": {
        "id": "-CL-oG6J7slP",
        "colab_type": "code",
        "colab": {}
      },
      "source": [
        "# 리스트 요소 0 인것(비어 있는것) 삭제하기\n",
        "for i in ballad_final_list:\n",
        "  if len(i) == 0:\n",
        "    ballad_final_list.remove(i)"
      ],
      "execution_count": null,
      "outputs": []
    },
    {
      "cell_type": "code",
      "metadata": {
        "id": "NbmXD74MjIu4",
        "colab_type": "code",
        "colab": {}
      },
      "source": [
        "ballad_songs =  []\n",
        "for i in ballad_final_list:\n",
        "    lyrics = \" \".join(i)\n",
        "    ballad_songs.append(lyrics)"
      ],
      "execution_count": null,
      "outputs": []
    },
    {
      "cell_type": "code",
      "metadata": {
        "id": "bKzmy69ZtfUv",
        "colab_type": "code",
        "colab": {
          "base_uri": "https://localhost:8080/",
          "height": 34
        },
        "outputId": "2f54ae7d-3202-4044-9194-f0aced9bca0c"
      },
      "source": [
        "# ballad 최종 갯수 - 4955개 \n",
        "len(ballad_songs)"
      ],
      "execution_count": null,
      "outputs": [
        {
          "output_type": "execute_result",
          "data": {
            "text/plain": [
              "4955"
            ]
          },
          "metadata": {
            "tags": []
          },
          "execution_count": 22
        }
      ]
    },
    {
      "cell_type": "code",
      "metadata": {
        "id": "y1QaSx8O-bZW",
        "colab_type": "code",
        "colab": {}
      },
      "source": [
        "trot = pd.read_csv(\"/content/drive/My Drive/딥러닝_가사_프로젝트/trot.csv\")"
      ],
      "execution_count": null,
      "outputs": []
    },
    {
      "cell_type": "code",
      "metadata": {
        "id": "bLQYGpjo-eMC",
        "colab_type": "code",
        "colab": {}
      },
      "source": [
        "trot = trot[:5000]\n",
        "trot[\"konlpy\"] = \"\"\n",
        "\n",
        "trot[\"konlpy\"] = trot.lyric.map(lambda x: Okt().pos(x)) # 모든 글자 pos tag 달기\n",
        "trot[\"konlpy\"] = trot.konlpy.map(lambda x: list(chain.from_iterable(x))) # tuple 형태 flatten 해서 하나의 리스트로만 만들기"
      ],
      "execution_count": null,
      "outputs": []
    },
    {
      "cell_type": "code",
      "metadata": {
        "id": "tM5HU32L-iTv",
        "colab_type": "code",
        "colab": {}
      },
      "source": [
        "trot_final_list = []\n",
        "for i in range(0,len(trot.konlpy)):\n",
        "    temp_list = []\n",
        "    #print(trot.konlpy[i])\n",
        "    for j in range(0,len(trot.konlpy[i])):\n",
        "        # Noun / Verb / Adjective / Conjunction / Adverb (명사,동사,형용사,접속사,부사) 만 남기기 \n",
        "        if trot.konlpy[i][j]==\"Noun\": temp_list.append(trot.konlpy[i][j-1])\n",
        "        if trot.konlpy[i][j]==\"Verb\": temp_list.append(trot.konlpy[i][j-1])\n",
        "        if trot.konlpy[i][j]==\"Adjective\":  temp_list.append(trot.konlpy[i][j-1])\n",
        "        if trot.konlpy[i][j]==\"Conjunction\":  temp_list.append(trot.konlpy[i][j-1])\n",
        "        if trot.konlpy[i][j]==\"Adverb\": temp_list.append(trot.konlpy[i][j-1])\n",
        "    trot_final_list.append(temp_list)"
      ],
      "execution_count": null,
      "outputs": []
    },
    {
      "cell_type": "code",
      "metadata": {
        "id": "sxLQWurW4_Ti",
        "colab_type": "code",
        "colab": {}
      },
      "source": [
        "# 한글자 단어 없애기\n",
        "for i in trot_final_list:\n",
        "  for j in i:\n",
        "    if len(j) == 1:\n",
        "      i.remove(j)\n",
        "      continue"
      ],
      "execution_count": null,
      "outputs": []
    },
    {
      "cell_type": "code",
      "metadata": {
        "id": "vTupWUhdt_Zq",
        "colab_type": "code",
        "colab": {}
      },
      "source": [
        "# 리스트 요소 0 인것(비어 있는것) 삭제하기\n",
        "for i in trot_final_list:\n",
        "  if len(i) == 0:\n",
        "    trot_final_list.remove(i)"
      ],
      "execution_count": null,
      "outputs": []
    },
    {
      "cell_type": "code",
      "metadata": {
        "id": "xvKnm-8XjPQn",
        "colab_type": "code",
        "colab": {}
      },
      "source": [
        "trot_songs =  []\n",
        "for i in trot_final_list:\n",
        "    lyrics = \" \".join(i)\n",
        "    trot_songs.append(lyrics)"
      ],
      "execution_count": null,
      "outputs": []
    },
    {
      "cell_type": "code",
      "metadata": {
        "id": "uJvy4xO2u80x",
        "colab_type": "code",
        "colab": {
          "base_uri": "https://localhost:8080/",
          "height": 34
        },
        "outputId": "27b38766-1163-4317-9758-9c10cfe3e8d3"
      },
      "source": [
        "# 트로트 최종 갯수 - 4992개 \n",
        "len(trot_songs)"
      ],
      "execution_count": null,
      "outputs": [
        {
          "output_type": "execute_result",
          "data": {
            "text/plain": [
              "4992"
            ]
          },
          "metadata": {
            "tags": []
          },
          "execution_count": 29
        }
      ]
    },
    {
      "cell_type": "code",
      "metadata": {
        "id": "lbWAcn1puCJX",
        "colab_type": "code",
        "colab": {}
      },
      "source": [
        "dance = pd.read_csv(\"/content/drive/My Drive/딥러닝_가사_프로젝트/dance.csv\")"
      ],
      "execution_count": null,
      "outputs": []
    },
    {
      "cell_type": "code",
      "metadata": {
        "id": "QTzMPggzuxQi",
        "colab_type": "code",
        "colab": {}
      },
      "source": [
        "dance = dance[:5000]\n",
        "dance[\"konlpy\"] = \"\"\n",
        "dance[\"lyric\"] = dance.lyric.map(lambda x: x.replace(\"\\n\\t\\t\\t\\t\\t\\t\\t\", \"\"))\n",
        "dance[\"konlpy\"] = dance.lyric.map(lambda x: Okt().pos(x)) # 모든 글자 pos tag 달기\n",
        "dance[\"konlpy\"] = dance.konlpy.map(lambda x: list(chain.from_iterable(x))) # tuple 형태 flatten 해서 하나의 리스트로만 만들기"
      ],
      "execution_count": null,
      "outputs": []
    },
    {
      "cell_type": "code",
      "metadata": {
        "id": "Ds2ZOx3Xvgi-",
        "colab_type": "code",
        "colab": {}
      },
      "source": [
        "dance_final_list = []\n",
        "for i in range(0,len(dance.konlpy)):\n",
        "    temp_list = []\n",
        "    for j in range(0,len(dance.konlpy[i])):\n",
        "        # Noun / Verb / Adjective / Conjunction / Adverb (명사,동사,형용사,접속사,부사) 만 남기기 \n",
        "        if dance.konlpy[i][j]==\"Noun\": temp_list.append(dance.konlpy[i][j-1])\n",
        "        if dance.konlpy[i][j]==\"Verb\": temp_list.append(dance.konlpy[i][j-1])\n",
        "        if dance.konlpy[i][j]==\"Adjective\":  temp_list.append(dance.konlpy[i][j-1])\n",
        "        if dance.konlpy[i][j]==\"Conjunction\":  temp_list.append(dance.konlpy[i][j-1])\n",
        "        if dance.konlpy[i][j]==\"Adverb\": temp_list.append(dance.konlpy[i][j-1])\n",
        "    dance_final_list.append(temp_list)"
      ],
      "execution_count": null,
      "outputs": []
    },
    {
      "cell_type": "code",
      "metadata": {
        "id": "psIryplRwx5i",
        "colab_type": "code",
        "colab": {}
      },
      "source": [
        "# 한글자 단어 없애기\n",
        "for i in dance_final_list:\n",
        "  for j in i:\n",
        "    if len(j) == 1:\n",
        "      i.remove(j)\n",
        "      continue"
      ],
      "execution_count": null,
      "outputs": []
    },
    {
      "cell_type": "code",
      "metadata": {
        "id": "qWdXnr7lwE1B",
        "colab_type": "code",
        "colab": {}
      },
      "source": [
        "# 리스트 요소 0 인것(비어 있는것) 삭제하기\n",
        "for i in dance_final_list:\n",
        "  if len(i) == 0:\n",
        "    dance_final_list.remove(i)"
      ],
      "execution_count": null,
      "outputs": []
    },
    {
      "cell_type": "code",
      "metadata": {
        "id": "X6c5EZ36jxBZ",
        "colab_type": "code",
        "colab": {}
      },
      "source": [
        "dance_songs =  []\n",
        "for i in dance_final_list:\n",
        "    lyrics = \" \".join(i)\n",
        "    dance_songs.append(lyrics)"
      ],
      "execution_count": null,
      "outputs": []
    },
    {
      "cell_type": "code",
      "metadata": {
        "id": "n-XBaksQ_EaK",
        "colab_type": "code",
        "colab": {
          "base_uri": "https://localhost:8080/",
          "height": 34
        },
        "outputId": "8ffde435-b7c5-4a16-8686-62a822d14eed"
      },
      "source": [
        "# 댄스 최종 갯수 - 4958개\n",
        "len(dance_songs)"
      ],
      "execution_count": null,
      "outputs": [
        {
          "output_type": "execute_result",
          "data": {
            "text/plain": [
              "4958"
            ]
          },
          "metadata": {
            "tags": []
          },
          "execution_count": 34
        }
      ]
    },
    {
      "cell_type": "markdown",
      "metadata": {
        "id": "xZhBOARpTIK6",
        "colab_type": "text"
      },
      "source": [
        "## -------- embedding 모델 불러오기  --------\n"
      ]
    },
    {
      "cell_type": "code",
      "metadata": {
        "id": "onUP_6ZIWhTF",
        "colab_type": "code",
        "colab": {
          "base_uri": "https://localhost:8080/",
          "height": 72
        },
        "outputId": "06308245-332f-4d12-e785-50d09850a867"
      },
      "source": [
        "embedding_model = Word2Vec.load(\"/content/drive/My Drive/딥러닝_가사_프로젝트/embedding_model_v3.model\")"
      ],
      "execution_count": null,
      "outputs": [
        {
          "output_type": "stream",
          "text": [
            "/usr/local/lib/python3.6/dist-packages/smart_open/smart_open_lib.py:402: UserWarning: This function is deprecated, use smart_open.open instead. See the migration notes for details: https://github.com/RaRe-Technologies/smart_open/blob/master/README.rst#migrating-to-the-new-open-function\n",
            "  'See the migration notes for details: %s' % _MIGRATION_NOTES_URL\n"
          ],
          "name": "stderr"
        }
      ]
    },
    {
      "cell_type": "code",
      "metadata": {
        "id": "vK4DJm3mrf5V",
        "colab_type": "code",
        "colab": {}
      },
      "source": [
        "total_songs = ballad_songs[:4500]+trot_songs[:4500]+dance_songs[:4500] #dance / trot / ballad 모두 합치기 (for train / validation dataset)"
      ],
      "execution_count": null,
      "outputs": []
    },
    {
      "cell_type": "code",
      "metadata": {
        "id": "laOftzC5jBqW",
        "colab_type": "code",
        "colab": {}
      },
      "source": [
        "from keras.preprocessing.sequence import pad_sequences\n",
        "from keras.preprocessing.text import Tokenizer\n",
        "\n",
        "maxlen = 100  #한곡 당 최대 100개의 단어 포함하게 만들기 \n",
        "max_words = 7000 #  top 7000 words in the dataset\n",
        "\n",
        "tokenizer = Tokenizer(num_words=max_words) \n",
        "tokenizer.fit_on_texts(total_songs)\n",
        "sequences = tokenizer.texts_to_sequences(total_songs)\n",
        "total_sequences = pad_sequences(sequences, maxlen=maxlen)"
      ],
      "execution_count": null,
      "outputs": []
    },
    {
      "cell_type": "code",
      "metadata": {
        "id": "dh8fSfP9ntBD",
        "colab_type": "code",
        "colab": {}
      },
      "source": [
        "word_index = tokenizer.word_index"
      ],
      "execution_count": null,
      "outputs": []
    },
    {
      "cell_type": "code",
      "metadata": {
        "id": "99w6EcK5sftF",
        "colab_type": "code",
        "colab": {}
      },
      "source": [
        "# 사전학습된 word2vec 과 기존 데이터를 바탕으로 시퀀스화된 word index dictionary 숫자 맞춰주기.\n",
        "import numpy as np\n",
        "embedding_dim = 100\n",
        "embedding_matrix = np.zeros((max_words, embedding_dim))\n",
        "for word, i in word_index.items():\n",
        "  if word in embedding_model.wv.index2entity:\n",
        "    embedding_vector = embedding_model.wv.word_vec(word)\n",
        "    if i < max_words:\n",
        "        if embedding_vector is not None:\n",
        "            # Words not found in embedding index will be all-zeros.\n",
        "            embedding_matrix[i] = embedding_vector"
      ],
      "execution_count": null,
      "outputs": []
    },
    {
      "cell_type": "code",
      "metadata": {
        "id": "y0D7rv0pKFvP",
        "colab_type": "code",
        "colab": {}
      },
      "source": [
        "ballad_train = total_sequences[:3500]\n",
        "ballad_valid = total_sequences[3500:4500]\n",
        "\n",
        "trot_train = total_sequences[4500:8000]\n",
        "trot_valid = total_sequences[8000:9000]\n",
        "\n",
        "dance_train = total_sequences[9000:12500]\n",
        "dance_valid = total_sequences[12500:13500]"
      ],
      "execution_count": null,
      "outputs": []
    },
    {
      "cell_type": "code",
      "metadata": {
        "id": "b4QxB5TCiYC4",
        "colab_type": "code",
        "colab": {
          "base_uri": "https://localhost:8080/",
          "height": 175
        },
        "outputId": "7e922506-bb3c-49cc-9923-0c8f31cfed7d"
      },
      "source": [
        "print(\"+++++++ ballad ++++++++++\")\n",
        "print(len(ballad_train))\n",
        "print(len(ballad_valid))\n",
        "print(\"++++++++ trot +++++++++\")\n",
        "print(len(trot_train))\n",
        "print(len(trot_valid))\n",
        "print(\"++++++++ dance +++++++++\")\n",
        "print(len(dance_train))\n",
        "print(len(dance_valid))"
      ],
      "execution_count": null,
      "outputs": [
        {
          "output_type": "stream",
          "text": [
            "+++++++ ballad ++++++++++\n",
            "3500\n",
            "1000\n",
            "++++++++ trot +++++++++\n",
            "3500\n",
            "1000\n",
            "++++++++ dance +++++++++\n",
            "3500\n",
            "1000\n"
          ],
          "name": "stdout"
        }
      ]
    },
    {
      "cell_type": "markdown",
      "metadata": {
        "id": "xL1Jv7eYjAIk",
        "colab_type": "text"
      },
      "source": [
        "### ballad VS dacne"
      ]
    },
    {
      "cell_type": "code",
      "metadata": {
        "id": "8wruLJl9xHSp",
        "colab_type": "code",
        "colab": {}
      },
      "source": [
        "# 발라드+댄스 데이터 합치기(train/valid)\n",
        "ballad_dance_train = np.concatenate((ballad_train, dance_train), axis = 0)\n",
        "ballad_dance_valid = np.concatenate((ballad_valid, dance_valid), axis = 0)\n",
        "\n",
        "# test dataset 시퀀스화\n",
        "ballad_dance_test = ballad_songs[4500:]+dance_songs[4500:]\n",
        "test_sequences = tokenizer.texts_to_sequences(ballad_dance_test)\n",
        "ballad_dance_test = pad_sequences(test_sequences, maxlen=maxlen)"
      ],
      "execution_count": null,
      "outputs": []
    },
    {
      "cell_type": "code",
      "metadata": {
        "id": "ckFQ4lWq2Uow",
        "colab_type": "code",
        "colab": {}
      },
      "source": [
        "# 발라드+댄스 target 데이터 만들기\n",
        "ballad_dance_train_target = []\n",
        "for i in range(3500): ## 0~3499 : 0 (발라드)\n",
        "    ballad_dance_train_target.append(0) \n",
        "for i in range(3500):\n",
        "    ballad_dance_train_target.append(1)   ## 3500~7000: 1 (댄스)\n",
        " \n",
        "ballad_dance_valid_target = []\n",
        "for i in range(1000):\n",
        "    ballad_dance_valid_target.append(0)   \n",
        "for i in range(1000):\n",
        "    ballad_dance_valid_target.append(1)   \n",
        "\n",
        "ballad_dance_test_target = []\n",
        "for i in range(455):\n",
        "    ballad_dance_test_target.append(0)   \n",
        "for i in range(458):\n",
        "    ballad_dance_test_target.append(1)   "
      ],
      "execution_count": null,
      "outputs": []
    },
    {
      "cell_type": "markdown",
      "metadata": {
        "id": "6-P8WaMQxQZT",
        "colab_type": "text"
      },
      "source": [
        "**오버피팅된 모델**"
      ]
    },
    {
      "cell_type": "code",
      "metadata": {
        "id": "3CaOAXLWxVl7",
        "colab_type": "code",
        "colab": {}
      },
      "source": [
        "model = models.Sequential()\n",
        "model.add(Embedding(max_words, embedding_dim, input_length=maxlen, weights=[embedding_matrix],trainable=False))\n",
        "model.add(LSTM(128,return_sequences=True))\n",
        "model.add(LSTM(64,return_sequences=True))\n",
        "model.add(LSTM(16))\n",
        "model.add(layers.Dense(1, activation='sigmoid'))\n",
        "\n",
        "model.compile(optimizer=optimizers.RMSprop(lr=0.005), \n",
        "              loss='binary_crossentropy',\n",
        "              metrics=['accuracy'])"
      ],
      "execution_count": null,
      "outputs": []
    },
    {
      "cell_type": "code",
      "metadata": {
        "id": "XEEL2U61xbnI",
        "colab_type": "code",
        "colab": {
          "base_uri": "https://localhost:8080/",
          "height": 334
        },
        "outputId": "6c6160d3-7b49-4f54-c78b-07df2c43001b"
      },
      "source": [
        "model.summary()"
      ],
      "execution_count": null,
      "outputs": [
        {
          "output_type": "stream",
          "text": [
            "Model: \"sequential_36\"\n",
            "_________________________________________________________________\n",
            "Layer (type)                 Output Shape              Param #   \n",
            "=================================================================\n",
            "embedding_36 (Embedding)     (None, 100, 100)          500000    \n",
            "_________________________________________________________________\n",
            "lstm_25 (LSTM)               (None, 100, 128)          117248    \n",
            "_________________________________________________________________\n",
            "lstm_26 (LSTM)               (None, 100, 64)           49408     \n",
            "_________________________________________________________________\n",
            "lstm_27 (LSTM)               (None, 16)                5184      \n",
            "_________________________________________________________________\n",
            "dense_36 (Dense)             (None, 1)                 17        \n",
            "=================================================================\n",
            "Total params: 671,857\n",
            "Trainable params: 171,857\n",
            "Non-trainable params: 500,000\n",
            "_________________________________________________________________\n"
          ],
          "name": "stdout"
        }
      ]
    },
    {
      "cell_type": "code",
      "metadata": {
        "id": "XeZCoPANxwhw",
        "colab_type": "code",
        "colab": {
          "base_uri": "https://localhost:8080/",
          "height": 1000
        },
        "outputId": "5db230e8-f2cf-4670-8e99-937a4dc0f4ce"
      },
      "source": [
        "history = model.fit(ballad_dance_train,ballad_dance_train_target,\n",
        "                    validation_data=(ballad_dance_valid,ballad_dance_valid_target),\n",
        "                    epochs=50, batch_size=256)"
      ],
      "execution_count": null,
      "outputs": [
        {
          "output_type": "stream",
          "text": [
            "Train on 7000 samples, validate on 2000 samples\n",
            "Epoch 1/50\n",
            "7000/7000 [==============================] - 26s 4ms/step - loss: 0.6221 - acc: 0.6636 - val_loss: 0.5808 - val_acc: 0.7210\n",
            "Epoch 2/50\n",
            "7000/7000 [==============================] - 13s 2ms/step - loss: 0.5033 - acc: 0.7703 - val_loss: 0.5030 - val_acc: 0.7610\n",
            "Epoch 3/50\n",
            "7000/7000 [==============================] - 13s 2ms/step - loss: 0.4471 - acc: 0.8004 - val_loss: 0.4781 - val_acc: 0.7755\n",
            "Epoch 4/50\n",
            "7000/7000 [==============================] - 13s 2ms/step - loss: 0.3946 - acc: 0.8239 - val_loss: 0.4632 - val_acc: 0.7800\n",
            "Epoch 5/50\n",
            "7000/7000 [==============================] - 13s 2ms/step - loss: 0.3621 - acc: 0.8477 - val_loss: 0.4766 - val_acc: 0.7435\n",
            "Epoch 6/50\n",
            "7000/7000 [==============================] - 13s 2ms/step - loss: 0.3420 - acc: 0.8520 - val_loss: 0.4287 - val_acc: 0.8185\n",
            "Epoch 7/50\n",
            "7000/7000 [==============================] - 13s 2ms/step - loss: 0.2956 - acc: 0.8781 - val_loss: 0.4549 - val_acc: 0.8160\n",
            "Epoch 8/50\n",
            "7000/7000 [==============================] - 13s 2ms/step - loss: 0.2718 - acc: 0.8867 - val_loss: 0.4027 - val_acc: 0.8335\n",
            "Epoch 9/50\n",
            "7000/7000 [==============================] - 13s 2ms/step - loss: 0.2349 - acc: 0.9054 - val_loss: 0.4459 - val_acc: 0.8035\n",
            "Epoch 10/50\n",
            "7000/7000 [==============================] - 13s 2ms/step - loss: 0.2087 - acc: 0.9144 - val_loss: 0.4687 - val_acc: 0.8240\n",
            "Epoch 11/50\n",
            "7000/7000 [==============================] - 13s 2ms/step - loss: 0.1841 - acc: 0.9277 - val_loss: 0.4655 - val_acc: 0.8295\n",
            "Epoch 12/50\n",
            "7000/7000 [==============================] - 13s 2ms/step - loss: 0.1504 - acc: 0.9457 - val_loss: 0.4799 - val_acc: 0.8350\n",
            "Epoch 13/50\n",
            "7000/7000 [==============================] - 13s 2ms/step - loss: 0.1210 - acc: 0.9576 - val_loss: 0.5608 - val_acc: 0.8365\n",
            "Epoch 14/50\n",
            "7000/7000 [==============================] - 13s 2ms/step - loss: 0.0967 - acc: 0.9674 - val_loss: 0.5685 - val_acc: 0.8235\n",
            "Epoch 15/50\n",
            "7000/7000 [==============================] - 13s 2ms/step - loss: 0.0689 - acc: 0.9796 - val_loss: 0.6101 - val_acc: 0.8280\n",
            "Epoch 16/50\n",
            "7000/7000 [==============================] - 13s 2ms/step - loss: 0.0746 - acc: 0.9743 - val_loss: 0.5775 - val_acc: 0.8285\n",
            "Epoch 17/50\n",
            "7000/7000 [==============================] - 13s 2ms/step - loss: 0.0474 - acc: 0.9856 - val_loss: 0.6436 - val_acc: 0.8370\n",
            "Epoch 18/50\n",
            "7000/7000 [==============================] - 13s 2ms/step - loss: 0.0432 - acc: 0.9871 - val_loss: 0.6796 - val_acc: 0.8335\n",
            "Epoch 19/50\n",
            "7000/7000 [==============================] - 13s 2ms/step - loss: 0.0473 - acc: 0.9860 - val_loss: 0.6823 - val_acc: 0.8375\n",
            "Epoch 20/50\n",
            "7000/7000 [==============================] - 13s 2ms/step - loss: 0.0313 - acc: 0.9909 - val_loss: 0.7578 - val_acc: 0.8280\n",
            "Epoch 21/50\n",
            "7000/7000 [==============================] - 13s 2ms/step - loss: 0.0407 - acc: 0.9874 - val_loss: 0.7676 - val_acc: 0.8380\n",
            "Epoch 22/50\n",
            "7000/7000 [==============================] - 13s 2ms/step - loss: 0.0368 - acc: 0.9887 - val_loss: 0.7336 - val_acc: 0.8255\n",
            "Epoch 23/50\n",
            "7000/7000 [==============================] - 13s 2ms/step - loss: 0.0287 - acc: 0.9911 - val_loss: 0.7924 - val_acc: 0.8290\n",
            "Epoch 24/50\n",
            "7000/7000 [==============================] - 13s 2ms/step - loss: 0.0215 - acc: 0.9924 - val_loss: 0.8725 - val_acc: 0.8345\n",
            "Epoch 25/50\n",
            "7000/7000 [==============================] - 13s 2ms/step - loss: 0.0377 - acc: 0.9873 - val_loss: 0.7426 - val_acc: 0.8275\n",
            "Epoch 26/50\n",
            "7000/7000 [==============================] - 13s 2ms/step - loss: 0.0190 - acc: 0.9946 - val_loss: 0.8383 - val_acc: 0.8250\n",
            "Epoch 27/50\n",
            "7000/7000 [==============================] - 13s 2ms/step - loss: 0.0194 - acc: 0.9937 - val_loss: 0.8783 - val_acc: 0.8320\n",
            "Epoch 28/50\n",
            "7000/7000 [==============================] - 13s 2ms/step - loss: 0.0249 - acc: 0.9920 - val_loss: 0.9024 - val_acc: 0.8250\n",
            "Epoch 29/50\n",
            "7000/7000 [==============================] - 13s 2ms/step - loss: 0.0250 - acc: 0.9933 - val_loss: 0.8305 - val_acc: 0.8390\n",
            "Epoch 30/50\n",
            "7000/7000 [==============================] - 13s 2ms/step - loss: 0.0216 - acc: 0.9923 - val_loss: 0.7479 - val_acc: 0.8310\n",
            "Epoch 31/50\n",
            "7000/7000 [==============================] - 13s 2ms/step - loss: 0.0178 - acc: 0.9943 - val_loss: 0.7945 - val_acc: 0.8250\n",
            "Epoch 32/50\n",
            "7000/7000 [==============================] - 13s 2ms/step - loss: 0.0203 - acc: 0.9933 - val_loss: 0.8658 - val_acc: 0.8365\n",
            "Epoch 33/50\n",
            "7000/7000 [==============================] - 13s 2ms/step - loss: 0.0157 - acc: 0.9950 - val_loss: 1.0019 - val_acc: 0.8115\n",
            "Epoch 34/50\n",
            "7000/7000 [==============================] - 13s 2ms/step - loss: 0.0239 - acc: 0.9920 - val_loss: 0.8042 - val_acc: 0.8315\n",
            "Epoch 35/50\n",
            "7000/7000 [==============================] - 13s 2ms/step - loss: 0.0200 - acc: 0.9937 - val_loss: 0.8406 - val_acc: 0.8300\n",
            "Epoch 36/50\n",
            "7000/7000 [==============================] - 13s 2ms/step - loss: 0.0135 - acc: 0.9946 - val_loss: 0.8452 - val_acc: 0.8330\n",
            "Epoch 37/50\n",
            "7000/7000 [==============================] - 13s 2ms/step - loss: 0.0195 - acc: 0.9929 - val_loss: 0.8965 - val_acc: 0.8290\n",
            "Epoch 38/50\n",
            "7000/7000 [==============================] - 13s 2ms/step - loss: 0.0152 - acc: 0.9950 - val_loss: 0.8399 - val_acc: 0.8355\n",
            "Epoch 39/50\n",
            "7000/7000 [==============================] - 13s 2ms/step - loss: 0.0127 - acc: 0.9959 - val_loss: 0.9229 - val_acc: 0.8400\n",
            "Epoch 40/50\n",
            "7000/7000 [==============================] - 13s 2ms/step - loss: 0.0157 - acc: 0.9949 - val_loss: 0.8565 - val_acc: 0.8375\n",
            "Epoch 41/50\n",
            "7000/7000 [==============================] - 13s 2ms/step - loss: 0.0162 - acc: 0.9939 - val_loss: 0.8840 - val_acc: 0.8300\n",
            "Epoch 42/50\n",
            "7000/7000 [==============================] - 13s 2ms/step - loss: 0.0151 - acc: 0.9944 - val_loss: 0.8980 - val_acc: 0.8390\n",
            "Epoch 43/50\n",
            "7000/7000 [==============================] - 13s 2ms/step - loss: 0.0084 - acc: 0.9973 - val_loss: 1.0943 - val_acc: 0.8335\n",
            "Epoch 44/50\n",
            "7000/7000 [==============================] - 13s 2ms/step - loss: 0.0174 - acc: 0.9946 - val_loss: 0.9367 - val_acc: 0.8320\n",
            "Epoch 45/50\n",
            "7000/7000 [==============================] - 13s 2ms/step - loss: 0.0155 - acc: 0.9946 - val_loss: 0.8513 - val_acc: 0.8375\n",
            "Epoch 46/50\n",
            "7000/7000 [==============================] - 13s 2ms/step - loss: 0.0115 - acc: 0.9964 - val_loss: 0.9055 - val_acc: 0.8355\n",
            "Epoch 47/50\n",
            "7000/7000 [==============================] - 13s 2ms/step - loss: 0.0122 - acc: 0.9951 - val_loss: 0.8996 - val_acc: 0.8250\n",
            "Epoch 48/50\n",
            "7000/7000 [==============================] - 13s 2ms/step - loss: 0.0195 - acc: 0.9936 - val_loss: 0.8608 - val_acc: 0.8275\n",
            "Epoch 49/50\n",
            "7000/7000 [==============================] - 13s 2ms/step - loss: 0.0150 - acc: 0.9947 - val_loss: 0.8857 - val_acc: 0.8370\n",
            "Epoch 50/50\n",
            "7000/7000 [==============================] - 13s 2ms/step - loss: 0.0100 - acc: 0.9969 - val_loss: 0.9341 - val_acc: 0.8385\n"
          ],
          "name": "stdout"
        }
      ]
    },
    {
      "cell_type": "code",
      "metadata": {
        "id": "gdeO57OSxfPa",
        "colab_type": "code",
        "colab": {
          "base_uri": "https://localhost:8080/",
          "height": 545
        },
        "outputId": "cff6ab0b-e814-4606-c008-82f9647a0c39"
      },
      "source": [
        "import matplotlib.pyplot as plt\n",
        "\n",
        "acc = history.history['acc']\n",
        "val_acc = history.history['val_acc']\n",
        "loss = history.history['loss']\n",
        "val_loss = history.history['val_loss']\n",
        "\n",
        "epochs = range(1, len(acc) + 1)\n",
        "\n",
        "plt.plot(epochs, acc, 'bo', label='Training acc')\n",
        "plt.plot(epochs, val_acc, 'b', label='Validation acc')\n",
        "plt.title('Training and validation accuracy')\n",
        "plt.legend()\n",
        "\n",
        "plt.figure()\n",
        "\n",
        "plt.plot(epochs, loss, 'bo', label='Training loss')\n",
        "plt.plot(epochs, val_loss, 'b', label='Validation loss')\n",
        "plt.title('Training and validation loss')\n",
        "plt.legend()\n",
        "\n",
        "plt.show()"
      ],
      "execution_count": null,
      "outputs": [
        {
          "output_type": "display_data",
          "data": {
            "image/png": "[encoded data removed]",
            "text/plain": [
              "<Figure size 432x288 with 1 Axes>"
            ]
          },
          "metadata": {
            "tags": []
          }
        },
        {
          "output_type": "display_data",
          "data": {
            "image/png": "[encoded data removed]",
            "text/plain": [
              "<Figure size 432x288 with 1 Axes>"
            ]
          },
          "metadata": {
            "tags": []
          }
        }
      ]
    },
    {
      "cell_type": "markdown",
      "metadata": {
        "id": "VaDfjshVx1nP",
        "colab_type": "text"
      },
      "source": [
        "**파라미터 튜닝 후 개선된 모델**"
      ]
    },
    {
      "cell_type": "code",
      "metadata": {
        "id": "zOtQBYptKMjk",
        "colab_type": "code",
        "colab": {}
      },
      "source": [
        "model2 = models.Sequential()\n",
        "model2.add(Embedding(max_words, embedding_dim, input_length=maxlen, weights=[embedding_matrix],trainable=False))\n",
        "model2.add(layers.Dropout(0.5))\n",
        "model2.add(LSTM(64,return_sequences=True))\n",
        "model2.add(LSTM(64,return_sequences=True))\n",
        "model2.add(LSTM(16))\n",
        "model2.add(layers.Dense(1, activation='sigmoid'))\n",
        "\n",
        "model2.compile(optimizer=optimizers.RMSprop(lr=0.0001), \n",
        "              loss='binary_crossentropy',\n",
        "              metrics=['accuracy'])"
      ],
      "execution_count": null,
      "outputs": []
    },
    {
      "cell_type": "code",
      "metadata": {
        "id": "EM4LjbsRl9ea",
        "colab_type": "code",
        "colab": {
          "base_uri": "https://localhost:8080/",
          "height": 369
        },
        "outputId": "2c40623e-aa54-4efc-f5a2-23a1b80a4d0d"
      },
      "source": [
        "model2.summary()"
      ],
      "execution_count": null,
      "outputs": [
        {
          "output_type": "stream",
          "text": [
            "Model: \"sequential_35\"\n",
            "_________________________________________________________________\n",
            "Layer (type)                 Output Shape              Param #   \n",
            "=================================================================\n",
            "embedding_35 (Embedding)     (None, 100, 100)          500000    \n",
            "_________________________________________________________________\n",
            "dropout_34 (Dropout)         (None, 100, 100)          0         \n",
            "_________________________________________________________________\n",
            "lstm_22 (LSTM)               (None, 100, 64)           42240     \n",
            "_________________________________________________________________\n",
            "lstm_23 (LSTM)               (None, 100, 64)           33024     \n",
            "_________________________________________________________________\n",
            "lstm_24 (LSTM)               (None, 16)                5184      \n",
            "_________________________________________________________________\n",
            "dense_35 (Dense)             (None, 1)                 17        \n",
            "=================================================================\n",
            "Total params: 580,465\n",
            "Trainable params: 80,465\n",
            "Non-trainable params: 500,000\n",
            "_________________________________________________________________\n"
          ],
          "name": "stdout"
        }
      ]
    },
    {
      "cell_type": "code",
      "metadata": {
        "id": "glL9T2MTKWvK",
        "colab_type": "code",
        "colab": {
          "base_uri": "https://localhost:8080/",
          "height": 1000
        },
        "outputId": "18d591f8-028c-4a4e-958d-e39a8452b828"
      },
      "source": [
        "history2 = model2.fit(ballad_dance_train,ballad_dance_train_target,\n",
        "                    validation_data=(ballad_dance_valid,ballad_dance_valid_target),\n",
        "                    epochs=50, batch_size=512)"
      ],
      "execution_count": null,
      "outputs": [
        {
          "output_type": "stream",
          "text": [
            "Train on 7000 samples, validate on 2000 samples\n",
            "Epoch 1/50\n",
            "7000/7000 [==============================] - 19s 3ms/step - loss: 0.6863 - acc: 0.5646 - val_loss: 0.6717 - val_acc: 0.6330\n",
            "Epoch 2/50\n",
            "7000/7000 [==============================] - 6s 920us/step - loss: 0.6663 - acc: 0.6520 - val_loss: 0.6475 - val_acc: 0.6715\n",
            "Epoch 3/50\n",
            "7000/7000 [==============================] - 6s 905us/step - loss: 0.6423 - acc: 0.6836 - val_loss: 0.6174 - val_acc: 0.7050\n",
            "Epoch 4/50\n",
            "7000/7000 [==============================] - 6s 901us/step - loss: 0.6121 - acc: 0.7139 - val_loss: 0.5844 - val_acc: 0.7205\n",
            "Epoch 5/50\n",
            "7000/7000 [==============================] - 6s 916us/step - loss: 0.5806 - acc: 0.7251 - val_loss: 0.5575 - val_acc: 0.7305\n",
            "Epoch 6/50\n",
            "7000/7000 [==============================] - 6s 918us/step - loss: 0.5498 - acc: 0.7389 - val_loss: 0.5394 - val_acc: 0.7360\n",
            "Epoch 7/50\n",
            "7000/7000 [==============================] - 6s 899us/step - loss: 0.5273 - acc: 0.7551 - val_loss: 0.5307 - val_acc: 0.7420\n",
            "Epoch 8/50\n",
            "7000/7000 [==============================] - 6s 915us/step - loss: 0.5090 - acc: 0.7626 - val_loss: 0.5312 - val_acc: 0.7505\n",
            "Epoch 9/50\n",
            "7000/7000 [==============================] - 6s 901us/step - loss: 0.4930 - acc: 0.7771 - val_loss: 0.5252 - val_acc: 0.7535\n",
            "Epoch 10/50\n",
            "7000/7000 [==============================] - 6s 913us/step - loss: 0.4857 - acc: 0.7831 - val_loss: 0.5228 - val_acc: 0.7620\n",
            "Epoch 11/50\n",
            "7000/7000 [==============================] - 6s 917us/step - loss: 0.4792 - acc: 0.7849 - val_loss: 0.5241 - val_acc: 0.7605\n",
            "Epoch 12/50\n",
            "7000/7000 [==============================] - 6s 922us/step - loss: 0.4771 - acc: 0.7839 - val_loss: 0.5199 - val_acc: 0.7650\n",
            "Epoch 13/50\n",
            "7000/7000 [==============================] - 6s 914us/step - loss: 0.4748 - acc: 0.7844 - val_loss: 0.5183 - val_acc: 0.7640\n",
            "Epoch 14/50\n",
            "7000/7000 [==============================] - 6s 916us/step - loss: 0.4653 - acc: 0.7913 - val_loss: 0.5135 - val_acc: 0.7650\n",
            "Epoch 15/50\n",
            "7000/7000 [==============================] - 6s 897us/step - loss: 0.4648 - acc: 0.7903 - val_loss: 0.5181 - val_acc: 0.7665\n",
            "Epoch 16/50\n",
            "7000/7000 [==============================] - 6s 901us/step - loss: 0.4624 - acc: 0.7901 - val_loss: 0.5091 - val_acc: 0.7680\n",
            "Epoch 17/50\n",
            "7000/7000 [==============================] - 6s 906us/step - loss: 0.4620 - acc: 0.7946 - val_loss: 0.5055 - val_acc: 0.7705\n",
            "Epoch 18/50\n",
            "7000/7000 [==============================] - 6s 908us/step - loss: 0.4531 - acc: 0.7961 - val_loss: 0.5048 - val_acc: 0.7745\n",
            "Epoch 19/50\n",
            "7000/7000 [==============================] - 6s 918us/step - loss: 0.4534 - acc: 0.7950 - val_loss: 0.4905 - val_acc: 0.7720\n",
            "Epoch 20/50\n",
            "7000/7000 [==============================] - 6s 908us/step - loss: 0.4450 - acc: 0.8023 - val_loss: 0.4933 - val_acc: 0.7740\n",
            "Epoch 21/50\n",
            "7000/7000 [==============================] - 6s 923us/step - loss: 0.4408 - acc: 0.8054 - val_loss: 0.4908 - val_acc: 0.7735\n",
            "Epoch 22/50\n",
            "7000/7000 [==============================] - 6s 918us/step - loss: 0.4469 - acc: 0.7990 - val_loss: 0.4875 - val_acc: 0.7710\n",
            "Epoch 23/50\n",
            "7000/7000 [==============================] - 6s 904us/step - loss: 0.4351 - acc: 0.8033 - val_loss: 0.4884 - val_acc: 0.7715\n",
            "Epoch 24/50\n",
            "7000/7000 [==============================] - 6s 913us/step - loss: 0.4401 - acc: 0.8007 - val_loss: 0.4712 - val_acc: 0.7815\n",
            "Epoch 25/50\n",
            "7000/7000 [==============================] - 6s 926us/step - loss: 0.4294 - acc: 0.8066 - val_loss: 0.4721 - val_acc: 0.7730\n",
            "Epoch 26/50\n",
            "7000/7000 [==============================] - 6s 913us/step - loss: 0.4265 - acc: 0.8113 - val_loss: 0.4721 - val_acc: 0.7795\n",
            "Epoch 27/50\n",
            "7000/7000 [==============================] - 6s 911us/step - loss: 0.4241 - acc: 0.8099 - val_loss: 0.4648 - val_acc: 0.7715\n",
            "Epoch 28/50\n",
            "7000/7000 [==============================] - 6s 915us/step - loss: 0.4258 - acc: 0.8046 - val_loss: 0.4618 - val_acc: 0.7830\n",
            "Epoch 29/50\n",
            "7000/7000 [==============================] - 7s 972us/step - loss: 0.4214 - acc: 0.8091 - val_loss: 0.4581 - val_acc: 0.7845\n",
            "Epoch 30/50\n",
            "7000/7000 [==============================] - 7s 945us/step - loss: 0.4208 - acc: 0.8116 - val_loss: 0.4625 - val_acc: 0.7850\n",
            "Epoch 31/50\n",
            "7000/7000 [==============================] - 6s 917us/step - loss: 0.4182 - acc: 0.8111 - val_loss: 0.4668 - val_acc: 0.7855\n",
            "Epoch 32/50\n",
            "7000/7000 [==============================] - 6s 911us/step - loss: 0.4148 - acc: 0.8166 - val_loss: 0.4583 - val_acc: 0.7780\n",
            "Epoch 33/50\n",
            "7000/7000 [==============================] - 6s 917us/step - loss: 0.4102 - acc: 0.8163 - val_loss: 0.4534 - val_acc: 0.7875\n",
            "Epoch 34/50\n",
            "7000/7000 [==============================] - 6s 908us/step - loss: 0.4122 - acc: 0.8170 - val_loss: 0.4526 - val_acc: 0.7810\n",
            "Epoch 35/50\n",
            "7000/7000 [==============================] - 6s 908us/step - loss: 0.4078 - acc: 0.8224 - val_loss: 0.4550 - val_acc: 0.7825\n",
            "Epoch 36/50\n",
            "7000/7000 [==============================] - 6s 917us/step - loss: 0.4111 - acc: 0.8156 - val_loss: 0.4574 - val_acc: 0.7770\n",
            "Epoch 37/50\n",
            "7000/7000 [==============================] - 6s 917us/step - loss: 0.4082 - acc: 0.8207 - val_loss: 0.4744 - val_acc: 0.7930\n",
            "Epoch 38/50\n",
            "7000/7000 [==============================] - 6s 923us/step - loss: 0.4073 - acc: 0.8189 - val_loss: 0.4534 - val_acc: 0.7910\n",
            "Epoch 39/50\n",
            "7000/7000 [==============================] - 6s 923us/step - loss: 0.4059 - acc: 0.8181 - val_loss: 0.4555 - val_acc: 0.7915\n",
            "Epoch 40/50\n",
            "7000/7000 [==============================] - 6s 911us/step - loss: 0.4019 - acc: 0.8230 - val_loss: 0.4553 - val_acc: 0.7830\n",
            "Epoch 41/50\n",
            "7000/7000 [==============================] - 6s 907us/step - loss: 0.4018 - acc: 0.8204 - val_loss: 0.4506 - val_acc: 0.7885\n",
            "Epoch 42/50\n",
            "7000/7000 [==============================] - 6s 919us/step - loss: 0.4015 - acc: 0.8210 - val_loss: 0.4493 - val_acc: 0.7860\n",
            "Epoch 43/50\n",
            "7000/7000 [==============================] - 6s 904us/step - loss: 0.3986 - acc: 0.8214 - val_loss: 0.4834 - val_acc: 0.7905\n",
            "Epoch 44/50\n",
            "7000/7000 [==============================] - 6s 912us/step - loss: 0.4026 - acc: 0.8183 - val_loss: 0.4533 - val_acc: 0.7940\n",
            "Epoch 45/50\n",
            "7000/7000 [==============================] - 6s 906us/step - loss: 0.3973 - acc: 0.8241 - val_loss: 0.4447 - val_acc: 0.7920\n",
            "Epoch 46/50\n",
            "7000/7000 [==============================] - 6s 907us/step - loss: 0.4013 - acc: 0.8186 - val_loss: 0.4672 - val_acc: 0.7935\n",
            "Epoch 47/50\n",
            "7000/7000 [==============================] - 7s 935us/step - loss: 0.3985 - acc: 0.8226 - val_loss: 0.4455 - val_acc: 0.7895\n",
            "Epoch 48/50\n",
            "7000/7000 [==============================] - 6s 911us/step - loss: 0.3958 - acc: 0.8239 - val_loss: 0.4459 - val_acc: 0.7875\n",
            "Epoch 49/50\n",
            "7000/7000 [==============================] - 6s 928us/step - loss: 0.3994 - acc: 0.8203 - val_loss: 0.4647 - val_acc: 0.7950\n",
            "Epoch 50/50\n",
            "7000/7000 [==============================] - 6s 929us/step - loss: 0.3942 - acc: 0.8251 - val_loss: 0.4488 - val_acc: 0.7950\n"
          ],
          "name": "stdout"
        }
      ]
    },
    {
      "cell_type": "code",
      "metadata": {
        "id": "Rs2DaglElrOl",
        "colab_type": "code",
        "colab": {
          "base_uri": "https://localhost:8080/",
          "height": 545
        },
        "outputId": "a352e1a3-3b72-4698-dc97-a602e4b6f669"
      },
      "source": [
        "import matplotlib.pyplot as plt\n",
        "\n",
        "acc = history2.history['acc']\n",
        "val_acc = history2.history['val_acc']\n",
        "loss = history2.history['loss']\n",
        "val_loss = history2.history['val_loss']\n",
        "\n",
        "epochs = range(1, len(acc) + 1)\n",
        "\n",
        "plt.plot(epochs, acc, 'bo', label='Training acc')\n",
        "plt.plot(epochs, val_acc, 'b', label='Validation acc')\n",
        "plt.title('Training and validation accuracy')\n",
        "plt.legend()\n",
        "\n",
        "plt.figure()\n",
        "\n",
        "plt.plot(epochs, loss, 'bo', label='Training loss')\n",
        "plt.plot(epochs, val_loss, 'b', label='Validation loss')\n",
        "plt.title('Training and validation loss')\n",
        "plt.legend()\n",
        "\n",
        "plt.show()"
      ],
      "execution_count": null,
      "outputs": [
        {
          "output_type": "display_data",
          "data": {
            "image/png": "[encoded data removed]",
            "text/plain": [
              "<Figure size 432x288 with 1 Axes>"
            ]
          },
          "metadata": {
            "tags": []
          }
        },
        {
          "output_type": "display_data",
          "data": {
            "image/png": "[encoded data removed]",
            "text/plain": [
              "<Figure size 432x288 with 1 Axes>"
            ]
          },
          "metadata": {
            "tags": []
          }
        }
      ]
    },
    {
      "cell_type": "code",
      "metadata": {
        "id": "ZdA8SB9w1gv2",
        "colab_type": "code",
        "colab": {
          "base_uri": "https://localhost:8080/",
          "height": 52
        },
        "outputId": "51c8641e-1723-494f-9f18-ca22e0638a1e"
      },
      "source": [
        "model2.evaluate(ballad_dance_test,ballad_dance_test_target)"
      ],
      "execution_count": null,
      "outputs": [
        {
          "output_type": "stream",
          "text": [
            "913/913 [==============================] - 5s 5ms/step\n"
          ],
          "name": "stdout"
        },
        {
          "output_type": "execute_result",
          "data": {
            "text/plain": [
              "[0.4782124213294941, 0.768893757171986]"
            ]
          },
          "metadata": {
            "tags": []
          },
          "execution_count": 200
        }
      ]
    },
    {
      "cell_type": "markdown",
      "metadata": {
        "id": "c_TYYw0Hv1C2",
        "colab_type": "text"
      },
      "source": [
        "## dance vs trot vs ballad"
      ]
    },
    {
      "cell_type": "code",
      "metadata": {
        "id": "qsyTve2Vv4qU",
        "colab_type": "code",
        "colab": {}
      },
      "source": [
        "# dance+ballad+trot 데이터 합치기(train/valid)\n",
        "all_train = np.concatenate((np.concatenate((ballad_train, dance_train), axis = 0),trot_train),axis=0)\n",
        "all_valid = np.concatenate((np.concatenate((ballad_valid, dance_valid), axis = 0),trot_valid),axis=0)\n",
        "\n",
        "# dance+ballad+trot test 데이터 시퀀스화\n",
        "all_test = ballad_songs[4500:]+dance_songs[4500:]+trot_songs[4500:]\n",
        "test_sequences = tokenizer.texts_to_sequences(all_test)\n",
        "all_test = pad_sequences(test_sequences, maxlen=maxlen)"
      ],
      "execution_count": null,
      "outputs": []
    },
    {
      "cell_type": "code",
      "metadata": {
        "id": "6DGN7ILrwNnn",
        "colab_type": "code",
        "colab": {}
      },
      "source": [
        "# target 변수 만들기\n",
        "\n",
        "all_train_target = []\n",
        "for i in range(3500): ## 0~3499 : 0 (발라드)\n",
        "    all_train_target.append(0) \n",
        "for i in range(3500):\n",
        "    all_train_target.append(1)   ## 3500~6999: 1 (댄스)\n",
        "for i in range(3500):\n",
        "    all_train_target.append(2)   ## 7000~ : 2 (트로트)\n",
        " \n",
        "all_valid_target = []\n",
        "for i in range(1000):\n",
        "    all_valid_target.append(0)   \n",
        "for i in range(1000):\n",
        "    all_valid_target.append(1)   \n",
        "for i in range(1000):\n",
        "    all_valid_target.append(2)   \n",
        "\n",
        "\n",
        "all_test_target = []\n",
        "for i in range(455):\n",
        "    all_test_target.append(0)   \n",
        "for i in range(458):\n",
        "    all_test_target.append(1)   \n",
        "for i in range(492):\n",
        "    all_test_target.append(2)  "
      ],
      "execution_count": null,
      "outputs": []
    },
    {
      "cell_type": "code",
      "metadata": {
        "id": "t7h9r0Jow5W2",
        "colab_type": "code",
        "colab": {}
      },
      "source": [
        "from keras.utils.np_utils import to_categorical\n",
        "# target변수 one-hot\n",
        "one_hot_train_labels = to_categorical(all_train_target)\n",
        "one_hot_valid_labels = to_categorical(all_valid_target)\n",
        "one_hot_test_labels = to_categorical(all_test_target)"
      ],
      "execution_count": null,
      "outputs": []
    },
    {
      "cell_type": "markdown",
      "metadata": {
        "id": "1xOavVNK1B8E",
        "colab_type": "text"
      },
      "source": [
        "**오버피팅된 모델**"
      ]
    },
    {
      "cell_type": "code",
      "metadata": {
        "id": "zD54rqo5wuwK",
        "colab_type": "code",
        "colab": {}
      },
      "source": [
        "model3 = models.Sequential()\n",
        "model3.add(Embedding(max_words, embedding_dim, input_length=maxlen, weights=[embedding_matrix],trainable=False))\n",
        "model3.add(LSTM(128,return_sequences=True))\n",
        "model3.add(LSTM(64,return_sequences=True))\n",
        "model3.add(LSTM(16))\n",
        "model3.add(layers.Dense(3, activation='sigmoid'))\n",
        "\n",
        "model3.compile(optimizer=optimizers.RMSprop(lr=0.005), \n",
        "              loss='binary_crossentropy',\n",
        "              metrics=['accuracy'])"
      ],
      "execution_count": null,
      "outputs": []
    },
    {
      "cell_type": "code",
      "metadata": {
        "id": "LGaxAR-I1Jla",
        "colab_type": "code",
        "colab": {
          "base_uri": "https://localhost:8080/",
          "height": 1000
        },
        "outputId": "f532b73f-6350-4d69-ca4e-43a36e09ec13"
      },
      "source": [
        "history3 = model3.fit(all_train,one_hot_train_labels,\n",
        "                    validation_data=(all_valid,one_hot_valid_labels),\n",
        "                    epochs=50, batch_size=256)"
      ],
      "execution_count": null,
      "outputs": [
        {
          "output_type": "stream",
          "text": [
            "Train on 10500 samples, validate on 3000 samples\n",
            "Epoch 1/50\n",
            "10500/10500 [==============================] - 35s 3ms/step - loss: 0.5143 - acc: 0.7392 - val_loss: 0.6391 - val_acc: 0.6977\n",
            "Epoch 2/50\n",
            "10500/10500 [==============================] - 20s 2ms/step - loss: 0.3804 - acc: 0.8320 - val_loss: 0.5277 - val_acc: 0.7728\n",
            "Epoch 3/50\n",
            "10500/10500 [==============================] - 20s 2ms/step - loss: 0.3432 - acc: 0.8518 - val_loss: 0.3562 - val_acc: 0.8480\n",
            "Epoch 4/50\n",
            "10500/10500 [==============================] - 21s 2ms/step - loss: 0.3179 - acc: 0.8647 - val_loss: 0.3645 - val_acc: 0.8380\n",
            "Epoch 5/50\n",
            "10500/10500 [==============================] - 20s 2ms/step - loss: 0.2945 - acc: 0.8730 - val_loss: 0.3694 - val_acc: 0.8461\n",
            "Epoch 6/50\n",
            "10500/10500 [==============================] - 20s 2ms/step - loss: 0.2740 - acc: 0.8844 - val_loss: 0.4100 - val_acc: 0.7796\n",
            "Epoch 7/50\n",
            "10500/10500 [==============================] - 20s 2ms/step - loss: 0.2609 - acc: 0.8905 - val_loss: 0.4786 - val_acc: 0.7902\n",
            "Epoch 8/50\n",
            "10500/10500 [==============================] - 21s 2ms/step - loss: 0.2352 - acc: 0.9049 - val_loss: 0.3176 - val_acc: 0.8762\n",
            "Epoch 9/50\n",
            "10500/10500 [==============================] - 22s 2ms/step - loss: 0.2189 - acc: 0.9129 - val_loss: 0.3306 - val_acc: 0.8526\n",
            "Epoch 10/50\n",
            "10500/10500 [==============================] - 22s 2ms/step - loss: 0.2020 - acc: 0.9204 - val_loss: 0.3176 - val_acc: 0.8824\n",
            "Epoch 11/50\n",
            "10500/10500 [==============================] - 21s 2ms/step - loss: 0.1817 - acc: 0.9287 - val_loss: 0.3580 - val_acc: 0.8564\n",
            "Epoch 12/50\n",
            "10500/10500 [==============================] - 21s 2ms/step - loss: 0.1602 - acc: 0.9403 - val_loss: 0.4887 - val_acc: 0.8401\n",
            "Epoch 13/50\n",
            "10500/10500 [==============================] - 21s 2ms/step - loss: 0.1442 - acc: 0.9477 - val_loss: 0.3680 - val_acc: 0.8646\n",
            "Epoch 14/50\n",
            "10500/10500 [==============================] - 21s 2ms/step - loss: 0.1338 - acc: 0.9500 - val_loss: 0.3419 - val_acc: 0.8818\n",
            "Epoch 15/50\n",
            "10500/10500 [==============================] - 21s 2ms/step - loss: 0.1446 - acc: 0.9501 - val_loss: 0.3470 - val_acc: 0.8836\n",
            "Epoch 16/50\n",
            "10500/10500 [==============================] - 21s 2ms/step - loss: 0.1006 - acc: 0.9653 - val_loss: 0.4545 - val_acc: 0.8548\n",
            "Epoch 17/50\n",
            "10500/10500 [==============================] - 20s 2ms/step - loss: 0.0829 - acc: 0.9725 - val_loss: 0.4210 - val_acc: 0.8763\n",
            "Epoch 18/50\n",
            "10500/10500 [==============================] - 20s 2ms/step - loss: 0.0787 - acc: 0.9734 - val_loss: 0.3834 - val_acc: 0.8828\n",
            "Epoch 19/50\n",
            "10500/10500 [==============================] - 21s 2ms/step - loss: 0.0627 - acc: 0.9799 - val_loss: 0.4093 - val_acc: 0.8847\n",
            "Epoch 20/50\n",
            "10500/10500 [==============================] - 21s 2ms/step - loss: 0.0611 - acc: 0.9805 - val_loss: 0.4297 - val_acc: 0.8790\n",
            "Epoch 21/50\n",
            "10500/10500 [==============================] - 20s 2ms/step - loss: 0.0551 - acc: 0.9824 - val_loss: 0.4596 - val_acc: 0.8788\n",
            "Epoch 22/50\n",
            "10500/10500 [==============================] - 20s 2ms/step - loss: 0.0530 - acc: 0.9841 - val_loss: 0.4725 - val_acc: 0.8731\n",
            "Epoch 23/50\n",
            "10500/10500 [==============================] - 21s 2ms/step - loss: 0.0515 - acc: 0.9849 - val_loss: 0.4603 - val_acc: 0.8848\n",
            "Epoch 24/50\n",
            "10500/10500 [==============================] - 20s 2ms/step - loss: 0.0425 - acc: 0.9875 - val_loss: 0.4741 - val_acc: 0.8779\n",
            "Epoch 25/50\n",
            "10500/10500 [==============================] - 20s 2ms/step - loss: 0.0405 - acc: 0.9879 - val_loss: 0.4748 - val_acc: 0.8834\n",
            "Epoch 26/50\n",
            "10500/10500 [==============================] - 20s 2ms/step - loss: 0.0388 - acc: 0.9894 - val_loss: 0.4651 - val_acc: 0.8842\n",
            "Epoch 27/50\n",
            "10500/10500 [==============================] - 20s 2ms/step - loss: 0.0378 - acc: 0.9890 - val_loss: 0.5458 - val_acc: 0.8686\n",
            "Epoch 28/50\n",
            "10500/10500 [==============================] - 20s 2ms/step - loss: 0.0381 - acc: 0.9887 - val_loss: 0.6642 - val_acc: 0.8186\n",
            "Epoch 29/50\n",
            "10500/10500 [==============================] - 20s 2ms/step - loss: 0.0370 - acc: 0.9885 - val_loss: 0.5157 - val_acc: 0.8843\n",
            "Epoch 30/50\n",
            "10500/10500 [==============================] - 20s 2ms/step - loss: 0.0328 - acc: 0.9902 - val_loss: 0.5443 - val_acc: 0.8804\n",
            "Epoch 31/50\n",
            "10500/10500 [==============================] - 20s 2ms/step - loss: 0.0283 - acc: 0.9911 - val_loss: 0.5426 - val_acc: 0.8813\n",
            "Epoch 32/50\n",
            "10500/10500 [==============================] - 20s 2ms/step - loss: 0.0328 - acc: 0.9901 - val_loss: 0.5315 - val_acc: 0.8807\n",
            "Epoch 33/50\n",
            "10500/10500 [==============================] - 20s 2ms/step - loss: 0.0276 - acc: 0.9925 - val_loss: 0.5773 - val_acc: 0.8747\n",
            "Epoch 34/50\n",
            "10500/10500 [==============================] - 20s 2ms/step - loss: 0.0307 - acc: 0.9906 - val_loss: 0.5660 - val_acc: 0.8788\n",
            "Epoch 35/50\n",
            "10500/10500 [==============================] - 20s 2ms/step - loss: 0.0247 - acc: 0.9925 - val_loss: 0.5470 - val_acc: 0.8813\n",
            "Epoch 36/50\n",
            "10500/10500 [==============================] - 20s 2ms/step - loss: 0.0271 - acc: 0.9923 - val_loss: 0.5505 - val_acc: 0.8854\n",
            "Epoch 37/50\n",
            "10500/10500 [==============================] - 20s 2ms/step - loss: 0.0218 - acc: 0.9934 - val_loss: 0.5738 - val_acc: 0.8820\n",
            "Epoch 38/50\n",
            "10500/10500 [==============================] - 20s 2ms/step - loss: 0.0223 - acc: 0.9932 - val_loss: 0.5963 - val_acc: 0.8811\n",
            "Epoch 39/50\n",
            "10500/10500 [==============================] - 20s 2ms/step - loss: 0.0214 - acc: 0.9936 - val_loss: 0.5857 - val_acc: 0.8810\n",
            "Epoch 40/50\n",
            "10500/10500 [==============================] - 20s 2ms/step - loss: 0.0232 - acc: 0.9928 - val_loss: 0.5917 - val_acc: 0.8797\n",
            "Epoch 41/50\n",
            "10500/10500 [==============================] - 20s 2ms/step - loss: 0.0224 - acc: 0.9935 - val_loss: 0.6080 - val_acc: 0.8768\n",
            "Epoch 42/50\n",
            "10500/10500 [==============================] - 20s 2ms/step - loss: 0.0207 - acc: 0.9936 - val_loss: 0.6123 - val_acc: 0.8762\n",
            "Epoch 43/50\n",
            "10500/10500 [==============================] - 20s 2ms/step - loss: 0.0219 - acc: 0.9935 - val_loss: 0.5995 - val_acc: 0.8784\n",
            "Epoch 44/50\n",
            "10500/10500 [==============================] - 20s 2ms/step - loss: 0.0207 - acc: 0.9933 - val_loss: 0.6060 - val_acc: 0.8770\n",
            "Epoch 45/50\n",
            "10500/10500 [==============================] - 20s 2ms/step - loss: 0.0220 - acc: 0.9930 - val_loss: 0.5755 - val_acc: 0.8788\n",
            "Epoch 46/50\n",
            "10500/10500 [==============================] - 20s 2ms/step - loss: 0.0209 - acc: 0.9942 - val_loss: 0.6176 - val_acc: 0.8808\n",
            "Epoch 47/50\n",
            "10500/10500 [==============================] - 20s 2ms/step - loss: 0.0165 - acc: 0.9948 - val_loss: 0.6145 - val_acc: 0.8730\n",
            "Epoch 48/50\n",
            "10500/10500 [==============================] - 20s 2ms/step - loss: 0.0140 - acc: 0.9953 - val_loss: 0.6047 - val_acc: 0.8864\n",
            "Epoch 49/50\n",
            "10500/10500 [==============================] - 20s 2ms/step - loss: 0.0153 - acc: 0.9950 - val_loss: 0.6299 - val_acc: 0.8844\n",
            "Epoch 50/50\n",
            "10500/10500 [==============================] - 20s 2ms/step - loss: 0.0188 - acc: 0.9945 - val_loss: 0.6315 - val_acc: 0.8824\n"
          ],
          "name": "stdout"
        }
      ]
    },
    {
      "cell_type": "code",
      "metadata": {
        "id": "A5YJzBn6IA-3",
        "colab_type": "code",
        "colab": {
          "base_uri": "https://localhost:8080/",
          "height": 545
        },
        "outputId": "a26902a4-416e-4c0f-cfe7-e256f7712201"
      },
      "source": [
        "import matplotlib.pyplot as plt\n",
        "\n",
        "acc = history3.history['acc']\n",
        "val_acc = history3.history['val_acc']\n",
        "loss = history3.history['loss']\n",
        "val_loss = history2.history['val_loss']\n",
        "\n",
        "epochs = range(1, len(acc) + 1)\n",
        "\n",
        "plt.plot(epochs, acc, 'bo', label='Training acc')\n",
        "plt.plot(epochs, val_acc, 'b', label='Validation acc')\n",
        "plt.title('Training and validation accuracy')\n",
        "plt.legend()\n",
        "\n",
        "plt.figure()\n",
        "\n",
        "plt.plot(epochs, loss, 'bo', label='Training loss')\n",
        "plt.plot(epochs, val_loss, 'b', label='Validation loss')\n",
        "plt.title('Training and validation loss')\n",
        "plt.legend()\n",
        "\n",
        "plt.show()"
      ],
      "execution_count": null,
      "outputs": [
        {
          "output_type": "display_data",
          "data": {
            "image/png": "[encoded data removed]",
            "text/plain": [
              "<Figure size 432x288 with 1 Axes>"
            ]
          },
          "metadata": {
            "tags": []
          }
        },
        {
          "output_type": "display_data",
          "data": {
            "image/png": "[encoded data removed]",
            "text/plain": [
              "<Figure size 432x288 with 1 Axes>"
            ]
          },
          "metadata": {
            "tags": []
          }
        }
      ]
    },
    {
      "cell_type": "markdown",
      "metadata": {
        "id": "lSLSqJh41TnC",
        "colab_type": "text"
      },
      "source": [
        "**튜닝 후 개선된 모델**"
      ]
    },
    {
      "cell_type": "code",
      "metadata": {
        "id": "c8tpxkFazbFa",
        "colab_type": "code",
        "colab": {}
      },
      "source": [
        "model4 = models.Sequential()\n",
        "model4.add(Embedding(max_words, embedding_dim, input_length=maxlen, weights=[embedding_matrix],trainable=False))\n",
        "model4.add(layers.Dropout(0.5))\n",
        "model4.add(LSTM(64,return_sequences=True))\n",
        "model4.add(LSTM(64,return_sequences=True))\n",
        "model4.add(LSTM(16))\n",
        "model4.add(layers.Dense(3, activation='softmax'))\n",
        "\n",
        "model4.compile(optimizer=optimizers.RMSprop(lr=0.0001), \n",
        "              loss='categorical_crossentropy',\n",
        "              metrics=['accuracy'])m"
      ],
      "execution_count": null,
      "outputs": []
    },
    {
      "cell_type": "code",
      "metadata": {
        "id": "zwlKsM4KRd6L",
        "colab_type": "code",
        "colab": {
          "base_uri": "https://localhost:8080/",
          "height": 369
        },
        "outputId": "863a1498-0b06-42ff-a034-88329711d964"
      },
      "source": [
        "model4.summary()"
      ],
      "execution_count": null,
      "outputs": [
        {
          "output_type": "stream",
          "text": [
            "Model: \"sequential_45\"\n",
            "_________________________________________________________________\n",
            "Layer (type)                 Output Shape              Param #   \n",
            "=================================================================\n",
            "embedding_45 (Embedding)     (None, 100, 100)          500000    \n",
            "_________________________________________________________________\n",
            "dropout_40 (Dropout)         (None, 100, 100)          0         \n",
            "_________________________________________________________________\n",
            "lstm_37 (LSTM)               (None, 100, 64)           42240     \n",
            "_________________________________________________________________\n",
            "lstm_38 (LSTM)               (None, 100, 64)           33024     \n",
            "_________________________________________________________________\n",
            "lstm_39 (LSTM)               (None, 16)                5184      \n",
            "_________________________________________________________________\n",
            "dense_44 (Dense)             (None, 3)                 51        \n",
            "=================================================================\n",
            "Total params: 580,499\n",
            "Trainable params: 80,499\n",
            "Non-trainable params: 500,000\n",
            "_________________________________________________________________\n"
          ],
          "name": "stdout"
        }
      ]
    },
    {
      "cell_type": "code",
      "metadata": {
        "id": "6HQAe9ckw0yu",
        "colab_type": "code",
        "colab": {
          "base_uri": "https://localhost:8080/",
          "height": 1000
        },
        "outputId": "d5788538-d2a4-4e92-d467-ceccec7682c6"
      },
      "source": [
        "history4 = model4.fit(all_train,one_hot_train_labels,\n",
        "                    validation_data=(all_valid,one_hot_valid_labels),\n",
        "                    epochs=50, batch_size=512)"
      ],
      "execution_count": null,
      "outputs": [
        {
          "output_type": "stream",
          "text": [
            "Train on 10500 samples, validate on 3000 samples\n",
            "Epoch 1/50\n",
            "10500/10500 [==============================] - 26s 2ms/step - loss: 1.0645 - acc: 0.4516 - val_loss: 1.0157 - val_acc: 0.5413\n",
            "Epoch 2/50\n",
            "10500/10500 [==============================] - 10s 911us/step - loss: 1.0020 - acc: 0.5596 - val_loss: 0.9413 - val_acc: 0.5930\n",
            "Epoch 3/50\n",
            "10500/10500 [==============================] - 10s 929us/step - loss: 0.9359 - acc: 0.6136 - val_loss: 0.8630 - val_acc: 0.6477\n",
            "Epoch 4/50\n",
            "10500/10500 [==============================] - 10s 911us/step - loss: 0.8651 - acc: 0.6578 - val_loss: 0.7935 - val_acc: 0.6890\n",
            "Epoch 5/50\n",
            "10500/10500 [==============================] - 10s 925us/step - loss: 0.7961 - acc: 0.6842 - val_loss: 0.7433 - val_acc: 0.6957\n",
            "Epoch 6/50\n",
            "10500/10500 [==============================] - 10s 914us/step - loss: 0.7471 - acc: 0.6950 - val_loss: 0.7111 - val_acc: 0.7073\n",
            "Epoch 7/50\n",
            "10500/10500 [==============================] - 10s 941us/step - loss: 0.7117 - acc: 0.7109 - val_loss: 0.6880 - val_acc: 0.7183\n",
            "Epoch 8/50\n",
            "10500/10500 [==============================] - 10s 931us/step - loss: 0.6829 - acc: 0.7251 - val_loss: 0.6714 - val_acc: 0.7213\n",
            "Epoch 9/50\n",
            "10500/10500 [==============================] - 10s 917us/step - loss: 0.6622 - acc: 0.7327 - val_loss: 0.6515 - val_acc: 0.7313\n",
            "Epoch 10/50\n",
            "10500/10500 [==============================] - 10s 917us/step - loss: 0.6398 - acc: 0.7463 - val_loss: 0.6338 - val_acc: 0.7437\n",
            "Epoch 11/50\n",
            "10500/10500 [==============================] - 10s 915us/step - loss: 0.6213 - acc: 0.7550 - val_loss: 0.6189 - val_acc: 0.7470\n",
            "Epoch 12/50\n",
            "10500/10500 [==============================] - 10s 917us/step - loss: 0.6087 - acc: 0.7610 - val_loss: 0.6126 - val_acc: 0.7550\n",
            "Epoch 13/50\n",
            "10500/10500 [==============================] - 10s 922us/step - loss: 0.5936 - acc: 0.7684 - val_loss: 0.6011 - val_acc: 0.7597\n",
            "Epoch 14/50\n",
            "10500/10500 [==============================] - 10s 913us/step - loss: 0.5804 - acc: 0.7739 - val_loss: 0.6068 - val_acc: 0.7503\n",
            "Epoch 15/50\n",
            "10500/10500 [==============================] - 10s 928us/step - loss: 0.5711 - acc: 0.7779 - val_loss: 0.5780 - val_acc: 0.7637\n",
            "Epoch 16/50\n",
            "10500/10500 [==============================] - 10s 929us/step - loss: 0.5614 - acc: 0.7771 - val_loss: 0.5756 - val_acc: 0.7723\n",
            "Epoch 17/50\n",
            "10500/10500 [==============================] - 10s 908us/step - loss: 0.5535 - acc: 0.7835 - val_loss: 0.5825 - val_acc: 0.7637\n",
            "Epoch 18/50\n",
            "10500/10500 [==============================] - 10s 919us/step - loss: 0.5523 - acc: 0.7822 - val_loss: 0.5922 - val_acc: 0.7613\n",
            "Epoch 19/50\n",
            "10500/10500 [==============================] - 10s 908us/step - loss: 0.5415 - acc: 0.7870 - val_loss: 0.5771 - val_acc: 0.7623\n",
            "Epoch 20/50\n",
            "10500/10500 [==============================] - 10s 911us/step - loss: 0.5403 - acc: 0.7865 - val_loss: 0.5729 - val_acc: 0.7673\n",
            "Epoch 21/50\n",
            "10500/10500 [==============================] - 10s 917us/step - loss: 0.5398 - acc: 0.7836 - val_loss: 0.5742 - val_acc: 0.7590\n",
            "Epoch 22/50\n",
            "10500/10500 [==============================] - 10s 916us/step - loss: 0.5373 - acc: 0.7857 - val_loss: 0.5606 - val_acc: 0.7733\n",
            "Epoch 23/50\n",
            "10500/10500 [==============================] - 9s 904us/step - loss: 0.5255 - acc: 0.7903 - val_loss: 0.5652 - val_acc: 0.7647\n",
            "Epoch 24/50\n",
            "10500/10500 [==============================] - 10s 928us/step - loss: 0.5283 - acc: 0.7864 - val_loss: 0.5587 - val_acc: 0.7687\n",
            "Epoch 25/50\n",
            "10500/10500 [==============================] - 10s 910us/step - loss: 0.5241 - acc: 0.7894 - val_loss: 0.5639 - val_acc: 0.7657\n",
            "Epoch 26/50\n",
            "10500/10500 [==============================] - 10s 913us/step - loss: 0.5222 - acc: 0.7920 - val_loss: 0.5602 - val_acc: 0.7693\n",
            "Epoch 27/50\n",
            "10500/10500 [==============================] - 10s 913us/step - loss: 0.5189 - acc: 0.7927 - val_loss: 0.5625 - val_acc: 0.7683\n",
            "Epoch 28/50\n",
            "10500/10500 [==============================] - 10s 922us/step - loss: 0.5138 - acc: 0.7939 - val_loss: 0.5779 - val_acc: 0.7610\n",
            "Epoch 29/50\n",
            "10500/10500 [==============================] - 10s 915us/step - loss: 0.5146 - acc: 0.7944 - val_loss: 0.5455 - val_acc: 0.7760\n",
            "Epoch 30/50\n",
            "10500/10500 [==============================] - 10s 917us/step - loss: 0.5088 - acc: 0.7912 - val_loss: 0.5462 - val_acc: 0.7750\n",
            "Epoch 31/50\n",
            "10500/10500 [==============================] - 10s 921us/step - loss: 0.5098 - acc: 0.7928 - val_loss: 0.5521 - val_acc: 0.7653\n",
            "Epoch 32/50\n",
            "10500/10500 [==============================] - 10s 955us/step - loss: 0.5095 - acc: 0.7935 - val_loss: 0.5578 - val_acc: 0.7690\n",
            "Epoch 33/50\n",
            "10500/10500 [==============================] - 10s 912us/step - loss: 0.5021 - acc: 0.7973 - val_loss: 0.5461 - val_acc: 0.7733\n",
            "Epoch 34/50\n",
            "10500/10500 [==============================] - 10s 930us/step - loss: 0.5063 - acc: 0.7963 - val_loss: 0.5382 - val_acc: 0.7803\n",
            "Epoch 35/50\n",
            "10500/10500 [==============================] - 10s 908us/step - loss: 0.5057 - acc: 0.7923 - val_loss: 0.5537 - val_acc: 0.7693\n",
            "Epoch 36/50\n",
            "10500/10500 [==============================] - 10s 914us/step - loss: 0.5016 - acc: 0.7949 - val_loss: 0.5389 - val_acc: 0.7800\n",
            "Epoch 37/50\n",
            "10500/10500 [==============================] - 10s 910us/step - loss: 0.4949 - acc: 0.8002 - val_loss: 0.5473 - val_acc: 0.7787\n",
            "Epoch 38/50\n",
            "10500/10500 [==============================] - 10s 926us/step - loss: 0.4976 - acc: 0.7993 - val_loss: 0.5521 - val_acc: 0.7737\n",
            "Epoch 39/50\n",
            "10500/10500 [==============================] - 10s 915us/step - loss: 0.4971 - acc: 0.7970 - val_loss: 0.5585 - val_acc: 0.7680\n",
            "Epoch 40/50\n",
            "10500/10500 [==============================] - 10s 925us/step - loss: 0.4930 - acc: 0.7983 - val_loss: 0.5310 - val_acc: 0.7850\n",
            "Epoch 41/50\n",
            "10500/10500 [==============================] - 10s 918us/step - loss: 0.4985 - acc: 0.7945 - val_loss: 0.5406 - val_acc: 0.7763\n",
            "Epoch 42/50\n",
            "10500/10500 [==============================] - 10s 919us/step - loss: 0.4923 - acc: 0.7990 - val_loss: 0.5294 - val_acc: 0.7883\n",
            "Epoch 43/50\n",
            "10500/10500 [==============================] - 10s 910us/step - loss: 0.4905 - acc: 0.7992 - val_loss: 0.5302 - val_acc: 0.7843\n",
            "Epoch 44/50\n",
            "10500/10500 [==============================] - 10s 913us/step - loss: 0.4891 - acc: 0.7990 - val_loss: 0.5383 - val_acc: 0.7757\n",
            "Epoch 45/50\n",
            "10500/10500 [==============================] - 10s 913us/step - loss: 0.4820 - acc: 0.8056 - val_loss: 0.5289 - val_acc: 0.7887\n",
            "Epoch 46/50\n",
            "10500/10500 [==============================] - 10s 915us/step - loss: 0.4855 - acc: 0.7976 - val_loss: 0.5400 - val_acc: 0.7850\n",
            "Epoch 47/50\n",
            "10500/10500 [==============================] - 10s 914us/step - loss: 0.4827 - acc: 0.7997 - val_loss: 0.5337 - val_acc: 0.7813\n",
            "Epoch 48/50\n",
            "10500/10500 [==============================] - 10s 908us/step - loss: 0.4820 - acc: 0.8041 - val_loss: 0.5307 - val_acc: 0.7807\n",
            "Epoch 49/50\n",
            "10500/10500 [==============================] - 10s 923us/step - loss: 0.4838 - acc: 0.8040 - val_loss: 0.5361 - val_acc: 0.7830\n",
            "Epoch 50/50\n",
            "10500/10500 [==============================] - 10s 913us/step - loss: 0.4786 - acc: 0.8093 - val_loss: 0.5313 - val_acc: 0.7837\n"
          ],
          "name": "stdout"
        }
      ]
    },
    {
      "cell_type": "code",
      "metadata": {
        "id": "GEm2ha5T50vC",
        "colab_type": "code",
        "colab": {
          "base_uri": "https://localhost:8080/",
          "height": 545
        },
        "outputId": "497a7b6a-24cf-4253-e719-b6258b244aba"
      },
      "source": [
        "import matplotlib.pyplot as plt\n",
        "\n",
        "acc = history4.history['acc']\n",
        "val_acc = history4.history['val_acc']\n",
        "loss = history4.history['loss']\n",
        "val_loss = history4.history['val_loss']\n",
        "\n",
        "epochs = range(1, len(acc) + 1)\n",
        "\n",
        "plt.plot(epochs, acc, 'bo', label='Training acc')\n",
        "plt.plot(epochs, val_acc, 'b', label='Validation acc')\n",
        "plt.title('Training and validation accuracy')\n",
        "plt.legend()\n",
        "\n",
        "plt.figure()\n",
        "\n",
        "plt.plot(epochs, loss, 'bo', label='Training loss')\n",
        "plt.plot(epochs, val_loss, 'b', label='Validation loss')\n",
        "plt.title('Training and validation loss')\n",
        "plt.legend()\n",
        "\n",
        "plt.show()"
      ],
      "execution_count": null,
      "outputs": [
        {
          "output_type": "display_data",
          "data": {
            "image/png": "[encoded data removed]",
            "text/plain": [
              "<Figure size 432x288 with 1 Axes>"
            ]
          },
          "metadata": {
            "tags": []
          }
        },
        {
          "output_type": "display_data",
          "data": {
            "image/png": "[encoded data removed]",
            "text/plain": [
              "<Figure size 432x288 with 1 Axes>"
            ]
          },
          "metadata": {
            "tags": []
          }
        }
      ]
    },
    {
      "cell_type": "code",
      "metadata": {
        "id": "btl2Eiwc0hiI",
        "colab_type": "code",
        "colab": {
          "base_uri": "https://localhost:8080/",
          "height": 52
        },
        "outputId": "17d0c31e-d40a-44bc-ef30-b520aa123fd6"
      },
      "source": [
        "model4.evaluate(all_test,one_hot_test_labels)"
      ],
      "execution_count": null,
      "outputs": [
        {
          "output_type": "stream",
          "text": [
            "1405/1405 [==============================] - 7s 5ms/step\n"
          ],
          "name": "stdout"
        },
        {
          "output_type": "execute_result",
          "data": {
            "text/plain": [
              "[0.5782254726012831, 0.7608540926963834]"
            ]
          },
          "metadata": {
            "tags": []
          },
          "execution_count": 239
        }
      ]
    }
  ]
}