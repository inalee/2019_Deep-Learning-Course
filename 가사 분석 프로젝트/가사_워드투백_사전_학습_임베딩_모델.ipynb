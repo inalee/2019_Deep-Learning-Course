{
  "nbformat": 4,
  "nbformat_minor": 0,
  "metadata": {
    "colab": {
      "name": "가사 워드투백 사전 학습 임베딩 모델",
      "provenance": [],
      "collapsed_sections": [],
      "include_colab_link": true
    },
    "kernelspec": {
      "name": "python3",
      "display_name": "Python 3"
    }
  },
  "cells": [
    {
      "cell_type": "markdown",
      "metadata": {
        "id": "view-in-github",
        "colab_type": "text"
      },
      "source": [
        "<a href=\"https://colab.research.google.com/github/inalee/2019_Deep-Learning-Course/blob/master/%EA%B0%80%EC%82%AC%20%EB%B6%84%EC%84%9D%20%ED%94%84%EB%A1%9C%EC%A0%9D%ED%8A%B8/%EA%B0%80%EC%82%AC_%EC%9B%8C%EB%93%9C%ED%88%AC%EB%B0%B1_%EC%82%AC%EC%A0%84_%ED%95%99%EC%8A%B5_%EC%9E%84%EB%B2%A0%EB%94%A9_%EB%AA%A8%EB%8D%B8.ipynb\" target=\"_parent\"><img src=\"https://colab.research.google.com/assets/colab-badge.svg\" alt=\"Open In Colab\"/></a>"
      ]
    },
    {
      "cell_type": "code",
      "metadata": {
        "id": "RXcUZ6360RGF",
        "colab_type": "code",
        "colab": {
          "base_uri": "https://localhost:8080/",
          "height": 325
        },
        "outputId": "bd8d45dc-7cd2-4c2c-95f9-c7eea2e901e2"
      },
      "source": [
        "pip install konlpy"
      ],
      "execution_count": null,
      "outputs": [
        {
          "output_type": "stream",
          "text": [
            "Requirement already satisfied: konlpy in /usr/local/lib/python3.6/dist-packages (0.5.2)\n",
            "Requirement already satisfied: lxml>=4.1.0 in /usr/local/lib/python3.6/dist-packages (from konlpy) (4.2.6)\n",
            "Requirement already satisfied: JPype1>=0.7.0 in /usr/local/lib/python3.6/dist-packages (from konlpy) (0.7.0)\n",
            "Requirement already satisfied: tweepy>=3.7.0 in /usr/local/lib/python3.6/dist-packages (from konlpy) (3.8.0)\n",
            "Requirement already satisfied: colorama in /usr/local/lib/python3.6/dist-packages (from konlpy) (0.4.3)\n",
            "Requirement already satisfied: beautifulsoup4==4.6.0 in /usr/local/lib/python3.6/dist-packages (from konlpy) (4.6.0)\n",
            "Requirement already satisfied: numpy>=1.6 in /usr/local/lib/python3.6/dist-packages (from konlpy) (1.17.4)\n",
            "Requirement already satisfied: PySocks>=1.5.7 in /usr/local/lib/python3.6/dist-packages (from tweepy>=3.7.0->konlpy) (1.7.1)\n",
            "Requirement already satisfied: requests-oauthlib>=0.7.0 in /usr/local/lib/python3.6/dist-packages (from tweepy>=3.7.0->konlpy) (1.3.0)\n",
            "Requirement already satisfied: requests>=2.11.1 in /usr/local/lib/python3.6/dist-packages (from tweepy>=3.7.0->konlpy) (2.21.0)\n",
            "Requirement already satisfied: six>=1.10.0 in /usr/local/lib/python3.6/dist-packages (from tweepy>=3.7.0->konlpy) (1.12.0)\n",
            "Requirement already satisfied: oauthlib>=3.0.0 in /usr/local/lib/python3.6/dist-packages (from requests-oauthlib>=0.7.0->tweepy>=3.7.0->konlpy) (3.1.0)\n",
            "Requirement already satisfied: chardet<3.1.0,>=3.0.2 in /usr/local/lib/python3.6/dist-packages (from requests>=2.11.1->tweepy>=3.7.0->konlpy) (3.0.4)\n",
            "Requirement already satisfied: idna<2.9,>=2.5 in /usr/local/lib/python3.6/dist-packages (from requests>=2.11.1->tweepy>=3.7.0->konlpy) (2.8)\n",
            "Requirement already satisfied: certifi>=2017.4.17 in /usr/local/lib/python3.6/dist-packages (from requests>=2.11.1->tweepy>=3.7.0->konlpy) (2019.11.28)\n",
            "Requirement already satisfied: urllib3<1.25,>=1.21.1 in /usr/local/lib/python3.6/dist-packages (from requests>=2.11.1->tweepy>=3.7.0->konlpy) (1.24.3)\n"
          ],
          "name": "stdout"
        }
      ]
    },
    {
      "cell_type": "code",
      "metadata": {
        "id": "_OtAjn8x0XIj",
        "colab_type": "code",
        "colab": {}
      },
      "source": [
        "import pandas as pd\n",
        "import numpy as np\n",
        "import konlpy\n",
        "from konlpy.tag import Komoran\n",
        "from konlpy.tag import Okt\n",
        "from konlpy.tag import Kkma\n",
        "from itertools import chain\n",
        "from gensim.models import Word2Vec"
      ],
      "execution_count": null,
      "outputs": []
    },
    {
      "cell_type": "code",
      "metadata": {
        "id": "Qfha0YU20YQT",
        "colab_type": "code",
        "colab": {
          "base_uri": "https://localhost:8080/",
          "height": 55
        },
        "outputId": "791adc69-d8b6-4f20-c716-017c34179cbc"
      },
      "source": [
        "from google.colab import drive\n",
        "drive.mount('/content/drive')"
      ],
      "execution_count": null,
      "outputs": [
        {
          "output_type": "stream",
          "text": [
            "Drive already mounted at /content/drive; to attempt to forcibly remount, call drive.mount(\"/content/drive\", force_remount=True).\n"
          ],
          "name": "stdout"
        }
      ]
    },
    {
      "cell_type": "code",
      "metadata": {
        "id": "_TLUaPnB_R_R",
        "colab_type": "code",
        "colab": {}
      },
      "source": [
        "ballad = pd.read_csv(\"/content/drive/My Drive/딥러닝_가사_프로젝트/ballad.csv\")\n",
        "ballad[\"konlpy\"] = \"\"\n",
        "ballad[\"konlpy\"] = ballad.lyric.map(lambda x: Okt().pos(x)) # 모든 글자 pos tag 달기\n",
        "ballad[\"konlpy\"] = ballad.konlpy.map(lambda x: list(chain.from_iterable(x))) # tuple 형태 flatten 해서 하나의 리스트로만 만들기"
      ],
      "execution_count": null,
      "outputs": []
    },
    {
      "cell_type": "code",
      "metadata": {
        "id": "5_JbnCEZDCbj",
        "colab_type": "code",
        "colab": {}
      },
      "source": [
        "ballad_final_list = []\n",
        "for i in range(0,len(ballad.konlpy)):\n",
        "    temp_list = []\n",
        "    #print(ballad.konlpy[i])\n",
        "    for j in range(0,len(ballad.konlpy[i])):\n",
        "        # Noun / Verb / Adjective / Conjunction / Adverb (명사,동사,형용사,접속사,부사) 만 남기기 \n",
        "        if ballad.konlpy[i][j]==\"Noun\": temp_list.append(ballad.konlpy[i][j-1])\n",
        "        if ballad.konlpy[i][j]==\"Verb\": temp_list.append(ballad.konlpy[i][j-1])\n",
        "        if ballad.konlpy[i][j]==\"Adjective\":  temp_list.append(ballad.konlpy[i][j-1])\n",
        "        if ballad.konlpy[i][j]==\"Conjunction\":  temp_list.append(ballad.konlpy[i][j-1])\n",
        "        if ballad.konlpy[i][j]==\"Adverb\": temp_list.append(ballad.konlpy[i][j-1])\n",
        "    ballad_final_list.append(temp_list)"
      ],
      "execution_count": null,
      "outputs": []
    },
    {
      "cell_type": "code",
      "metadata": {
        "id": "OX75BiZEAJ_z",
        "colab_type": "code",
        "colab": {}
      },
      "source": [
        "# 한글자 단어 없애기\n",
        "for i in ballad_final_list:\n",
        "  for j in i:\n",
        "    if len(j) == 1:\n",
        "      i.remove(j)\n",
        "      continue\n",
        "\n",
        "# 리스트 요소 0 인것(비어 있는것) 삭제하기\n",
        "for i in ballad_final_list:\n",
        "  if len(i) == 0:\n",
        "    ballad_final_list.remove(i)"
      ],
      "execution_count": null,
      "outputs": []
    },
    {
      "cell_type": "code",
      "metadata": {
        "id": "DmpIIBZKDGxw",
        "colab_type": "code",
        "colab": {
          "base_uri": "https://localhost:8080/",
          "height": 35
        },
        "outputId": "95d5d01d-ee61-49e3-a2e4-4f2738ce4b31"
      },
      "source": [
        "# ballad 최종 갯수 - 9879개 \n",
        "len(ballad_final_list)"
      ],
      "execution_count": null,
      "outputs": [
        {
          "output_type": "execute_result",
          "data": {
            "text/plain": [
              "9879"
            ]
          },
          "metadata": {
            "tags": []
          },
          "execution_count": 109
        }
      ]
    },
    {
      "cell_type": "code",
      "metadata": {
        "id": "kphy6tW1DIut",
        "colab_type": "code",
        "colab": {}
      },
      "source": [
        "trot = pd.read_csv(\"/content/drive/My Drive/딥러닝_가사_프로젝트/trot.csv\")\n",
        "trot = trot[:5000]\n",
        "trot[\"konlpy\"] = \"\"\n",
        "trot[\"konlpy\"] = trot.lyric.map(lambda x: Okt().pos(x)) # 모든 글자 pos tag 달기\n",
        "trot[\"konlpy\"] = trot.konlpy.map(lambda x: list(chain.from_iterable(x))) # tuple 형태 flatten 해서 하나의 리스트로만 만들기"
      ],
      "execution_count": null,
      "outputs": []
    },
    {
      "cell_type": "code",
      "metadata": {
        "id": "k1VNOeWtDMDw",
        "colab_type": "code",
        "colab": {
          "base_uri": "https://localhost:8080/",
          "height": 35
        },
        "outputId": "61a5f51c-07b6-4903-a45e-8854d110e39c"
      },
      "source": [
        "trot_final_list = []\n",
        "for i in range(0,len(trot.konlpy)):\n",
        "    temp_list = []\n",
        "    #print(trot.konlpy[i])\n",
        "    for j in range(0,len(trot.konlpy[i])):\n",
        "        # Noun / Verb / Adjective / Conjunction / Adverb (명사,동사,형용사,접속사,부사) 만 남기기 \n",
        "        if trot.konlpy[i][j]==\"Noun\": temp_list.append(trot.konlpy[i][j-1])\n",
        "        if trot.konlpy[i][j]==\"Verb\": temp_list.append(trot.konlpy[i][j-1])\n",
        "        if trot.konlpy[i][j]==\"Adjective\":  temp_list.append(trot.konlpy[i][j-1])\n",
        "        if trot.konlpy[i][j]==\"Conjunction\":  temp_list.append(trot.konlpy[i][j-1])\n",
        "        if trot.konlpy[i][j]==\"Adverb\": temp_list.append(trot.konlpy[i][j-1])\n",
        "    trot_final_list.append(temp_list)\n",
        "  \n",
        "\n",
        "# 한글자 단어 없애기\n",
        "for i in trot_final_list:\n",
        "  for j in i:\n",
        "    if len(j) == 1:\n",
        "      i.remove(j)\n",
        "      continue\n",
        "\n",
        "# 리스트 요소 0 인것(비어 있는것) 삭제하기\n",
        "for i in trot_final_list:\n",
        "  if len(i) == 0:\n",
        "    trot_final_list.remove(i)\n",
        "\n",
        "len(trot_final_list)"
      ],
      "execution_count": null,
      "outputs": [
        {
          "output_type": "execute_result",
          "data": {
            "text/plain": [
              "4992"
            ]
          },
          "metadata": {
            "tags": []
          },
          "execution_count": 111
        }
      ]
    },
    {
      "cell_type": "code",
      "metadata": {
        "id": "00IFyMCCDUWP",
        "colab_type": "code",
        "colab": {}
      },
      "source": [
        "dance = pd.read_csv(\"/content/drive/My Drive/딥러닝_가사_프로젝트/dance.csv\")\n",
        "dance[\"konlpy\"] = \"\"\n",
        "dance[\"lyric\"] = dance.lyric.map(lambda x: x.replace(\"\\n\\t\\t\\t\\t\\t\\t\\t\", \"\"))\n",
        "dance[\"konlpy\"] = dance.lyric.map(lambda x: Okt().pos(x)) # 모든 글자 pos tag 달기\n",
        "dance[\"konlpy\"] = dance.konlpy.map(lambda x: list(chain.from_iterable(x))) # tuple 형태 flatten 해서 하나의 리스트로만 만들기"
      ],
      "execution_count": null,
      "outputs": []
    },
    {
      "cell_type": "code",
      "metadata": {
        "id": "69RiKl1GDXKx",
        "colab_type": "code",
        "colab": {
          "base_uri": "https://localhost:8080/",
          "height": 35
        },
        "outputId": "eb5ffc54-5584-4fe7-b1ab-dd6b1c45fb34"
      },
      "source": [
        "dance_final_list = []\n",
        "for i in range(0,len(dance.konlpy)):\n",
        "    temp_list = []\n",
        "    for j in range(0,len(dance.konlpy[i])):\n",
        "        # Noun / Verb / Adjective / Conjunction / Adverb (명사,동사,형용사,접속사,부사) 만 남기기 \n",
        "        if dance.konlpy[i][j]==\"Noun\": temp_list.append(dance.konlpy[i][j-1])\n",
        "        if dance.konlpy[i][j]==\"Verb\": temp_list.append(dance.konlpy[i][j-1])\n",
        "        if dance.konlpy[i][j]==\"Adjective\":  temp_list.append(dance.konlpy[i][j-1])\n",
        "        if dance.konlpy[i][j]==\"Conjunction\":  temp_list.append(dance.konlpy[i][j-1])\n",
        "        if dance.konlpy[i][j]==\"Adverb\": temp_list.append(dance.konlpy[i][j-1])\n",
        "    dance_final_list.append(temp_list)\n",
        "\n",
        "\n",
        "# 한글자 단어 없애기\n",
        "for i in dance_final_list:\n",
        "  for j in i:\n",
        "    if len(j) == 1:\n",
        "      i.remove(j)\n",
        "      continue\n",
        "\n",
        "\n",
        "# 리스트 요소 0 인것(비어 있는것) 삭제하기\n",
        "for i in dance_final_list:\n",
        "  if len(i) == 0:\n",
        "    dance_final_list.remove(i)\n",
        "\n",
        "len(dance_final_list)"
      ],
      "execution_count": null,
      "outputs": [
        {
          "output_type": "execute_result",
          "data": {
            "text/plain": [
              "6163"
            ]
          },
          "metadata": {
            "tags": []
          },
          "execution_count": 114
        }
      ]
    },
    {
      "cell_type": "code",
      "metadata": {
        "id": "i-lG-eEjMmiR",
        "colab_type": "code",
        "colab": {}
      },
      "source": [
        "embedding_model  = Word2Vec(dance_final_list+trot_final_list+ballad_final_list,size=100,window=3,min_count=10)"
      ],
      "execution_count": null,
      "outputs": []
    },
    {
      "cell_type": "code",
      "metadata": {
        "id": "aVvpPi95NLO5",
        "colab_type": "code",
        "colab": {
          "base_uri": "https://localhost:8080/",
          "height": 73
        },
        "outputId": "8084c2c8-cdf9-4e2c-de2c-ae1292f20c65"
      },
      "source": [
        "embedding_model.save(\"embedding_model_v3.model\")\n",
        "\n",
        "## 최종 사전 학습 임베딩 모델"
      ],
      "execution_count": null,
      "outputs": [
        {
          "output_type": "stream",
          "text": [
            "/usr/local/lib/python3.6/dist-packages/smart_open/smart_open_lib.py:402: UserWarning: This function is deprecated, use smart_open.open instead. See the migration notes for details: https://github.com/RaRe-Technologies/smart_open/blob/master/README.rst#migrating-to-the-new-open-function\n",
            "  'See the migration notes for details: %s' % _MIGRATION_NOTES_URL\n"
          ],
          "name": "stderr"
        }
      ]
    }
  ]
}