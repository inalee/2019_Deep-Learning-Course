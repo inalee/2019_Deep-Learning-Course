{
 "cells": [
  {
   "cell_type": "markdown",
   "metadata": {},
   "source": [
    "## 1-1"
   ]
  },
  {
   "cell_type": "code",
   "execution_count": 15,
   "metadata": {},
   "outputs": [],
   "source": [
    "from keras.utils import to_categorical\n",
    "from keras.datasets import mnist\n",
    "from keras import models\n",
    "from keras import layers\n",
    "from keras import optimizers\n",
    "\n",
    "import matplotlib.pyplot as plt"
   ]
  },
  {
   "cell_type": "code",
   "execution_count": 46,
   "metadata": {},
   "outputs": [],
   "source": [
    "(train_images, train_labels), (test_images, test_labels) = mnist.load_data()"
   ]
  },
  {
   "cell_type": "code",
   "execution_count": 47,
   "metadata": {
    "scrolled": true
   },
   "outputs": [],
   "source": [
    "val_images = train_images[55000:]\n",
    "train_images = train_images[0:55000]\n",
    "\n",
    "val_labels = train_labels[55000:]\n",
    "train_labels = train_labels[0:55000]\n",
    "\n",
    "### validation data / train data 구분"
   ]
  },
  {
   "cell_type": "code",
   "execution_count": 48,
   "metadata": {},
   "outputs": [
    {
     "data": {
      "text/plain": [
       "55000"
      ]
     },
     "execution_count": 48,
     "metadata": {},
     "output_type": "execute_result"
    }
   ],
   "source": [
    "len(train_images)"
   ]
  },
  {
   "cell_type": "code",
   "execution_count": 49,
   "metadata": {
    "scrolled": true
   },
   "outputs": [
    {
     "data": {
      "text/plain": [
       "5000"
      ]
     },
     "execution_count": 49,
     "metadata": {},
     "output_type": "execute_result"
    }
   ],
   "source": [
    "len(val_images)"
   ]
  },
  {
   "cell_type": "code",
   "execution_count": 50,
   "metadata": {},
   "outputs": [],
   "source": [
    "train_images = train_images.reshape((55000, 28 * 28))\n",
    "train_images = train_images.astype('float32') / 255\n",
    "\n",
    "val_images = val_images.reshape((5000, 28 * 28))\n",
    "val_images = val_images.astype('float32') / 255\n",
    "\n",
    "test_images = test_images.reshape((10000, 28 * 28))\n",
    "test_images = test_images.astype('float32') / 255"
   ]
  },
  {
   "cell_type": "code",
   "execution_count": 51,
   "metadata": {},
   "outputs": [],
   "source": [
    "train_labels = to_categorical(train_labels)\n",
    "val_labels = to_categorical(val_labels)\n",
    "test_labels = to_categorical(test_labels)"
   ]
  },
  {
   "cell_type": "code",
   "execution_count": 52,
   "metadata": {},
   "outputs": [],
   "source": [
    "network = models.Sequential()\n",
    "network.add(layers.Dense(256, activation='relu', input_shape=(28 * 28,)))\n",
    "network.add(layers.Dense(256, activation='relu'))\n",
    "network.add(layers.Dense(256, activation='relu'))\n",
    "network.add(layers.Dense(256, activation='relu'))\n",
    "network.add(layers.Dense(256, activation='relu'))\n",
    "network.add(layers.Dense(256, activation='relu'))\n",
    "network.add(layers.Dense(256, activation='relu'))\n",
    "network.add(layers.Dense(256, activation='relu'))\n",
    "network.add(layers.Dense(256, activation='relu'))\n",
    "network.add(layers.Dense(10, activation='softmax'))"
   ]
  },
  {
   "cell_type": "code",
   "execution_count": 53,
   "metadata": {},
   "outputs": [],
   "source": [
    "network.compile(optimizer=optimizers.RMSprop(lr=0.001), \n",
    "                loss='categorical_crossentropy',\n",
    "                metrics=['accuracy'])"
   ]
  },
  {
   "cell_type": "code",
   "execution_count": 54,
   "metadata": {},
   "outputs": [
    {
     "name": "stdout",
     "output_type": "stream",
     "text": [
      "Train on 55000 samples, validate on 5000 samples\n",
      "Epoch 1/15\n",
      "55000/55000 [==============================] - 9s 161us/step - loss: 0.3806 - acc: 0.8911 - val_loss: 0.1968 - val_acc: 0.9544\n",
      "Epoch 2/15\n",
      "55000/55000 [==============================] - 8s 140us/step - loss: 0.1725 - acc: 0.9587 - val_loss: 0.1073 - val_acc: 0.9758\n",
      "Epoch 3/15\n",
      "55000/55000 [==============================] - 8s 139us/step - loss: 0.1385 - acc: 0.9697 - val_loss: 0.1145 - val_acc: 0.9718\n",
      "Epoch 4/15\n",
      "55000/55000 [==============================] - 8s 138us/step - loss: 0.1301 - acc: 0.9728 - val_loss: 0.1329 - val_acc: 0.9734\n",
      "Epoch 5/15\n",
      "55000/55000 [==============================] - 8s 139us/step - loss: 0.1401 - acc: 0.9745 - val_loss: 0.2287 - val_acc: 0.9708\n",
      "Epoch 6/15\n",
      "55000/55000 [==============================] - 8s 139us/step - loss: 0.1497 - acc: 0.9751 - val_loss: 0.1370 - val_acc: 0.9716\n",
      "Epoch 7/15\n",
      "55000/55000 [==============================] - 8s 139us/step - loss: 0.1454 - acc: 0.9757 - val_loss: 0.1674 - val_acc: 0.9728\n",
      "Epoch 8/15\n",
      "55000/55000 [==============================] - 8s 139us/step - loss: 0.1635 - acc: 0.9760 - val_loss: 0.1484 - val_acc: 0.9774\n",
      "Epoch 9/15\n",
      "55000/55000 [==============================] - 8s 139us/step - loss: 0.1866 - acc: 0.9765 - val_loss: 0.2263 - val_acc: 0.9706\n",
      "Epoch 10/15\n",
      "55000/55000 [==============================] - 8s 139us/step - loss: 0.1869 - acc: 0.9756 - val_loss: 0.1888 - val_acc: 0.9758\n",
      "Epoch 11/15\n",
      "55000/55000 [==============================] - 8s 146us/step - loss: 0.2530 - acc: 0.9737 - val_loss: 0.1890 - val_acc: 0.9756\n",
      "Epoch 12/15\n",
      "55000/55000 [==============================] - 8s 141us/step - loss: 0.1845 - acc: 0.9772 - val_loss: 0.2721 - val_acc: 0.9744\n",
      "Epoch 13/15\n",
      "55000/55000 [==============================] - 8s 145us/step - loss: 0.2365 - acc: 0.9758 - val_loss: 0.1927 - val_acc: 0.9752\n",
      "Epoch 14/15\n",
      "55000/55000 [==============================] - 8s 139us/step - loss: 0.2280 - acc: 0.9760 - val_loss: 0.2376 - val_acc: 0.9684\n",
      "Epoch 15/15\n",
      "55000/55000 [==============================] - 8s 141us/step - loss: 0.3605 - acc: 0.9703 - val_loss: 0.6276 - val_acc: 0.9590\n"
     ]
    }
   ],
   "source": [
    "history = network.fit(train_images,\n",
    "                    train_labels,\n",
    "                    epochs=15,\n",
    "                    batch_size=64,\n",
    "                    validation_data=(val_images, val_labels)) "
   ]
  },
  {
   "cell_type": "code",
   "execution_count": 57,
   "metadata": {
    "scrolled": true
   },
   "outputs": [
    {
     "data": {
      "text/plain": [
       "dict_keys(['val_loss', 'val_acc', 'loss', 'acc'])"
      ]
     },
     "execution_count": 57,
     "metadata": {},
     "output_type": "execute_result"
    }
   ],
   "source": [
    "history_dict = history.history \n",
    "history_dict.keys()"
   ]
  },
  {
   "cell_type": "code",
   "execution_count": 58,
   "metadata": {},
   "outputs": [
    {
     "data": {
      "image/png": "[encoded data removed]",
      "text/plain": [
       "<Figure size 432x288 with 1 Axes>"
      ]
     },
     "metadata": {
      "needs_background": "light"
     },
     "output_type": "display_data"
    }
   ],
   "source": [
    "import matplotlib.pyplot as plt\n",
    "\n",
    "acc = history.history['acc']\n",
    "val_acc = history.history['val_acc']\n",
    "loss = history.history['loss']\n",
    "val_loss = history.history['val_loss']\n",
    "\n",
    "epochs = range(1, len(acc) + 1)\n",
    "\n",
    "plt.plot(epochs, acc, 'r', label='Training acc')\n",
    "plt.plot(epochs, val_acc, 'b', label='Validation acc')\n",
    "plt.title('Training and validation accuracy')\n",
    "plt.xlabel('Epochs')\n",
    "plt.ylabel('ACC')\n",
    "plt.legend()\n",
    "\n",
    "plt.show()"
   ]
  },
  {
   "cell_type": "code",
   "execution_count": 59,
   "metadata": {
    "scrolled": true
   },
   "outputs": [
    {
     "name": "stdout",
     "output_type": "stream",
     "text": [
      "10000/10000 [==============================] - 1s 84us/step\n"
     ]
    },
    {
     "data": {
      "text/plain": [
       "[0.7836946942392736, 0.9497]"
      ]
     },
     "execution_count": 59,
     "metadata": {},
     "output_type": "execute_result"
    }
   ],
   "source": [
    "results = network.evaluate(test_images, test_labels)\n",
    "results "
   ]
  },
  {
   "cell_type": "markdown",
   "metadata": {},
   "source": [
    "## 1-2\n",
    "### ◆ learning rate = 0.01"
   ]
  },
  {
   "cell_type": "code",
   "execution_count": 60,
   "metadata": {},
   "outputs": [],
   "source": [
    "network = models.Sequential()\n",
    "network.add(layers.Dense(256, activation='relu', input_shape=(28 * 28,)))\n",
    "network.add(layers.Dense(256, activation='relu'))\n",
    "network.add(layers.Dense(256, activation='relu'))\n",
    "network.add(layers.Dense(256, activation='relu'))\n",
    "network.add(layers.Dense(256, activation='relu'))\n",
    "network.add(layers.Dense(256, activation='relu'))\n",
    "network.add(layers.Dense(256, activation='relu'))\n",
    "network.add(layers.Dense(256, activation='relu'))\n",
    "network.add(layers.Dense(256, activation='relu'))\n",
    "network.add(layers.Dense(10, activation='softmax'))"
   ]
  },
  {
   "cell_type": "code",
   "execution_count": 61,
   "metadata": {},
   "outputs": [],
   "source": [
    "network.compile(optimizer=optimizers.RMSprop(lr=0.01), \n",
    "                loss='categorical_crossentropy',\n",
    "                metrics=['accuracy'])"
   ]
  },
  {
   "cell_type": "code",
   "execution_count": 62,
   "metadata": {},
   "outputs": [
    {
     "name": "stdout",
     "output_type": "stream",
     "text": [
      "Train on 55000 samples, validate on 5000 samples\n",
      "Epoch 1/15\n",
      "55000/55000 [==============================] - 8s 149us/step - loss: 14.2857 - acc: 0.1128 - val_loss: 14.4096 - val_acc: 0.1060\n",
      "Epoch 2/15\n",
      "55000/55000 [==============================] - 8s 143us/step - loss: 14.2976 - acc: 0.1129 - val_loss: 14.4096 - val_acc: 0.1060\n",
      "Epoch 3/15\n",
      "55000/55000 [==============================] - 8s 141us/step - loss: 14.2976 - acc: 0.1129 - val_loss: 14.4096 - val_acc: 0.1060\n",
      "Epoch 4/15\n",
      "55000/55000 [==============================] - 8s 146us/step - loss: 14.2976 - acc: 0.1129 - val_loss: 14.4096 - val_acc: 0.1060\n",
      "Epoch 5/15\n",
      "55000/55000 [==============================] - 8s 142us/step - loss: 14.2976 - acc: 0.1129 - val_loss: 14.4096 - val_acc: 0.1060\n",
      "Epoch 6/15\n",
      "55000/55000 [==============================] - 8s 144us/step - loss: 14.2976 - acc: 0.1129 - val_loss: 14.4096 - val_acc: 0.1060\n",
      "Epoch 7/15\n",
      "55000/55000 [==============================] - 8s 143us/step - loss: 14.2976 - acc: 0.1129 - val_loss: 14.4096 - val_acc: 0.1060\n",
      "Epoch 8/15\n",
      "55000/55000 [==============================] - 8s 140us/step - loss: 14.2976 - acc: 0.1129 - val_loss: 14.4096 - val_acc: 0.1060\n",
      "Epoch 9/15\n",
      "55000/55000 [==============================] - 8s 140us/step - loss: 14.2976 - acc: 0.1129 - val_loss: 14.4096 - val_acc: 0.1060\n",
      "Epoch 10/15\n",
      "55000/55000 [==============================] - 8s 140us/step - loss: 14.2976 - acc: 0.1129 - val_loss: 14.4096 - val_acc: 0.1060\n",
      "Epoch 11/15\n",
      "55000/55000 [==============================] - 8s 138us/step - loss: 14.2976 - acc: 0.1129 - val_loss: 14.4096 - val_acc: 0.1060\n",
      "Epoch 12/15\n",
      "55000/55000 [==============================] - 8s 140us/step - loss: 14.2976 - acc: 0.1129 - val_loss: 14.4096 - val_acc: 0.1060\n",
      "Epoch 13/15\n",
      "55000/55000 [==============================] - 8s 139us/step - loss: 14.2976 - acc: 0.1129 - val_loss: 14.4096 - val_acc: 0.1060\n",
      "Epoch 14/15\n",
      "55000/55000 [==============================] - 8s 140us/step - loss: 14.2976 - acc: 0.1129 - val_loss: 14.4096 - val_acc: 0.1060\n",
      "Epoch 15/15\n",
      "55000/55000 [==============================] - 8s 138us/step - loss: 14.2976 - acc: 0.1129 - val_loss: 14.4096 - val_acc: 0.1060\n"
     ]
    }
   ],
   "source": [
    "history = network.fit(train_images,\n",
    "                    train_labels,\n",
    "                    epochs=15,\n",
    "                    batch_size=64,\n",
    "                    validation_data=(val_images, val_labels)) "
   ]
  },
  {
   "cell_type": "code",
   "execution_count": 63,
   "metadata": {
    "scrolled": true
   },
   "outputs": [
    {
     "data": {
      "image/png": "[encoded data removed]",
      "text/plain": [
       "<Figure size 432x288 with 1 Axes>"
      ]
     },
     "metadata": {
      "needs_background": "light"
     },
     "output_type": "display_data"
    }
   ],
   "source": [
    "acc = history.history['acc']\n",
    "val_acc = history.history['val_acc']\n",
    "loss = history.history['loss']\n",
    "val_loss = history.history['val_loss']\n",
    "\n",
    "epochs = range(1, len(acc) + 1)\n",
    "\n",
    "plt.plot(epochs, acc, 'r', label='Training acc')\n",
    "plt.plot(epochs, val_acc, 'b', label='Validation acc')\n",
    "plt.title('Training and validation accuracy')\n",
    "plt.xlabel('Epochs')\n",
    "plt.ylabel('ACC')\n",
    "plt.legend()\n",
    "\n",
    "plt.show()"
   ]
  },
  {
   "cell_type": "code",
   "execution_count": 64,
   "metadata": {},
   "outputs": [
    {
     "name": "stdout",
     "output_type": "stream",
     "text": [
      "10000/10000 [==============================] - 1s 100us/step\n"
     ]
    },
    {
     "data": {
      "text/plain": [
       "[14.28869146270752, 0.1135]"
      ]
     },
     "execution_count": 64,
     "metadata": {},
     "output_type": "execute_result"
    }
   ],
   "source": [
    "results = network.evaluate(test_images, test_labels)\n",
    "results "
   ]
  },
  {
   "cell_type": "markdown",
   "metadata": {},
   "source": [
    "### learning rate= 0.1"
   ]
  },
  {
   "cell_type": "code",
   "execution_count": 65,
   "metadata": {},
   "outputs": [],
   "source": [
    "network = models.Sequential()\n",
    "network.add(layers.Dense(256, activation='relu', input_shape=(28 * 28,)))\n",
    "network.add(layers.Dense(256, activation='relu'))\n",
    "network.add(layers.Dense(256, activation='relu'))\n",
    "network.add(layers.Dense(256, activation='relu'))\n",
    "network.add(layers.Dense(256, activation='relu'))\n",
    "network.add(layers.Dense(256, activation='relu'))\n",
    "network.add(layers.Dense(256, activation='relu'))\n",
    "network.add(layers.Dense(256, activation='relu'))\n",
    "network.add(layers.Dense(256, activation='relu'))\n",
    "network.add(layers.Dense(10, activation='softmax'))"
   ]
  },
  {
   "cell_type": "code",
   "execution_count": 66,
   "metadata": {},
   "outputs": [],
   "source": [
    "network.compile(optimizer=optimizers.RMSprop(lr=0.1), \n",
    "                loss='categorical_crossentropy',\n",
    "                metrics=['accuracy'])"
   ]
  },
  {
   "cell_type": "code",
   "execution_count": 67,
   "metadata": {
    "scrolled": true
   },
   "outputs": [
    {
     "name": "stdout",
     "output_type": "stream",
     "text": [
      "Train on 55000 samples, validate on 5000 samples\n",
      "Epoch 1/15\n",
      "55000/55000 [==============================] - 9s 157us/step - loss: 14.5113 - acc: 0.0988 - val_loss: 14.5643 - val_acc: 0.0964\n",
      "Epoch 2/15\n",
      "55000/55000 [==============================] - 8s 137us/step - loss: 14.5250 - acc: 0.0988 - val_loss: 14.5643 - val_acc: 0.0964\n",
      "Epoch 3/15\n",
      "55000/55000 [==============================] - 7s 135us/step - loss: 14.5250 - acc: 0.0988 - val_loss: 14.5643 - val_acc: 0.0964\n",
      "Epoch 4/15\n",
      "55000/55000 [==============================] - 7s 136us/step - loss: 14.5250 - acc: 0.0988 - val_loss: 14.5643 - val_acc: 0.0964\n",
      "Epoch 5/15\n",
      "55000/55000 [==============================] - 8s 151us/step - loss: 14.5250 - acc: 0.0988 - val_loss: 14.5643 - val_acc: 0.0964\n",
      "Epoch 6/15\n",
      "55000/55000 [==============================] - 8s 145us/step - loss: 14.5250 - acc: 0.0988 - val_loss: 14.5643 - val_acc: 0.0964\n",
      "Epoch 7/15\n",
      "55000/55000 [==============================] - 8s 151us/step - loss: 14.5250 - acc: 0.0988 - val_loss: 14.5643 - val_acc: 0.0964\n",
      "Epoch 8/15\n",
      "55000/55000 [==============================] - 8s 152us/step - loss: 14.5250 - acc: 0.0988 - val_loss: 14.5643 - val_acc: 0.0964\n",
      "Epoch 9/15\n",
      "55000/55000 [==============================] - 9s 162us/step - loss: 14.5250 - acc: 0.0988 - val_loss: 14.5643 - val_acc: 0.0964\n",
      "Epoch 10/15\n",
      "55000/55000 [==============================] - 8s 138us/step - loss: 14.5250 - acc: 0.0988 - val_loss: 14.5643 - val_acc: 0.0964\n",
      "Epoch 11/15\n",
      "55000/55000 [==============================] - 8s 138us/step - loss: 14.5250 - acc: 0.0988 - val_loss: 14.5643 - val_acc: 0.0964\n",
      "Epoch 12/15\n",
      "55000/55000 [==============================] - 9s 158us/step - loss: 14.5250 - acc: 0.0988 - val_loss: 14.5643 - val_acc: 0.0964\n",
      "Epoch 13/15\n",
      "55000/55000 [==============================] - 8s 146us/step - loss: 14.5250 - acc: 0.0988 - val_loss: 14.5643 - val_acc: 0.0964\n",
      "Epoch 14/15\n",
      "55000/55000 [==============================] - 8s 147us/step - loss: 14.5250 - acc: 0.0988 - val_loss: 14.5643 - val_acc: 0.0964\n",
      "Epoch 15/15\n",
      "55000/55000 [==============================] - 8s 147us/step - loss: 14.5250 - acc: 0.0988 - val_loss: 14.5643 - val_acc: 0.0964\n"
     ]
    }
   ],
   "source": [
    "history = network.fit(train_images,\n",
    "                    train_labels,\n",
    "                    epochs=15,\n",
    "                    batch_size=64,\n",
    "                    validation_data=(val_images, val_labels)) "
   ]
  },
  {
   "cell_type": "code",
   "execution_count": 68,
   "metadata": {},
   "outputs": [
    {
     "data": {
      "image/png": "[encoded data removed]",
      "text/plain": [
       "<Figure size 432x288 with 1 Axes>"
      ]
     },
     "metadata": {
      "needs_background": "light"
     },
     "output_type": "display_data"
    }
   ],
   "source": [
    "acc = history.history['acc']\n",
    "val_acc = history.history['val_acc']\n",
    "loss = history.history['loss']\n",
    "val_loss = history.history['val_loss']\n",
    "\n",
    "epochs = range(1, len(acc) + 1)\n",
    "\n",
    "plt.plot(epochs, acc, 'r', label='Training acc')\n",
    "plt.plot(epochs, val_acc, 'b', label='Validation acc')\n",
    "plt.title('Training and validation accuracy')\n",
    "plt.xlabel('Epochs')\n",
    "plt.ylabel('ACC')\n",
    "plt.legend()\n",
    "\n",
    "plt.show()"
   ]
  },
  {
   "cell_type": "code",
   "execution_count": 69,
   "metadata": {},
   "outputs": [
    {
     "name": "stdout",
     "output_type": "stream",
     "text": [
      "10000/10000 [==============================] - 1s 91us/step\n"
     ]
    },
    {
     "data": {
      "text/plain": [
       "[14.573981651306152, 0.0958]"
      ]
     },
     "execution_count": 69,
     "metadata": {},
     "output_type": "execute_result"
    }
   ],
   "source": [
    "results = network.evaluate(test_images, test_labels)\n",
    "results "
   ]
  },
  {
   "cell_type": "code",
   "execution_count": null,
   "metadata": {},
   "outputs": [],
   "source": []
  },
  {
   "cell_type": "markdown",
   "metadata": {},
   "source": [
    "## 1-3"
   ]
  },
  {
   "cell_type": "code",
   "execution_count": 36,
   "metadata": {},
   "outputs": [],
   "source": [
    "from keras.datasets import cifar100"
   ]
  },
  {
   "cell_type": "code",
   "execution_count": 53,
   "metadata": {
    "scrolled": true
   },
   "outputs": [],
   "source": [
    "(train_data, train_labels), (test_data, test_labels) = cifar100.load_data(label_mode='coarse')"
   ]
  },
  {
   "cell_type": "code",
   "execution_count": 54,
   "metadata": {
    "scrolled": true
   },
   "outputs": [
    {
     "data": {
      "text/plain": [
       "(50000, 32, 32, 3)"
      ]
     },
     "execution_count": 54,
     "metadata": {},
     "output_type": "execute_result"
    }
   ],
   "source": [
    "train_data.shape"
   ]
  },
  {
   "cell_type": "code",
   "execution_count": 55,
   "metadata": {},
   "outputs": [
    {
     "data": {
      "text/plain": [
       "(10000, 32, 32, 3)"
      ]
     },
     "execution_count": 55,
     "metadata": {},
     "output_type": "execute_result"
    }
   ],
   "source": [
    "test_data.shape"
   ]
  },
  {
   "cell_type": "code",
   "execution_count": 56,
   "metadata": {},
   "outputs": [],
   "source": [
    "val_data = train_data[45000:]\n",
    "train_data = train_data[0:45000]\n",
    "\n",
    "val_labels = train_labels[45000:]\n",
    "train_labels = train_labels[0:45000]\n",
    "\n",
    "### validation data / train data 구분"
   ]
  },
  {
   "cell_type": "code",
   "execution_count": 57,
   "metadata": {},
   "outputs": [
    {
     "data": {
      "text/plain": [
       "5000"
      ]
     },
     "execution_count": 57,
     "metadata": {},
     "output_type": "execute_result"
    }
   ],
   "source": [
    "len(val_data)"
   ]
  },
  {
   "cell_type": "code",
   "execution_count": 58,
   "metadata": {},
   "outputs": [],
   "source": [
    "train_data = train_data.reshape((45000, 32 * 32 * 3))\n",
    "train_data = train_data.astype('float32') / 255\n",
    "\n",
    "val_data = val_data.reshape((5000, 32 * 32 * 3))\n",
    "val_data = val_data.astype('float32') / 255\n",
    "\n",
    "test_data = test_data.reshape((10000, 32 * 32 * 3))\n",
    "test_data = test_data.astype('float32') / 255"
   ]
  },
  {
   "cell_type": "code",
   "execution_count": 59,
   "metadata": {},
   "outputs": [],
   "source": [
    "train_labels = to_categorical(train_labels)\n",
    "val_labels = to_categorical(val_labels)\n",
    "test_labels = to_categorical(test_labels)"
   ]
  },
  {
   "cell_type": "code",
   "execution_count": 60,
   "metadata": {},
   "outputs": [],
   "source": [
    "network = models.Sequential()\n",
    "network.add(layers.Dense(256, activation='relu', input_shape=(32 * 32 * 3,)))\n",
    "network.add(layers.Dense(256, activation='relu'))\n",
    "network.add(layers.Dense(256, activation='relu'))\n",
    "network.add(layers.Dense(256, activation='relu'))\n",
    "network.add(layers.Dense(256, activation='relu'))\n",
    "network.add(layers.Dense(256, activation='relu'))\n",
    "network.add(layers.Dense(256, activation='relu'))\n",
    "network.add(layers.Dense(256, activation='relu'))\n",
    "network.add(layers.Dense(256, activation='relu'))\n",
    "network.add(layers.Dense(20, activation='softmax'))"
   ]
  },
  {
   "cell_type": "code",
   "execution_count": 61,
   "metadata": {},
   "outputs": [],
   "source": [
    "network.compile(optimizer=optimizers.RMSprop(lr=0.001), \n",
    "                loss='categorical_crossentropy',\n",
    "                metrics=['accuracy'])"
   ]
  },
  {
   "cell_type": "code",
   "execution_count": 62,
   "metadata": {
    "scrolled": false
   },
   "outputs": [
    {
     "name": "stdout",
     "output_type": "stream",
     "text": [
      "Train on 45000 samples, validate on 5000 samples\n",
      "Epoch 1/15\n",
      "45000/45000 [==============================] - 13s 281us/step - loss: 2.8101 - acc: 0.1207 - val_loss: 2.7046 - val_acc: 0.1586\n",
      "Epoch 2/15\n",
      "45000/45000 [==============================] - 12s 266us/step - loss: 2.6383 - acc: 0.1765 - val_loss: 2.7554 - val_acc: 0.1724\n",
      "Epoch 3/15\n",
      "45000/45000 [==============================] - 12s 265us/step - loss: 2.5611 - acc: 0.2018 - val_loss: 2.7176 - val_acc: 0.1804\n",
      "Epoch 4/15\n",
      "45000/45000 [==============================] - 12s 272us/step - loss: 2.4906 - acc: 0.2314 - val_loss: 2.7170 - val_acc: 0.1878\n",
      "Epoch 5/15\n",
      "45000/45000 [==============================] - 13s 291us/step - loss: 2.4393 - acc: 0.2514 - val_loss: 2.7743 - val_acc: 0.2068\n",
      "Epoch 6/15\n",
      "45000/45000 [==============================] - 12s 270us/step - loss: 2.3994 - acc: 0.2620 - val_loss: 2.4459 - val_acc: 0.2578\n",
      "Epoch 7/15\n",
      "45000/45000 [==============================] - 12s 271us/step - loss: 2.3681 - acc: 0.2738 - val_loss: 2.5725 - val_acc: 0.2460\n",
      "Epoch 8/15\n",
      "45000/45000 [==============================] - 13s 285us/step - loss: 2.3418 - acc: 0.2845 - val_loss: 2.5106 - val_acc: 0.2424\n",
      "Epoch 9/15\n",
      "45000/45000 [==============================] - 12s 276us/step - loss: 2.3205 - acc: 0.2868 - val_loss: 2.5376 - val_acc: 0.2304\n",
      "Epoch 10/15\n",
      "45000/45000 [==============================] - 12s 276us/step - loss: 2.3104 - acc: 0.2935 - val_loss: 2.6175 - val_acc: 0.2608\n",
      "Epoch 11/15\n",
      "45000/45000 [==============================] - 13s 287us/step - loss: 2.3025 - acc: 0.2964 - val_loss: 2.5653 - val_acc: 0.2380\n",
      "Epoch 12/15\n",
      "45000/45000 [==============================] - 12s 275us/step - loss: 2.2981 - acc: 0.2973 - val_loss: 2.5192 - val_acc: 0.2376\n",
      "Epoch 13/15\n",
      "45000/45000 [==============================] - 13s 278us/step - loss: 2.2884 - acc: 0.3014 - val_loss: 2.7649 - val_acc: 0.2404\n",
      "Epoch 14/15\n",
      "45000/45000 [==============================] - 13s 283us/step - loss: 2.2782 - acc: 0.3052 - val_loss: 2.5688 - val_acc: 0.2692\n",
      "Epoch 15/15\n",
      "45000/45000 [==============================] - 12s 274us/step - loss: 2.2808 - acc: 0.3062 - val_loss: 3.1343 - val_acc: 0.2058\n"
     ]
    }
   ],
   "source": [
    "history = network.fit(train_data,\n",
    "                    train_labels,\n",
    "                    epochs=15,\n",
    "                    batch_size=64,\n",
    "                    validation_data=(val_data, val_labels)) "
   ]
  },
  {
   "cell_type": "code",
   "execution_count": 63,
   "metadata": {},
   "outputs": [
    {
     "data": {
      "image/png": "[encoded data removed]",
      "text/plain": [
       "<Figure size 432x288 with 1 Axes>"
      ]
     },
     "metadata": {
      "needs_background": "light"
     },
     "output_type": "display_data"
    }
   ],
   "source": [
    "acc = history.history['acc']\n",
    "val_acc = history.history['val_acc']\n",
    "loss = history.history['loss']\n",
    "val_loss = history.history['val_loss']\n",
    "\n",
    "epochs = range(1, len(acc) + 1)\n",
    "\n",
    "plt.plot(epochs, acc, 'r', label='Training acc')\n",
    "plt.plot(epochs, val_acc, 'b', label='Validation acc')\n",
    "plt.title('Training and validation accuracy')\n",
    "plt.xlabel('Epochs')\n",
    "plt.ylabel('ACC')\n",
    "plt.legend()\n",
    "\n",
    "plt.show()"
   ]
  },
  {
   "cell_type": "code",
   "execution_count": 65,
   "metadata": {},
   "outputs": [
    {
     "name": "stdout",
     "output_type": "stream",
     "text": [
      "10000/10000 [==============================] - 1s 98us/step\n"
     ]
    },
    {
     "data": {
      "text/plain": [
       "[3.141280951690674, 0.2044]"
      ]
     },
     "execution_count": 65,
     "metadata": {},
     "output_type": "execute_result"
    }
   ],
   "source": [
    "results = network.evaluate(test_data, test_labels)\n",
    "results "
   ]
  },
  {
   "cell_type": "markdown",
   "metadata": {},
   "source": [
    "## 1-4"
   ]
  },
  {
   "cell_type": "code",
   "execution_count": 67,
   "metadata": {},
   "outputs": [],
   "source": [
    "import numpy as np\n",
    "# save np.load\n",
    "np_load_old = np.load\n",
    "\n",
    "# modify the default parameters of np.load\n",
    "np.load = lambda *a,**k: np_load_old(*a, allow_pickle=True, **k)\n",
    "\n",
    "# call load_data with allow_pickle implicitly set to true\n",
    "(train_data, train_labels), (test_data, test_labels) = imdb.load_data(num_words=10000)\n",
    "\n",
    "# restore np.load for future normal usage\n",
    "np.load = np_load_old"
   ]
  },
  {
   "cell_type": "code",
   "execution_count": 68,
   "metadata": {},
   "outputs": [],
   "source": [
    "# word_index is a dictionary mapping words to an integer index\n",
    "word_index = imdb.get_word_index()\n",
    "# We reverse it, mapping integer indices to words\n",
    "reverse_word_index = dict([(value, key) for (key, value) in word_index.items()])\n",
    "# We decode the review; note that our indices were offset by 3\n",
    "# because 0, 1 and 2 are reserved indices for \"padding\", \"start of sequence\", and \"unknown\".\n",
    "decoded_review = ' '.join([reverse_word_index.get(i - 3, '?') for i in train_data[0]])"
   ]
  },
  {
   "cell_type": "code",
   "execution_count": 69,
   "metadata": {},
   "outputs": [],
   "source": [
    "import numpy as np\n",
    "\n",
    "def vectorize_sequences(sequences, dimension=10000):\n",
    "    # Create an all-zero matrix of shape (len(sequences), dimension)\n",
    "    results = np.zeros((len(sequences), dimension))\n",
    "    for i, sequence in enumerate(sequences):\n",
    "        results[i, sequence] = 1.  # set specific indices of results[i] to 1s\n",
    "    return results\n",
    "\n",
    "# Our vectorized training data\n",
    "x_train = vectorize_sequences(train_data)\n",
    "# Our vectorized test data\n",
    "x_test = vectorize_sequences(test_data)"
   ]
  },
  {
   "cell_type": "code",
   "execution_count": 70,
   "metadata": {},
   "outputs": [],
   "source": [
    "# Our vectorized labels\n",
    "y_train = np.asarray(train_labels).astype('float32')\n",
    "y_test = np.asarray(test_labels).astype('float32')"
   ]
  },
  {
   "cell_type": "code",
   "execution_count": null,
   "metadata": {},
   "outputs": [],
   "source": [
    "x_val = x_train[:10000]\n",
    "partial_x_train = x_train[10000:]\n",
    "\n",
    "y_val = y_train[:10000]\n",
    "partial_y_train = y_train[10000:]"
   ]
  },
  {
   "cell_type": "markdown",
   "metadata": {},
   "source": [
    "### 1) hidden layer - 1개 "
   ]
  },
  {
   "cell_type": "code",
   "execution_count": 72,
   "metadata": {},
   "outputs": [],
   "source": [
    "from keras import models\n",
    "from keras import layers\n",
    "\n",
    "model = models.Sequential()\n",
    "model.add(layers.Dense(16, activation='relu', input_shape=(10000,)))\n",
    "model.add(layers.Dense(1, activation='sigmoid'))"
   ]
  },
  {
   "cell_type": "code",
   "execution_count": 73,
   "metadata": {},
   "outputs": [],
   "source": [
    "model.compile(optimizer='rmsprop',\n",
    "              loss='binary_crossentropy', ## loss function\n",
    "              metrics=['accuracy'])"
   ]
  },
  {
   "cell_type": "code",
   "execution_count": 75,
   "metadata": {},
   "outputs": [],
   "source": [
    "from keras import optimizers\n",
    "from keras import losses\n",
    "from keras import metrics\n",
    "\n",
    "model.compile(optimizer=optimizers.RMSprop(lr=0.001), \n",
    "              loss=losses.binary_crossentropy,\n",
    "              metrics=[metrics.binary_accuracy])"
   ]
  },
  {
   "cell_type": "code",
   "execution_count": 77,
   "metadata": {
    "scrolled": true
   },
   "outputs": [
    {
     "name": "stdout",
     "output_type": "stream",
     "text": [
      "Train on 15000 samples, validate on 10000 samples\n",
      "Epoch 1/20\n",
      "15000/15000 [==============================] - 3s 211us/step - loss: 0.5098 - binary_accuracy: 0.8119 - val_loss: 0.4067 - val_binary_accuracy: 0.8663\n",
      "Epoch 2/20\n",
      "15000/15000 [==============================] - 2s 152us/step - loss: 0.3361 - binary_accuracy: 0.8961 - val_loss: 0.3446 - val_binary_accuracy: 0.8692\n",
      "Epoch 3/20\n",
      "15000/15000 [==============================] - 2s 158us/step - loss: 0.2636 - binary_accuracy: 0.9198 - val_loss: 0.2987 - val_binary_accuracy: 0.8903\n",
      "Epoch 4/20\n",
      "15000/15000 [==============================] - 2s 166us/step - loss: 0.2161 - binary_accuracy: 0.9345 - val_loss: 0.2820 - val_binary_accuracy: 0.8903\n",
      "Epoch 5/20\n",
      "15000/15000 [==============================] - 2s 162us/step - loss: 0.1842 - binary_accuracy: 0.9445 - val_loss: 0.2793 - val_binary_accuracy: 0.8881\n",
      "Epoch 6/20\n",
      "15000/15000 [==============================] - 2s 161us/step - loss: 0.1583 - binary_accuracy: 0.9535 - val_loss: 0.2739 - val_binary_accuracy: 0.8899\n",
      "Epoch 7/20\n",
      "15000/15000 [==============================] - 2s 159us/step - loss: 0.1379 - binary_accuracy: 0.9603 - val_loss: 0.2851 - val_binary_accuracy: 0.8849\n",
      "Epoch 8/20\n",
      "15000/15000 [==============================] - 2s 159us/step - loss: 0.1216 - binary_accuracy: 0.9647 - val_loss: 0.2830 - val_binary_accuracy: 0.8894\n",
      "Epoch 9/20\n",
      "15000/15000 [==============================] - 2s 165us/step - loss: 0.1063 - binary_accuracy: 0.9717 - val_loss: 0.2922 - val_binary_accuracy: 0.8866\n",
      "Epoch 10/20\n",
      "15000/15000 [==============================] - 2s 164us/step - loss: 0.0950 - binary_accuracy: 0.9753 - val_loss: 0.3080 - val_binary_accuracy: 0.8834\n",
      "Epoch 11/20\n",
      "15000/15000 [==============================] - 2s 162us/step - loss: 0.0837 - binary_accuracy: 0.9790 - val_loss: 0.3129 - val_binary_accuracy: 0.8822\n",
      "Epoch 12/20\n",
      "15000/15000 [==============================] - 2s 165us/step - loss: 0.0739 - binary_accuracy: 0.9823 - val_loss: 0.3239 - val_binary_accuracy: 0.8813\n",
      "Epoch 13/20\n",
      "15000/15000 [==============================] - 3s 170us/step - loss: 0.0662 - binary_accuracy: 0.9845 - val_loss: 0.3432 - val_binary_accuracy: 0.8808\n",
      "Epoch 14/20\n",
      "15000/15000 [==============================] - 3s 168us/step - loss: 0.0594 - binary_accuracy: 0.9867 - val_loss: 0.3540 - val_binary_accuracy: 0.8792\n",
      "Epoch 15/20\n",
      "15000/15000 [==============================] - 2s 161us/step - loss: 0.0519 - binary_accuracy: 0.9897 - val_loss: 0.3705 - val_binary_accuracy: 0.8750\n",
      "Epoch 16/20\n",
      "15000/15000 [==============================] - 2s 157us/step - loss: 0.0458 - binary_accuracy: 0.9913 - val_loss: 0.3836 - val_binary_accuracy: 0.8773\n",
      "Epoch 17/20\n",
      "15000/15000 [==============================] - 2s 162us/step - loss: 0.0400 - binary_accuracy: 0.9934 - val_loss: 0.3961 - val_binary_accuracy: 0.8757\n",
      "Epoch 18/20\n",
      "15000/15000 [==============================] - 2s 159us/step - loss: 0.0360 - binary_accuracy: 0.9941 - val_loss: 0.4306 - val_binary_accuracy: 0.8698\n",
      "Epoch 19/20\n",
      "15000/15000 [==============================] - 2s 163us/step - loss: 0.0306 - binary_accuracy: 0.9955 - val_loss: 0.4321 - val_binary_accuracy: 0.8746\n",
      "Epoch 20/20\n",
      "15000/15000 [==============================] - 2s 162us/step - loss: 0.0272 - binary_accuracy: 0.9961 - val_loss: 0.4455 - val_binary_accuracy: 0.8722\n"
     ]
    }
   ],
   "source": [
    "history = model.fit(partial_x_train,\n",
    "                    partial_y_train,\n",
    "                    epochs=20,\n",
    "                    batch_size=512,\n",
    "                    validation_data=(x_val, y_val)) \n",
    "\n",
    "##validation data를 같이 넣어서 -> val_loss / val_acc 보기. 학습 커브를 찍어봐서 과적합이 있는지를 파악해야함...."
   ]
  },
  {
   "cell_type": "code",
   "execution_count": 79,
   "metadata": {},
   "outputs": [
    {
     "data": {
      "image/png": "[encoded data removed]",
      "text/plain": [
       "<Figure size 432x288 with 1 Axes>"
      ]
     },
     "metadata": {
      "needs_background": "light"
     },
     "output_type": "display_data"
    }
   ],
   "source": [
    "import matplotlib.pyplot as plt\n",
    "\n",
    "acc = history.history['binary_accuracy']\n",
    "val_acc = history.history['val_binary_accuracy']\n",
    "loss = history.history['loss']\n",
    "val_loss = history.history['val_loss']\n",
    "\n",
    "epochs = range(1, len(acc) + 1)\n",
    "\n",
    "# \"bo\" is for \"blue dot\"\n",
    "plt.plot(epochs, acc, 'r', label='Training Accuracy')\n",
    "# b is for \"solid blue line\"\n",
    "plt.plot(epochs, val_acc, 'b', label='Validation Accuracy')\n",
    "plt.title('Training and validation accuracy')\n",
    "plt.xlabel('Epochs')\n",
    "plt.ylabel('Accuracy')\n",
    "plt.legend()\n",
    "\n",
    "plt.show()"
   ]
  },
  {
   "cell_type": "code",
   "execution_count": 81,
   "metadata": {},
   "outputs": [
    {
     "name": "stdout",
     "output_type": "stream",
     "text": [
      "25000/25000 [==============================] - 3s 120us/step\n"
     ]
    },
    {
     "data": {
      "text/plain": [
       "[0.48474176913499833, 0.85904]"
      ]
     },
     "execution_count": 81,
     "metadata": {},
     "output_type": "execute_result"
    }
   ],
   "source": [
    "results = model.evaluate(x_test, y_test)\n",
    "results"
   ]
  },
  {
   "cell_type": "markdown",
   "metadata": {},
   "source": [
    "### 1) layer - 3개"
   ]
  },
  {
   "cell_type": "code",
   "execution_count": 82,
   "metadata": {},
   "outputs": [],
   "source": [
    "model = models.Sequential()\n",
    "model.add(layers.Dense(16, activation='relu', input_shape=(10000,)))\n",
    "model.add(layers.Dense(16, activation='relu'))\n",
    "model.add(layers.Dense(16, activation='relu'))\n",
    "model.add(layers.Dense(1, activation='sigmoid'))"
   ]
  },
  {
   "cell_type": "code",
   "execution_count": 83,
   "metadata": {},
   "outputs": [],
   "source": [
    "model.compile(optimizer=optimizers.RMSprop(lr=0.001), \n",
    "              loss=losses.binary_crossentropy,\n",
    "              metrics=[metrics.binary_accuracy])"
   ]
  },
  {
   "cell_type": "code",
   "execution_count": 84,
   "metadata": {
    "scrolled": true
   },
   "outputs": [
    {
     "name": "stdout",
     "output_type": "stream",
     "text": [
      "Train on 15000 samples, validate on 10000 samples\n",
      "Epoch 1/20\n",
      "15000/15000 [==============================] - 3s 201us/step - loss: 0.5201 - binary_accuracy: 0.7821 - val_loss: 0.3825 - val_binary_accuracy: 0.8712\n",
      "Epoch 2/20\n",
      "15000/15000 [==============================] - 2s 160us/step - loss: 0.2981 - binary_accuracy: 0.9048 - val_loss: 0.3102 - val_binary_accuracy: 0.8801\n",
      "Epoch 3/20\n",
      "15000/15000 [==============================] - 2s 160us/step - loss: 0.2133 - binary_accuracy: 0.9297 - val_loss: 0.2740 - val_binary_accuracy: 0.8908\n",
      "Epoch 4/20\n",
      "15000/15000 [==============================] - 2s 160us/step - loss: 0.1688 - binary_accuracy: 0.9436 - val_loss: 0.2919 - val_binary_accuracy: 0.8832\n",
      "Epoch 5/20\n",
      "15000/15000 [==============================] - 2s 160us/step - loss: 0.1390 - binary_accuracy: 0.9535 - val_loss: 0.3124 - val_binary_accuracy: 0.8788\n",
      "Epoch 6/20\n",
      "15000/15000 [==============================] - 2s 161us/step - loss: 0.1092 - binary_accuracy: 0.9653 - val_loss: 0.3064 - val_binary_accuracy: 0.8849\n",
      "Epoch 7/20\n",
      "15000/15000 [==============================] - 2s 162us/step - loss: 0.0892 - binary_accuracy: 0.9713 - val_loss: 0.3262 - val_binary_accuracy: 0.8843\n",
      "Epoch 8/20\n",
      "15000/15000 [==============================] - 2s 161us/step - loss: 0.0770 - binary_accuracy: 0.9745 - val_loss: 0.3510 - val_binary_accuracy: 0.8834\n",
      "Epoch 9/20\n",
      "15000/15000 [==============================] - 3s 167us/step - loss: 0.0591 - binary_accuracy: 0.9829 - val_loss: 0.4107 - val_binary_accuracy: 0.8735\n",
      "Epoch 10/20\n",
      "15000/15000 [==============================] - 2s 160us/step - loss: 0.0460 - binary_accuracy: 0.9884 - val_loss: 0.4143 - val_binary_accuracy: 0.8770\n",
      "Epoch 11/20\n",
      "15000/15000 [==============================] - 2s 164us/step - loss: 0.0386 - binary_accuracy: 0.9894 - val_loss: 0.4422 - val_binary_accuracy: 0.8767\n",
      "Epoch 12/20\n",
      "15000/15000 [==============================] - 2s 163us/step - loss: 0.0307 - binary_accuracy: 0.9927 - val_loss: 0.4771 - val_binary_accuracy: 0.8759\n",
      "Epoch 13/20\n",
      "15000/15000 [==============================] - 2s 156us/step - loss: 0.0258 - binary_accuracy: 0.9937 - val_loss: 0.5097 - val_binary_accuracy: 0.8737\n",
      "Epoch 14/20\n",
      "15000/15000 [==============================] - 2s 159us/step - loss: 0.0149 - binary_accuracy: 0.9979 - val_loss: 0.6577 - val_binary_accuracy: 0.8522\n",
      "Epoch 15/20\n",
      "15000/15000 [==============================] - 2s 153us/step - loss: 0.0110 - binary_accuracy: 0.9989 - val_loss: 0.5837 - val_binary_accuracy: 0.8693\n",
      "Epoch 16/20\n",
      "15000/15000 [==============================] - 2s 161us/step - loss: 0.0163 - binary_accuracy: 0.9956 - val_loss: 0.6213 - val_binary_accuracy: 0.8686\n",
      "Epoch 17/20\n",
      "15000/15000 [==============================] - 2s 165us/step - loss: 0.0047 - binary_accuracy: 0.9998 - val_loss: 0.6557 - val_binary_accuracy: 0.8683\n",
      "Epoch 18/20\n",
      "15000/15000 [==============================] - 2s 160us/step - loss: 0.0107 - binary_accuracy: 0.9973 - val_loss: 0.6947 - val_binary_accuracy: 0.8693\n",
      "Epoch 19/20\n",
      "15000/15000 [==============================] - 2s 163us/step - loss: 0.0025 - binary_accuracy: 0.9999 - val_loss: 0.7276 - val_binary_accuracy: 0.8685\n",
      "Epoch 20/20\n",
      "15000/15000 [==============================] - 2s 160us/step - loss: 0.0100 - binary_accuracy: 0.9964 - val_loss: 0.7574 - val_binary_accuracy: 0.8677\n"
     ]
    }
   ],
   "source": [
    "history = model.fit(partial_x_train,\n",
    "                    partial_y_train,\n",
    "                    epochs=20,\n",
    "                    batch_size=512,\n",
    "                    validation_data=(x_val, y_val)) "
   ]
  },
  {
   "cell_type": "code",
   "execution_count": 85,
   "metadata": {},
   "outputs": [
    {
     "data": {
      "image/png": "[encoded data removed]",
      "text/plain": [
       "<Figure size 432x288 with 1 Axes>"
      ]
     },
     "metadata": {
      "needs_background": "light"
     },
     "output_type": "display_data"
    }
   ],
   "source": [
    "acc = history.history['binary_accuracy']\n",
    "val_acc = history.history['val_binary_accuracy']\n",
    "loss = history.history['loss']\n",
    "val_loss = history.history['val_loss']\n",
    "\n",
    "epochs = range(1, len(acc) + 1)\n",
    "\n",
    "# \"bo\" is for \"blue dot\"\n",
    "plt.plot(epochs, acc, 'r', label='Training Accuracy')\n",
    "# b is for \"solid blue line\"\n",
    "plt.plot(epochs, val_acc, 'b', label='Validation Accuracy')\n",
    "plt.title('Training and validation accuracy')\n",
    "plt.xlabel('Epochs')\n",
    "plt.ylabel('Accuracy')\n",
    "plt.legend()\n",
    "\n",
    "plt.show()"
   ]
  },
  {
   "cell_type": "code",
   "execution_count": 86,
   "metadata": {},
   "outputs": [
    {
     "name": "stdout",
     "output_type": "stream",
     "text": [
      "25000/25000 [==============================] - 3s 122us/step\n"
     ]
    },
    {
     "data": {
      "text/plain": [
       "[0.8427668406331539, 0.84924]"
      ]
     },
     "execution_count": 86,
     "metadata": {},
     "output_type": "execute_result"
    }
   ],
   "source": [
    "results = model.evaluate(x_test, y_test)\n",
    "results"
   ]
  },
  {
   "cell_type": "markdown",
   "metadata": {},
   "source": [
    "### 2) 32 units"
   ]
  },
  {
   "cell_type": "code",
   "execution_count": 87,
   "metadata": {},
   "outputs": [],
   "source": [
    "model = models.Sequential()\n",
    "model.add(layers.Dense(32, activation='relu', input_shape=(10000,)))\n",
    "model.add(layers.Dense(32, activation='relu'))\n",
    "model.add(layers.Dense(32, activation='relu'))\n",
    "model.add(layers.Dense(1, activation='sigmoid'))"
   ]
  },
  {
   "cell_type": "code",
   "execution_count": 88,
   "metadata": {},
   "outputs": [],
   "source": [
    "model.compile(optimizer=optimizers.RMSprop(lr=0.001), \n",
    "              loss=losses.binary_crossentropy,\n",
    "              metrics=[metrics.binary_accuracy])"
   ]
  },
  {
   "cell_type": "code",
   "execution_count": 89,
   "metadata": {
    "scrolled": true
   },
   "outputs": [
    {
     "name": "stdout",
     "output_type": "stream",
     "text": [
      "Train on 15000 samples, validate on 10000 samples\n",
      "Epoch 1/20\n",
      "15000/15000 [==============================] - 3s 218us/step - loss: 0.5179 - binary_accuracy: 0.7713 - val_loss: 0.3558 - val_binary_accuracy: 0.8746\n",
      "Epoch 2/20\n",
      "15000/15000 [==============================] - 3s 174us/step - loss: 0.2853 - binary_accuracy: 0.8971 - val_loss: 0.2933 - val_binary_accuracy: 0.8857\n",
      "Epoch 3/20\n",
      "15000/15000 [==============================] - 3s 168us/step - loss: 0.1984 - binary_accuracy: 0.9287 - val_loss: 0.2743 - val_binary_accuracy: 0.8888\n",
      "Epoch 4/20\n",
      "15000/15000 [==============================] - 3s 172us/step - loss: 0.1569 - binary_accuracy: 0.9440 - val_loss: 0.3450 - val_binary_accuracy: 0.8709\n",
      "Epoch 5/20\n",
      "15000/15000 [==============================] - 3s 175us/step - loss: 0.1217 - binary_accuracy: 0.9584 - val_loss: 0.3180 - val_binary_accuracy: 0.8843\n",
      "Epoch 6/20\n",
      "15000/15000 [==============================] - 3s 188us/step - loss: 0.0969 - binary_accuracy: 0.9662 - val_loss: 0.3332 - val_binary_accuracy: 0.8848\n",
      "Epoch 7/20\n",
      "15000/15000 [==============================] - 3s 183us/step - loss: 0.0764 - binary_accuracy: 0.9752 - val_loss: 0.3561 - val_binary_accuracy: 0.8827\n",
      "Epoch 8/20\n",
      "15000/15000 [==============================] - 3s 179us/step - loss: 0.0614 - binary_accuracy: 0.9815 - val_loss: 0.3953 - val_binary_accuracy: 0.8811\n",
      "Epoch 9/20\n",
      "15000/15000 [==============================] - 3s 172us/step - loss: 0.0454 - binary_accuracy: 0.9863 - val_loss: 0.4297 - val_binary_accuracy: 0.8757\n",
      "Epoch 10/20\n",
      "15000/15000 [==============================] - 3s 177us/step - loss: 0.0208 - binary_accuracy: 0.9961 - val_loss: 0.8011 - val_binary_accuracy: 0.8312\n",
      "Epoch 11/20\n",
      "15000/15000 [==============================] - 3s 180us/step - loss: 0.0214 - binary_accuracy: 0.9943 - val_loss: 0.5357 - val_binary_accuracy: 0.8776\n",
      "Epoch 12/20\n",
      "15000/15000 [==============================] - 3s 172us/step - loss: 0.0320 - binary_accuracy: 0.9921 - val_loss: 0.5652 - val_binary_accuracy: 0.8743\n",
      "Epoch 13/20\n",
      "15000/15000 [==============================] - 3s 171us/step - loss: 0.0043 - binary_accuracy: 0.9997 - val_loss: 0.6124 - val_binary_accuracy: 0.8724\n",
      "Epoch 14/20\n",
      "15000/15000 [==============================] - 3s 179us/step - loss: 0.0299 - binary_accuracy: 0.9909 - val_loss: 0.6431 - val_binary_accuracy: 0.8672\n",
      "Epoch 15/20\n",
      "15000/15000 [==============================] - 3s 170us/step - loss: 0.0020 - binary_accuracy: 0.9999 - val_loss: 0.6694 - val_binary_accuracy: 0.8701\n",
      "Epoch 16/20\n",
      "15000/15000 [==============================] - 3s 169us/step - loss: 0.0013 - binary_accuracy: 0.9999 - val_loss: 0.7304 - val_binary_accuracy: 0.8718\n",
      "Epoch 17/20\n",
      "15000/15000 [==============================] - 3s 171us/step - loss: 0.0281 - binary_accuracy: 0.9930 - val_loss: 0.7453 - val_binary_accuracy: 0.8676\n",
      "Epoch 18/20\n",
      "15000/15000 [==============================] - 3s 168us/step - loss: 6.8774e-04 - binary_accuracy: 0.9999 - val_loss: 0.7651 - val_binary_accuracy: 0.8672\n",
      "Epoch 19/20\n",
      "15000/15000 [==============================] - 3s 171us/step - loss: 4.6897e-04 - binary_accuracy: 1.0000 - val_loss: 0.8102 - val_binary_accuracy: 0.8686\n",
      "Epoch 20/20\n",
      "15000/15000 [==============================] - 3s 167us/step - loss: 5.6791e-04 - binary_accuracy: 0.9999 - val_loss: 1.3632 - val_binary_accuracy: 0.8289\n"
     ]
    }
   ],
   "source": [
    "history = model.fit(partial_x_train,\n",
    "                    partial_y_train,\n",
    "                    epochs=20,\n",
    "                    batch_size=512,\n",
    "                    validation_data=(x_val, y_val)) "
   ]
  },
  {
   "cell_type": "code",
   "execution_count": 91,
   "metadata": {},
   "outputs": [
    {
     "data": {
      "image/png": "[encoded data removed]",
      "text/plain": [
       "<Figure size 432x288 with 1 Axes>"
      ]
     },
     "metadata": {
      "needs_background": "light"
     },
     "output_type": "display_data"
    }
   ],
   "source": [
    "acc = history.history['binary_accuracy']\n",
    "val_acc = history.history['val_binary_accuracy']\n",
    "loss = history.history['loss']\n",
    "val_loss = history.history['val_loss']\n",
    "\n",
    "epochs = range(1, len(acc) + 1)\n",
    "\n",
    "# \"bo\" is for \"blue dot\"\n",
    "plt.plot(epochs, acc, 'r', label='Training Accuracy')\n",
    "# b is for \"solid blue line\"\n",
    "plt.plot(epochs, val_acc, 'b', label='Validation Accuracy')\n",
    "plt.title('Training and validation accuracy')\n",
    "plt.xlabel('Epochs')\n",
    "plt.ylabel('Accuracy')\n",
    "plt.legend()\n",
    "\n",
    "plt.show()"
   ]
  },
  {
   "cell_type": "code",
   "execution_count": 92,
   "metadata": {},
   "outputs": [
    {
     "name": "stdout",
     "output_type": "stream",
     "text": [
      "25000/25000 [==============================] - 3s 124us/step\n"
     ]
    },
    {
     "data": {
      "text/plain": [
       "[1.3991939484345912, 0.81748]"
      ]
     },
     "execution_count": 92,
     "metadata": {},
     "output_type": "execute_result"
    }
   ],
   "source": [
    "results = model.evaluate(x_test, y_test)\n",
    "results"
   ]
  },
  {
   "cell_type": "markdown",
   "metadata": {},
   "source": [
    "### 2) 64 units"
   ]
  },
  {
   "cell_type": "code",
   "execution_count": 93,
   "metadata": {},
   "outputs": [],
   "source": [
    "model = models.Sequential()\n",
    "model.add(layers.Dense(64, activation='relu', input_shape=(10000,)))\n",
    "model.add(layers.Dense(64, activation='relu'))\n",
    "model.add(layers.Dense(64, activation='relu'))\n",
    "model.add(layers.Dense(1, activation='sigmoid'))"
   ]
  },
  {
   "cell_type": "code",
   "execution_count": 94,
   "metadata": {},
   "outputs": [],
   "source": [
    "model.compile(optimizer=optimizers.RMSprop(lr=0.001), \n",
    "              loss=losses.binary_crossentropy,\n",
    "              metrics=[metrics.binary_accuracy])"
   ]
  },
  {
   "cell_type": "code",
   "execution_count": 95,
   "metadata": {},
   "outputs": [
    {
     "name": "stdout",
     "output_type": "stream",
     "text": [
      "Train on 15000 samples, validate on 10000 samples\n",
      "Epoch 1/20\n",
      "15000/15000 [==============================] - 4s 254us/step - loss: 0.4894 - binary_accuracy: 0.7577 - val_loss: 0.3136 - val_binary_accuracy: 0.8812\n",
      "Epoch 2/20\n",
      "15000/15000 [==============================] - 3s 204us/step - loss: 0.2649 - binary_accuracy: 0.9010 - val_loss: 0.2915 - val_binary_accuracy: 0.8819\n",
      "Epoch 3/20\n",
      "15000/15000 [==============================] - 3s 209us/step - loss: 0.1834 - binary_accuracy: 0.9313 - val_loss: 0.2810 - val_binary_accuracy: 0.8917\n",
      "Epoch 4/20\n",
      "15000/15000 [==============================] - 3s 203us/step - loss: 0.1356 - binary_accuracy: 0.9522 - val_loss: 0.4240 - val_binary_accuracy: 0.8503\n",
      "Epoch 5/20\n",
      "15000/15000 [==============================] - 3s 194us/step - loss: 0.1046 - binary_accuracy: 0.9645 - val_loss: 0.3436 - val_binary_accuracy: 0.8849\n",
      "Epoch 6/20\n",
      "15000/15000 [==============================] - 3s 197us/step - loss: 0.0830 - binary_accuracy: 0.9759 - val_loss: 0.3756 - val_binary_accuracy: 0.8821\n",
      "Epoch 7/20\n",
      "15000/15000 [==============================] - 3s 198us/step - loss: 0.0698 - binary_accuracy: 0.9811 - val_loss: 0.4040 - val_binary_accuracy: 0.8798\n",
      "Epoch 8/20\n",
      "15000/15000 [==============================] - 3s 193us/step - loss: 0.0150 - binary_accuracy: 0.9971 - val_loss: 0.4939 - val_binary_accuracy: 0.8771\n",
      "Epoch 9/20\n",
      "15000/15000 [==============================] - 3s 205us/step - loss: 0.0760 - binary_accuracy: 0.9842 - val_loss: 0.5251 - val_binary_accuracy: 0.8775\n",
      "Epoch 10/20\n",
      "15000/15000 [==============================] - 3s 204us/step - loss: 0.0039 - binary_accuracy: 0.9994 - val_loss: 0.5791 - val_binary_accuracy: 0.8777\n",
      "Epoch 11/20\n",
      "15000/15000 [==============================] - 3s 195us/step - loss: 0.0019 - binary_accuracy: 0.9999 - val_loss: 0.6783 - val_binary_accuracy: 0.8772\n",
      "Epoch 12/20\n",
      "15000/15000 [==============================] - 3s 194us/step - loss: 0.1051 - binary_accuracy: 0.9867 - val_loss: 0.6973 - val_binary_accuracy: 0.8736\n",
      "Epoch 13/20\n",
      "15000/15000 [==============================] - 3s 187us/step - loss: 5.2454e-04 - binary_accuracy: 1.0000 - val_loss: 0.7317 - val_binary_accuracy: 0.8734\n",
      "Epoch 14/20\n",
      "15000/15000 [==============================] - 3s 195us/step - loss: 3.0959e-04 - binary_accuracy: 1.0000 - val_loss: 0.7892 - val_binary_accuracy: 0.8731\n",
      "Epoch 15/20\n",
      "15000/15000 [==============================] - 3s 189us/step - loss: 1.4955e-04 - binary_accuracy: 1.0000 - val_loss: 0.8726 - val_binary_accuracy: 0.8729\n",
      "Epoch 16/20\n",
      "15000/15000 [==============================] - 3s 199us/step - loss: 5.0761e-05 - binary_accuracy: 1.0000 - val_loss: 0.9783 - val_binary_accuracy: 0.8716\n",
      "Epoch 17/20\n",
      "15000/15000 [==============================] - 3s 192us/step - loss: 1.2413e-05 - binary_accuracy: 1.0000 - val_loss: 1.0819 - val_binary_accuracy: 0.8703\n",
      "Epoch 18/20\n",
      "15000/15000 [==============================] - 3s 194us/step - loss: 0.0927 - binary_accuracy: 0.9882 - val_loss: 1.1526 - val_binary_accuracy: 0.8666\n",
      "Epoch 19/20\n",
      "15000/15000 [==============================] - 3s 191us/step - loss: 6.2029e-05 - binary_accuracy: 1.0000 - val_loss: 1.1240 - val_binary_accuracy: 0.8681\n",
      "Epoch 20/20\n",
      "15000/15000 [==============================] - 3s 195us/step - loss: 8.0108e-05 - binary_accuracy: 1.0000 - val_loss: 1.1263 - val_binary_accuracy: 0.8678\n"
     ]
    }
   ],
   "source": [
    "history = model.fit(partial_x_train,\n",
    "                    partial_y_train,\n",
    "                    epochs=20,\n",
    "                    batch_size=512,\n",
    "                    validation_data=(x_val, y_val)) "
   ]
  },
  {
   "cell_type": "code",
   "execution_count": 98,
   "metadata": {},
   "outputs": [
    {
     "data": {
      "image/png": "[encoded data removed]",
      "text/plain": [
       "<Figure size 432x288 with 1 Axes>"
      ]
     },
     "metadata": {
      "needs_background": "light"
     },
     "output_type": "display_data"
    }
   ],
   "source": [
    "acc = history.history['binary_accuracy']\n",
    "val_acc = history.history['val_binary_accuracy']\n",
    "loss = history.history['loss']\n",
    "val_loss = history.history['val_loss']\n",
    "\n",
    "epochs = range(1, len(acc) + 1)\n",
    "\n",
    "# \"bo\" is for \"blue dot\"\n",
    "plt.plot(epochs, acc, 'r', label='Training Accuracy')\n",
    "# b is for \"solid blue line\"\n",
    "plt.plot(epochs, val_acc, 'b', label='Validation Accuracy')\n",
    "plt.title('Training and validation accuracy')\n",
    "plt.xlabel('Epochs')\n",
    "plt.ylabel('Accuracy')\n",
    "plt.legend()\n",
    "\n",
    "plt.show()"
   ]
  },
  {
   "cell_type": "code",
   "execution_count": 99,
   "metadata": {},
   "outputs": [
    {
     "name": "stdout",
     "output_type": "stream",
     "text": [
      "25000/25000 [==============================] - 3s 135us/step\n"
     ]
    },
    {
     "data": {
      "text/plain": [
       "[1.2320237596295773, 0.85796]"
      ]
     },
     "execution_count": 99,
     "metadata": {},
     "output_type": "execute_result"
    }
   ],
   "source": [
    "results = model.evaluate(x_test, y_test)\n",
    "results"
   ]
  },
  {
   "cell_type": "markdown",
   "metadata": {},
   "source": [
    "### 3) mse loss function"
   ]
  },
  {
   "cell_type": "code",
   "execution_count": 100,
   "metadata": {},
   "outputs": [],
   "source": [
    "model = models.Sequential()\n",
    "model.add(layers.Dense(16, activation='relu', input_shape=(10000,)))\n",
    "model.add(layers.Dense(16, activation='relu'))\n",
    "model.add(layers.Dense(16, activation='relu'))\n",
    "model.add(layers.Dense(1, activation='sigmoid'))"
   ]
  },
  {
   "cell_type": "code",
   "execution_count": 101,
   "metadata": {},
   "outputs": [],
   "source": [
    "model.compile(optimizer=optimizers.RMSprop(lr=0.001), \n",
    "              loss=losses.mse,\n",
    "              metrics=[metrics.binary_accuracy])"
   ]
  },
  {
   "cell_type": "code",
   "execution_count": 102,
   "metadata": {
    "scrolled": true
   },
   "outputs": [
    {
     "name": "stdout",
     "output_type": "stream",
     "text": [
      "Train on 15000 samples, validate on 10000 samples\n",
      "Epoch 1/20\n",
      "15000/15000 [==============================] - 3s 220us/step - loss: 0.1710 - binary_accuracy: 0.7729 - val_loss: 0.1158 - val_binary_accuracy: 0.8681\n",
      "Epoch 2/20\n",
      "15000/15000 [==============================] - 3s 167us/step - loss: 0.0860 - binary_accuracy: 0.9040 - val_loss: 0.0908 - val_binary_accuracy: 0.8828\n",
      "Epoch 3/20\n",
      "15000/15000 [==============================] - 2s 164us/step - loss: 0.0615 - binary_accuracy: 0.9302 - val_loss: 0.0901 - val_binary_accuracy: 0.8795\n",
      "Epoch 4/20\n",
      "15000/15000 [==============================] - 2s 162us/step - loss: 0.0454 - binary_accuracy: 0.9502 - val_loss: 0.0955 - val_binary_accuracy: 0.8707\n",
      "Epoch 5/20\n",
      "15000/15000 [==============================] - 3s 167us/step - loss: 0.0357 - binary_accuracy: 0.9619 - val_loss: 0.0875 - val_binary_accuracy: 0.8839\n",
      "Epoch 6/20\n",
      "15000/15000 [==============================] - 2s 162us/step - loss: 0.0285 - binary_accuracy: 0.9705 - val_loss: 0.0907 - val_binary_accuracy: 0.8788\n",
      "Epoch 7/20\n",
      "15000/15000 [==============================] - 2s 158us/step - loss: 0.0231 - binary_accuracy: 0.9758 - val_loss: 0.0944 - val_binary_accuracy: 0.8758\n",
      "Epoch 8/20\n",
      "15000/15000 [==============================] - 2s 159us/step - loss: 0.0173 - binary_accuracy: 0.9835 - val_loss: 0.0947 - val_binary_accuracy: 0.8755\n",
      "Epoch 9/20\n",
      "15000/15000 [==============================] - 2s 158us/step - loss: 0.0143 - binary_accuracy: 0.9865 - val_loss: 0.0966 - val_binary_accuracy: 0.8749\n",
      "Epoch 10/20\n",
      "15000/15000 [==============================] - 2s 156us/step - loss: 0.0131 - binary_accuracy: 0.9871 - val_loss: 0.0955 - val_binary_accuracy: 0.8764\n",
      "Epoch 11/20\n",
      "15000/15000 [==============================] - 2s 158us/step - loss: 0.0101 - binary_accuracy: 0.9899 - val_loss: 0.0983 - val_binary_accuracy: 0.8733\n",
      "Epoch 12/20\n",
      "15000/15000 [==============================] - 2s 157us/step - loss: 0.0092 - binary_accuracy: 0.9911 - val_loss: 0.0995 - val_binary_accuracy: 0.8731\n",
      "Epoch 13/20\n",
      "15000/15000 [==============================] - 3s 167us/step - loss: 0.0047 - binary_accuracy: 0.9962 - val_loss: 0.1020 - val_binary_accuracy: 0.8724\n",
      "Epoch 14/20\n",
      "15000/15000 [==============================] - 2s 166us/step - loss: 0.0080 - binary_accuracy: 0.9912 - val_loss: 0.1052 - val_binary_accuracy: 0.8704\n",
      "Epoch 15/20\n",
      "15000/15000 [==============================] - 2s 165us/step - loss: 0.0036 - binary_accuracy: 0.9969 - val_loss: 0.1094 - val_binary_accuracy: 0.8663\n",
      "Epoch 16/20\n",
      "15000/15000 [==============================] - 2s 160us/step - loss: 0.0069 - binary_accuracy: 0.9923 - val_loss: 0.1067 - val_binary_accuracy: 0.8690\n",
      "Epoch 17/20\n",
      "15000/15000 [==============================] - 2s 156us/step - loss: 0.0031 - binary_accuracy: 0.9971 - val_loss: 0.1359 - val_binary_accuracy: 0.8392\n",
      "Epoch 18/20\n",
      "15000/15000 [==============================] - 2s 157us/step - loss: 0.0041 - binary_accuracy: 0.9961 - val_loss: 0.1078 - val_binary_accuracy: 0.8698\n",
      "Epoch 19/20\n",
      "15000/15000 [==============================] - 2s 157us/step - loss: 0.0062 - binary_accuracy: 0.9926 - val_loss: 0.1094 - val_binary_accuracy: 0.8672\n",
      "Epoch 20/20\n",
      "15000/15000 [==============================] - 3s 173us/step - loss: 0.0025 - binary_accuracy: 0.9976 - val_loss: 0.1104 - val_binary_accuracy: 0.8676\n"
     ]
    }
   ],
   "source": [
    "history = model.fit(partial_x_train,\n",
    "                    partial_y_train,\n",
    "                    epochs=20,\n",
    "                    batch_size=512,\n",
    "                    validation_data=(x_val, y_val)) "
   ]
  },
  {
   "cell_type": "code",
   "execution_count": 103,
   "metadata": {},
   "outputs": [
    {
     "data": {
      "image/png": "[encoded data removed]",
      "text/plain": [
       "<Figure size 432x288 with 1 Axes>"
      ]
     },
     "metadata": {
      "needs_background": "light"
     },
     "output_type": "display_data"
    }
   ],
   "source": [
    "acc = history.history['binary_accuracy']\n",
    "val_acc = history.history['val_binary_accuracy']\n",
    "loss = history.history['loss']\n",
    "val_loss = history.history['val_loss']\n",
    "\n",
    "epochs = range(1, len(acc) + 1)\n",
    "\n",
    "# \"bo\" is for \"blue dot\"\n",
    "plt.plot(epochs, acc, 'r', label='Training Accuracy')\n",
    "# b is for \"solid blue line\"\n",
    "plt.plot(epochs, val_acc, 'b', label='Validation Accuracy')\n",
    "plt.title('Training and validation accuracy')\n",
    "plt.xlabel('Epochs')\n",
    "plt.ylabel('Accuracy')\n",
    "plt.legend()\n",
    "\n",
    "plt.show()"
   ]
  },
  {
   "cell_type": "code",
   "execution_count": 104,
   "metadata": {},
   "outputs": [
    {
     "name": "stdout",
     "output_type": "stream",
     "text": [
      "25000/25000 [==============================] - 3s 128us/step\n"
     ]
    },
    {
     "data": {
      "text/plain": [
       "[0.12265945142924786, 0.85256]"
      ]
     },
     "execution_count": 104,
     "metadata": {},
     "output_type": "execute_result"
    }
   ],
   "source": [
    "results = model.evaluate(x_test, y_test)\n",
    "results"
   ]
  },
  {
   "cell_type": "markdown",
   "metadata": {},
   "source": [
    "### 4) tanh activation"
   ]
  },
  {
   "cell_type": "code",
   "execution_count": 112,
   "metadata": {},
   "outputs": [],
   "source": [
    "model = models.Sequential()\n",
    "model.add(layers.Dense(16, activation='tanh', input_shape=(10000,)))\n",
    "model.add(layers.Dense(16, activation='tanh'))\n",
    "model.add(layers.Dense(16, activation='tanh'))\n",
    "model.add(layers.Dense(1, activation='sigmoid'))"
   ]
  },
  {
   "cell_type": "code",
   "execution_count": 113,
   "metadata": {},
   "outputs": [],
   "source": [
    "model.compile(optimizer=optimizers.RMSprop(lr=0.001), \n",
    "              loss=losses.mse,\n",
    "              metrics=[metrics.binary_accuracy])"
   ]
  },
  {
   "cell_type": "code",
   "execution_count": 114,
   "metadata": {
    "scrolled": true
   },
   "outputs": [
    {
     "name": "stdout",
     "output_type": "stream",
     "text": [
      "Train on 15000 samples, validate on 10000 samples\n",
      "Epoch 1/20\n",
      "15000/15000 [==============================] - 3s 197us/step - loss: 0.1532 - binary_accuracy: 0.8000 - val_loss: 0.1006 - val_binary_accuracy: 0.8758\n",
      "Epoch 2/20\n",
      "15000/15000 [==============================] - 2s 154us/step - loss: 0.0728 - binary_accuracy: 0.9137 - val_loss: 0.0836 - val_binary_accuracy: 0.8906\n",
      "Epoch 3/20\n",
      "15000/15000 [==============================] - 3s 168us/step - loss: 0.0497 - binary_accuracy: 0.9377 - val_loss: 0.0944 - val_binary_accuracy: 0.8720\n",
      "Epoch 4/20\n",
      "15000/15000 [==============================] - 3s 168us/step - loss: 0.0389 - binary_accuracy: 0.9532 - val_loss: 0.0881 - val_binary_accuracy: 0.8844\n",
      "Epoch 5/20\n",
      "15000/15000 [==============================] - 2s 158us/step - loss: 0.0305 - binary_accuracy: 0.9629 - val_loss: 0.0962 - val_binary_accuracy: 0.8766\n",
      "Epoch 6/20\n",
      "15000/15000 [==============================] - 2s 164us/step - loss: 0.0223 - binary_accuracy: 0.9737 - val_loss: 0.1249 - val_binary_accuracy: 0.8468\n",
      "Epoch 7/20\n",
      "15000/15000 [==============================] - 2s 160us/step - loss: 0.0194 - binary_accuracy: 0.9781 - val_loss: 0.1039 - val_binary_accuracy: 0.8732\n",
      "Epoch 8/20\n",
      "15000/15000 [==============================] - 2s 157us/step - loss: 0.0174 - binary_accuracy: 0.9807 - val_loss: 0.1070 - val_binary_accuracy: 0.8743\n",
      "Epoch 9/20\n",
      "15000/15000 [==============================] - 2s 155us/step - loss: 0.0160 - binary_accuracy: 0.9817 - val_loss: 0.1089 - val_binary_accuracy: 0.8716\n",
      "Epoch 10/20\n",
      "15000/15000 [==============================] - 2s 152us/step - loss: 0.0141 - binary_accuracy: 0.9846 - val_loss: 0.1104 - val_binary_accuracy: 0.8725\n",
      "Epoch 11/20\n",
      "15000/15000 [==============================] - 2s 155us/step - loss: 0.0134 - binary_accuracy: 0.9851 - val_loss: 0.1120 - val_binary_accuracy: 0.8709\n",
      "Epoch 12/20\n",
      "15000/15000 [==============================] - 2s 154us/step - loss: 0.0133 - binary_accuracy: 0.9851 - val_loss: 0.1137 - val_binary_accuracy: 0.8701\n",
      "Epoch 13/20\n",
      "15000/15000 [==============================] - 2s 153us/step - loss: 0.0075 - binary_accuracy: 0.9925 - val_loss: 0.1276 - val_binary_accuracy: 0.8574\n",
      "Epoch 14/20\n",
      "15000/15000 [==============================] - 2s 154us/step - loss: 0.0109 - binary_accuracy: 0.9881 - val_loss: 0.1159 - val_binary_accuracy: 0.8710\n",
      "Epoch 15/20\n",
      "15000/15000 [==============================] - 2s 153us/step - loss: 0.0118 - binary_accuracy: 0.9875 - val_loss: 0.1180 - val_binary_accuracy: 0.8677\n",
      "Epoch 16/20\n",
      "15000/15000 [==============================] - 2s 155us/step - loss: 0.0120 - binary_accuracy: 0.9867 - val_loss: 0.1177 - val_binary_accuracy: 0.8704\n",
      "Epoch 17/20\n",
      "15000/15000 [==============================] - 2s 164us/step - loss: 0.0081 - binary_accuracy: 0.9913 - val_loss: 0.1183 - val_binary_accuracy: 0.8678\n",
      "Epoch 18/20\n",
      "15000/15000 [==============================] - 2s 159us/step - loss: 0.0056 - binary_accuracy: 0.9945 - val_loss: 0.1190 - val_binary_accuracy: 0.8686\n",
      "Epoch 19/20\n",
      "15000/15000 [==============================] - 2s 156us/step - loss: 0.0108 - binary_accuracy: 0.9878 - val_loss: 0.1212 - val_binary_accuracy: 0.8653\n",
      "Epoch 20/20\n",
      "15000/15000 [==============================] - 2s 160us/step - loss: 0.0051 - binary_accuracy: 0.9949 - val_loss: 0.1224 - val_binary_accuracy: 0.8650\n"
     ]
    }
   ],
   "source": [
    "history = model.fit(partial_x_train,\n",
    "                    partial_y_train,\n",
    "                    epochs=20,\n",
    "                    batch_size=512,\n",
    "                    validation_data=(x_val, y_val)) "
   ]
  },
  {
   "cell_type": "code",
   "execution_count": 118,
   "metadata": {},
   "outputs": [
    {
     "data": {
      "image/png": "[encoded data removed]",
      "text/plain": [
       "<Figure size 432x288 with 1 Axes>"
      ]
     },
     "metadata": {
      "needs_background": "light"
     },
     "output_type": "display_data"
    }
   ],
   "source": [
    "acc = history.history['binary_accuracy']\n",
    "val_acc = history.history['val_binary_accuracy']\n",
    "loss = history.history['loss']\n",
    "val_loss = history.history['val_loss']\n",
    "epochs = range(1, len(acc) + 1)\n",
    "\n",
    "plt.plot(epochs, acc, 'r', label='Training Accuracy')\n",
    "plt.plot(epochs, val_acc, 'b', label='Validation Accuracy')\n",
    "plt.title('Training and validation accuracy')\n",
    "plt.xlabel('Epochs')\n",
    "plt.ylabel('Accuracy')\n",
    "plt.legend()\n",
    "\n",
    "plt.show()"
   ]
  },
  {
   "cell_type": "code",
   "execution_count": 119,
   "metadata": {},
   "outputs": [
    {
     "name": "stdout",
     "output_type": "stream",
     "text": [
      "25000/25000 [==============================] - 3s 117us/step\n"
     ]
    },
    {
     "data": {
      "text/plain": [
       "[0.13450770887553692, 0.85224]"
      ]
     },
     "execution_count": 119,
     "metadata": {},
     "output_type": "execute_result"
    }
   ],
   "source": [
    "results = model.evaluate(x_test, y_test)\n",
    "results"
   ]
  }
 ],
 "metadata": {
  "kernelspec": {
   "display_name": "Python 3",
   "language": "python",
   "name": "python3"
  },
  "language_info": {
   "codemirror_mode": {
    "name": "ipython",
    "version": 3
   },
   "file_extension": ".py",
   "mimetype": "text/x-python",
   "name": "python",
   "nbconvert_exporter": "python",
   "pygments_lexer": "ipython3",
   "version": "3.7.0"
  }
 },
 "nbformat": 4,
 "nbformat_minor": 2
}
