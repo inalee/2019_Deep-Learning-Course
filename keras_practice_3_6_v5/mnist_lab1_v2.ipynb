{
 "cells": [
  {
   "cell_type": "code",
   "execution_count": 1,
   "metadata": {},
   "outputs": [
    {
     "name": "stderr",
     "output_type": "stream",
     "text": [
      "Using TensorFlow backend.\n"
     ]
    }
   ],
   "source": [
    "from keras.datasets import mnist\n",
    "\n",
    "(train_images, train_labels), (test_images, test_labels) = mnist.load_data()\n",
    "\n",
    "train_images = train_images.reshape((60000, 28 * 28))\n",
    "train_images = train_images.astype('float32') / 255\n",
    "\n",
    "test_images = test_images.reshape((10000, 28 * 28))\n",
    "test_images = test_images.astype('float32') / 255"
   ]
  },
  {
   "cell_type": "code",
   "execution_count": 2,
   "metadata": {},
   "outputs": [],
   "source": [
    "from keras.utils import to_categorical\n",
    "\n",
    "train_labels = to_categorical(train_labels)\n",
    "test_labels = to_categorical(test_labels)"
   ]
  },
  {
   "cell_type": "code",
   "execution_count": 3,
   "metadata": {},
   "outputs": [
    {
     "name": "stdout",
     "output_type": "stream",
     "text": [
      "WARNING:tensorflow:From c:\\users\\ina lee\\appdata\\local\\programs\\python\\python37\\lib\\site-packages\\tensorflow\\python\\framework\\op_def_library.py:263: colocate_with (from tensorflow.python.framework.ops) is deprecated and will be removed in a future version.\n",
      "Instructions for updating:\n",
      "Colocations handled automatically by placer.\n"
     ]
    }
   ],
   "source": [
    "from keras import models\n",
    "from keras import layers\n",
    "\n",
    "network = models.Sequential()\n",
    "network.add(layers.Dense(256, activation='sigmoid', input_shape=(28 * 28,)))\n",
    "network.add(layers.Dense(256, activation='sigmoid'))\n",
    "network.add(layers.Dense(256, activation='sigmoid'))\n",
    "network.add(layers.Dense(256, activation='sigmoid'))\n",
    "network.add(layers.Dense(256, activation='sigmoid'))\n",
    "network.add(layers.Dense(256, activation='sigmoid'))\n",
    "network.add(layers.Dense(256, activation='sigmoid'))\n",
    "network.add(layers.Dense(256, activation='sigmoid'))\n",
    "network.add(layers.Dense(256, activation='sigmoid'))\n",
    "network.add(layers.Dense(10, activation='softmax'))\n",
    "\n",
    "\n",
    "### sigmoid -> relu로 사용하면??? "
   ]
  },
  {
   "cell_type": "code",
   "execution_count": 6,
   "metadata": {},
   "outputs": [],
   "source": [
    "from keras import optimizers\n",
    "\n",
    "\"\"\"network.compile(optimizer='sgd',\n",
    "                loss='categorical_crossentropy',\n",
    "                metrics=['accuracy'])\n",
    "\"\"\"\n",
    "\n",
    "network.compile(optimizer='rmsprop',\n",
    "                loss='categorical_crossentropy',\n",
    "                metrics=['accuracy'])\n",
    "\n",
    "##### 어떤 initializer 에 따라서 성능이 좌지우지 되는지를 알 수 있음. \n",
    "\n",
    "#### rmsprop 이 sgd보다 학습이 잘됨.\n",
    "\n",
    "### 딥하게 만들었을 때 그 차이가 극명하게 드러남. \n",
    "\n",
    "### optimizer / activation function .. 어떻게 좋은 것을 선택할 것인지가 issue!!!! 상황에 맞게 잘 선택해야 함 ."
   ]
  },
  {
   "cell_type": "code",
   "execution_count": null,
   "metadata": {
    "scrolled": true
   },
   "outputs": [
    {
     "name": "stdout",
     "output_type": "stream",
     "text": [
      "Epoch 1/15\n",
      "60000/60000 [==============================] - 14s 240us/step - loss: 2.3201 - acc: 0.1043\n",
      "Epoch 2/15\n",
      "60000/60000 [==============================] - 14s 230us/step - loss: 2.3025 - acc: 0.1090\n",
      "Epoch 3/15\n",
      "60000/60000 [==============================] - 15s 242us/step - loss: 2.3016 - acc: 0.1123\n",
      "Epoch 4/15\n",
      "60000/60000 [==============================] - 14s 234us/step - loss: 2.3015 - acc: 0.1123\n",
      "Epoch 5/15\n",
      "60000/60000 [==============================] - 14s 229us/step - loss: 2.3015 - acc: 0.1124\n",
      "Epoch 6/15\n",
      "60000/60000 [==============================] - 14s 227us/step - loss: 2.3014 - acc: 0.1124\n",
      "Epoch 7/15\n",
      "54048/60000 [==========================>...] - ETA: 1s - loss: 2.3013 - acc: 0.1127"
     ]
    }
   ],
   "source": [
    "network.fit(train_images, train_labels, epochs=15, batch_size=32)"
   ]
  },
  {
   "cell_type": "code",
   "execution_count": 6,
   "metadata": {},
   "outputs": [
    {
     "name": "stdout",
     "output_type": "stream",
     "text": [
      "10000/10000 [==============================] - 0s 27us/step\n",
      "test_acc: 0.9794\n"
     ]
    }
   ],
   "source": [
    "test_loss, test_acc = network.evaluate(test_images, test_labels)\n",
    "print('test_acc:', test_acc)"
   ]
  },
  {
   "cell_type": "markdown",
   "metadata": {},
   "source": [
    "### 1)  initializer - xavier \n",
    "### 2) activation - sigmoid\n",
    "### 3) optimizer - sgd"
   ]
  },
  {
   "cell_type": "markdown",
   "metadata": {},
   "source": [
    "#### 1) initializer - glorot normal 사용 / activation - sigmoid "
   ]
  },
  {
   "cell_type": "code",
   "execution_count": 5,
   "metadata": {},
   "outputs": [],
   "source": [
    "from keras import models\n",
    "from keras import layers\n",
    "\n",
    "network = models.Sequential()\n",
    "network.add(layers.Dense(256, activation='sigmoid', input_shape=(28 * 28,), kernel_initializer = 'glorot_normal'))\n",
    "network.add(layers.Dense(256, activation='sigmoid', kernel_initializer = 'glorot_normal'))\n",
    "network.add(layers.Dense(256, activation='sigmoid', kernel_initializer = 'glorot_normal'))\n",
    "network.add(layers.Dense(256, activation='sigmoid',kernel_initializer = 'glorot_normal'))\n",
    "network.add(layers.Dense(256, activation='sigmoid',kernel_initializer = 'glorot_normal'))\n",
    "network.add(layers.Dense(256, activation='sigmoid',kernel_initializer = 'glorot_normal'))\n",
    "network.add(layers.Dense(256, activation='sigmoid',kernel_initializer = 'glorot_normal'))\n",
    "network.add(layers.Dense(256, activation='sigmoid',kernel_initializer = 'glorot_normal'))\n",
    "network.add(layers.Dense(256, activation='sigmoid',kernel_initializer = 'glorot_normal'))\n",
    "network.add(layers.Dense(10, activation='softmax'))"
   ]
  },
  {
   "cell_type": "code",
   "execution_count": 6,
   "metadata": {},
   "outputs": [],
   "source": [
    "from keras import optimizers\n",
    "\n",
    "\"\"\"network.compile(optimizer='sgd',\n",
    "                loss='categorical_crossentropy',\n",
    "                metrics=['accuracy'])\n",
    "\"\"\"\n",
    "\n",
    "network.compile(optimizer='rmsprop',\n",
    "                loss='categorical_crossentropy',\n",
    "                metrics=['accuracy'])"
   ]
  },
  {
   "cell_type": "code",
   "execution_count": 7,
   "metadata": {
    "scrolled": true
   },
   "outputs": [
    {
     "name": "stdout",
     "output_type": "stream",
     "text": [
      "WARNING:tensorflow:From c:\\users\\ina lee\\appdata\\local\\programs\\python\\python37\\lib\\site-packages\\tensorflow\\python\\ops\\math_ops.py:3066: to_int32 (from tensorflow.python.ops.math_ops) is deprecated and will be removed in a future version.\n",
      "Instructions for updating:\n",
      "Use tf.cast instead.\n",
      "Epoch 1/15\n",
      "60000/60000 [==============================] - 13s 224us/step - loss: 1.7420 - acc: 0.3097\n",
      "Epoch 2/15\n",
      "60000/60000 [==============================] - 13s 216us/step - loss: 0.8172 - acc: 0.7048\n",
      "Epoch 3/15\n",
      "60000/60000 [==============================] - 13s 209us/step - loss: 0.3712 - acc: 0.9004\n",
      "Epoch 4/15\n",
      "60000/60000 [==============================] - 13s 212us/step - loss: 0.2542 - acc: 0.9380\n",
      "Epoch 5/15\n",
      "60000/60000 [==============================] - 12s 207us/step - loss: 0.1974 - acc: 0.9515\n",
      "Epoch 6/15\n",
      "60000/60000 [==============================] - 13s 212us/step - loss: 0.1626 - acc: 0.9610\n",
      "Epoch 7/15\n",
      "60000/60000 [==============================] - 13s 215us/step - loss: 0.1446 - acc: 0.9651\n",
      "Epoch 8/15\n",
      "60000/60000 [==============================] - 13s 211us/step - loss: 0.1252 - acc: 0.9697\n",
      "Epoch 9/15\n",
      "60000/60000 [==============================] - 15s 244us/step - loss: 0.1152 - acc: 0.9736\n",
      "Epoch 10/15\n",
      "60000/60000 [==============================] - 13s 225us/step - loss: 0.1043 - acc: 0.9760\n",
      "Epoch 11/15\n",
      "60000/60000 [==============================] - 14s 229us/step - loss: 0.0969 - acc: 0.9788\n",
      "Epoch 12/15\n",
      "60000/60000 [==============================] - 15s 246us/step - loss: 0.0949 - acc: 0.9797\n",
      "Epoch 13/15\n",
      "60000/60000 [==============================] - 14s 235us/step - loss: 0.0902 - acc: 0.9813\n",
      "Epoch 14/15\n",
      "60000/60000 [==============================] - 14s 233us/step - loss: 0.0833 - acc: 0.9827\n",
      "Epoch 15/15\n",
      "60000/60000 [==============================] - 13s 222us/step - loss: 0.0799 - acc: 0.9833\n"
     ]
    },
    {
     "data": {
      "text/plain": [
       "<keras.callbacks.History at 0x1fc783064a8>"
      ]
     },
     "execution_count": 7,
     "metadata": {},
     "output_type": "execute_result"
    }
   ],
   "source": [
    "network.fit(train_images, train_labels, epochs=15, batch_size=32)"
   ]
  },
  {
   "cell_type": "code",
   "execution_count": 8,
   "metadata": {},
   "outputs": [
    {
     "name": "stdout",
     "output_type": "stream",
     "text": [
      "10000/10000 [==============================] - 1s 97us/step\n",
      "test_acc: 0.9757\n"
     ]
    }
   ],
   "source": [
    "test_loss, test_acc = network.evaluate(test_images, test_labels)\n",
    "print('test_acc:', test_acc)"
   ]
  },
  {
   "cell_type": "markdown",
   "metadata": {},
   "source": [
    "####  2) initializer - glorot normal 사용 / activation - relu "
   ]
  },
  {
   "cell_type": "code",
   "execution_count": 9,
   "metadata": {},
   "outputs": [],
   "source": [
    "from keras import models\n",
    "from keras import layers\n",
    "\n",
    "network = models.Sequential()\n",
    "network.add(layers.Dense(256, activation='relu', input_shape=(28 * 28,), kernel_initializer = 'glorot_normal'))\n",
    "network.add(layers.Dense(256, activation='relu', kernel_initializer = 'glorot_normal'))\n",
    "network.add(layers.Dense(256, activation='relu', kernel_initializer = 'glorot_normal'))\n",
    "network.add(layers.Dense(256, activation='relu',kernel_initializer = 'glorot_normal'))\n",
    "network.add(layers.Dense(256, activation='relu', kernel_initializer = 'glorot_normal'))\n",
    "network.add(layers.Dense(256, activation='relu', kernel_initializer = 'glorot_normal'))\n",
    "network.add(layers.Dense(256, activation='relu',kernel_initializer = 'glorot_normal'))\n",
    "network.add(layers.Dense(256, activation='relu', kernel_initializer = 'glorot_normal'))\n",
    "network.add(layers.Dense(256, activation='relu', kernel_initializer = 'glorot_normal'))\n",
    "network.add(layers.Dense(10, activation='softmax'))"
   ]
  },
  {
   "cell_type": "code",
   "execution_count": 10,
   "metadata": {},
   "outputs": [],
   "source": [
    "from keras import optimizers\n",
    "\n",
    "\"\"\"network.compile(optimizer='sgd',\n",
    "                loss='categorical_crossentropy',\n",
    "                metrics=['accuracy'])\n",
    "\"\"\"\n",
    "\n",
    "network.compile(optimizer='rmsprop',\n",
    "                loss='categorical_crossentropy',\n",
    "                metrics=['accuracy'])"
   ]
  },
  {
   "cell_type": "code",
   "execution_count": 11,
   "metadata": {},
   "outputs": [
    {
     "name": "stdout",
     "output_type": "stream",
     "text": [
      "Epoch 1/15\n",
      "60000/60000 [==============================] - 14s 235us/step - loss: 0.3721 - acc: 0.8998\n",
      "Epoch 2/15\n",
      "60000/60000 [==============================] - 14s 225us/step - loss: 0.2386 - acc: 0.9544\n",
      "Epoch 3/15\n",
      "60000/60000 [==============================] - 14s 232us/step - loss: 0.2884 - acc: 0.9532\n",
      "Epoch 4/15\n",
      "60000/60000 [==============================] - 15s 246us/step - loss: 0.3422 - acc: 0.9549\n",
      "Epoch 5/15\n",
      "60000/60000 [==============================] - 15s 243us/step - loss: 0.3969 - acc: 0.9549\n",
      "Epoch 6/15\n",
      "60000/60000 [==============================] - 15s 252us/step - loss: 0.4751 - acc: 0.9532\n",
      "Epoch 7/15\n",
      "60000/60000 [==============================] - 14s 239us/step - loss: 0.7509 - acc: 0.9492\n",
      "Epoch 8/15\n",
      "60000/60000 [==============================] - 15s 249us/step - loss: 0.7215 - acc: 0.9426\n",
      "Epoch 9/15\n",
      "60000/60000 [==============================] - 14s 237us/step - loss: 0.4980 - acc: 0.9488\n",
      "Epoch 10/15\n",
      "60000/60000 [==============================] - 14s 234us/step - loss: 0.6945 - acc: 0.9275\n",
      "Epoch 11/15\n",
      "60000/60000 [==============================] - 14s 239us/step - loss: 0.9810 - acc: 0.8132\n",
      "Epoch 12/15\n",
      "60000/60000 [==============================] - 15s 245us/step - loss: 1.2011 - acc: 0.7207\n",
      "Epoch 13/15\n",
      "60000/60000 [==============================] - 15s 246us/step - loss: 1.1077 - acc: 0.7237\n",
      "Epoch 14/15\n",
      "60000/60000 [==============================] - 14s 231us/step - loss: 1.3689 - acc: 0.7152\n",
      "Epoch 15/15\n",
      "60000/60000 [==============================] - 15s 250us/step - loss: 2.0095 - acc: 0.5976\n"
     ]
    },
    {
     "data": {
      "text/plain": [
       "<keras.callbacks.History at 0x1fc00ce5dd8>"
      ]
     },
     "execution_count": 11,
     "metadata": {},
     "output_type": "execute_result"
    }
   ],
   "source": [
    "network.fit(train_images, train_labels, epochs=15, batch_size=32)"
   ]
  },
  {
   "cell_type": "code",
   "execution_count": 12,
   "metadata": {},
   "outputs": [
    {
     "name": "stdout",
     "output_type": "stream",
     "text": [
      "10000/10000 [==============================] - 1s 95us/step\n",
      "test_acc: 0.5374\n"
     ]
    }
   ],
   "source": [
    "test_loss, test_acc = network.evaluate(test_images, test_labels)\n",
    "print('test_acc:', test_acc)"
   ]
  }
 ],
 "metadata": {
  "kernelspec": {
   "display_name": "Python 3",
   "language": "python",
   "name": "python3"
  },
  "language_info": {
   "codemirror_mode": {
    "name": "ipython",
    "version": 3
   },
   "file_extension": ".py",
   "mimetype": "text/x-python",
   "name": "python",
   "nbconvert_exporter": "python",
   "pygments_lexer": "ipython3",
   "version": "3.7.0"
  }
 },
 "nbformat": 4,
 "nbformat_minor": 2
}
