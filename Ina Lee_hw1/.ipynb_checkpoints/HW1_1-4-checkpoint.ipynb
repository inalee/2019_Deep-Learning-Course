{
 "cells": [
  {
   "cell_type": "code",
   "execution_count": 1,
   "metadata": {
    "scrolled": true
   },
   "outputs": [
    {
     "name": "stderr",
     "output_type": "stream",
     "text": [
      "Using TensorFlow backend.\n"
     ]
    }
   ],
   "source": [
    "from keras.utils import to_categorical\n",
    "from keras import models\n",
    "from keras import layers\n",
    "from keras import optimizers\n",
    "from keras.datasets import imdb\n",
    "from keras import losses\n",
    "from keras import metrics\n",
    "import numpy as np\n",
    "import matplotlib.pyplot as plt"
   ]
  },
  {
   "cell_type": "code",
   "execution_count": 3,
   "metadata": {
    "scrolled": true
   },
   "outputs": [],
   "source": [
    "(train_data, train_labels), (test_data, test_labels) = imdb.load_data(num_words=10000)"
   ]
  },
  {
   "cell_type": "code",
   "execution_count": 4,
   "metadata": {},
   "outputs": [],
   "source": [
    "def vectorize_sequences(sequences, dimension=10000):\n",
    "    # Create an all-zero matrix of shape (len(sequences), dimension)\n",
    "    results = np.zeros((len(sequences), dimension))\n",
    "    for i, sequence in enumerate(sequences):\n",
    "        results[i, sequence] = 1.  # set specific indices of results[i] to 1s\n",
    "    return results\n",
    "\n",
    "# Our vectorized training data\n",
    "x_train = vectorize_sequences(train_data)\n",
    "# Our vectorized test data\n",
    "x_test = vectorize_sequences(test_data)"
   ]
  },
  {
   "cell_type": "code",
   "execution_count": 5,
   "metadata": {},
   "outputs": [],
   "source": [
    "# Our vectorized labels\n",
    "y_train = np.asarray(train_labels).astype('float32')\n",
    "y_test = np.asarray(test_labels).astype('float32')"
   ]
  },
  {
   "cell_type": "code",
   "execution_count": 6,
   "metadata": {},
   "outputs": [],
   "source": [
    "x_val = x_train[:10000]\n",
    "partial_x_train = x_train[10000:]\n",
    "\n",
    "y_val = y_train[:10000]\n",
    "partial_y_train = y_train[10000:]"
   ]
  },
  {
   "cell_type": "markdown",
   "metadata": {},
   "source": [
    "### 1) hidden layer - 1개 "
   ]
  },
  {
   "cell_type": "code",
   "execution_count": 7,
   "metadata": {},
   "outputs": [
    {
     "name": "stdout",
     "output_type": "stream",
     "text": [
      "WARNING:tensorflow:From c:\\users\\ina lee\\appdata\\local\\programs\\python\\python37\\lib\\site-packages\\tensorflow\\python\\ops\\resource_variable_ops.py:435: colocate_with (from tensorflow.python.framework.ops) is deprecated and will be removed in a future version.\n",
      "Instructions for updating:\n",
      "Colocations handled automatically by placer.\n"
     ]
    }
   ],
   "source": [
    "model = models.Sequential()\n",
    "model.add(layers.Dense(16, activation='relu', input_shape=(10000,)))\n",
    "model.add(layers.Dense(1, activation='sigmoid'))"
   ]
  },
  {
   "cell_type": "code",
   "execution_count": 8,
   "metadata": {},
   "outputs": [],
   "source": [
    "model.compile(optimizer='rmsprop',\n",
    "              loss='binary_crossentropy', ## loss function\n",
    "              metrics=['accuracy'])"
   ]
  },
  {
   "cell_type": "code",
   "execution_count": 9,
   "metadata": {},
   "outputs": [],
   "source": [
    "model.compile(optimizer=optimizers.RMSprop(lr=0.001), \n",
    "              loss=losses.binary_crossentropy,\n",
    "              metrics=[metrics.binary_accuracy])"
   ]
  },
  {
   "cell_type": "code",
   "execution_count": 10,
   "metadata": {
    "scrolled": true
   },
   "outputs": [
    {
     "name": "stdout",
     "output_type": "stream",
     "text": [
      "WARNING:tensorflow:From c:\\users\\ina lee\\appdata\\local\\programs\\python\\python37\\lib\\site-packages\\tensorflow\\python\\ops\\math_ops.py:3066: to_int32 (from tensorflow.python.ops.math_ops) is deprecated and will be removed in a future version.\n",
      "Instructions for updating:\n",
      "Use tf.cast instead.\n",
      "Train on 15000 samples, validate on 10000 samples\n",
      "Epoch 1/20\n",
      "15000/15000 [==============================] - 3s 198us/step - loss: 0.5061 - binary_accuracy: 0.7967 - val_loss: 0.3987 - val_binary_accuracy: 0.8701\n",
      "Epoch 2/20\n",
      "15000/15000 [==============================] - 2s 165us/step - loss: 0.3283 - binary_accuracy: 0.9002 - val_loss: 0.3456 - val_binary_accuracy: 0.8635\n",
      "Epoch 3/20\n",
      "15000/15000 [==============================] - 2s 164us/step - loss: 0.2544 - binary_accuracy: 0.9225 - val_loss: 0.3052 - val_binary_accuracy: 0.8805\n",
      "Epoch 4/20\n",
      "15000/15000 [==============================] - 2s 164us/step - loss: 0.2102 - binary_accuracy: 0.9343 - val_loss: 0.2869 - val_binary_accuracy: 0.8860\n",
      "Epoch 5/20\n",
      "15000/15000 [==============================] - 2s 159us/step - loss: 0.1779 - binary_accuracy: 0.9453 - val_loss: 0.2758 - val_binary_accuracy: 0.8917\n",
      "Epoch 6/20\n",
      "15000/15000 [==============================] - 3s 191us/step - loss: 0.1532 - binary_accuracy: 0.9539 - val_loss: 0.2749 - val_binary_accuracy: 0.8896\n",
      "Epoch 7/20\n",
      "15000/15000 [==============================] - 2s 162us/step - loss: 0.1348 - binary_accuracy: 0.9599 - val_loss: 0.2782 - val_binary_accuracy: 0.8878\n",
      "Epoch 8/20\n",
      "15000/15000 [==============================] - 2s 166us/step - loss: 0.1177 - binary_accuracy: 0.9666 - val_loss: 0.2855 - val_binary_accuracy: 0.8851\n",
      "Epoch 9/20\n",
      "15000/15000 [==============================] - 2s 158us/step - loss: 0.1035 - binary_accuracy: 0.9721 - val_loss: 0.2932 - val_binary_accuracy: 0.8877\n",
      "Epoch 10/20\n",
      "15000/15000 [==============================] - 2s 155us/step - loss: 0.0922 - binary_accuracy: 0.9758 - val_loss: 0.3047 - val_binary_accuracy: 0.8841\n",
      "Epoch 11/20\n",
      "15000/15000 [==============================] - 2s 163us/step - loss: 0.0807 - binary_accuracy: 0.9805 - val_loss: 0.3159 - val_binary_accuracy: 0.8832\n",
      "Epoch 12/20\n",
      "15000/15000 [==============================] - 2s 165us/step - loss: 0.0721 - binary_accuracy: 0.9823 - val_loss: 0.3293 - val_binary_accuracy: 0.8815\n",
      "Epoch 13/20\n",
      "15000/15000 [==============================] - 2s 165us/step - loss: 0.0634 - binary_accuracy: 0.9859 - val_loss: 0.3432 - val_binary_accuracy: 0.8825\n",
      "Epoch 14/20\n",
      "15000/15000 [==============================] - 2s 163us/step - loss: 0.0561 - binary_accuracy: 0.9887 - val_loss: 0.3596 - val_binary_accuracy: 0.8798\n",
      "Epoch 15/20\n",
      "15000/15000 [==============================] - 3s 168us/step - loss: 0.0497 - binary_accuracy: 0.9902 - val_loss: 0.3719 - val_binary_accuracy: 0.8796\n",
      "Epoch 16/20\n",
      "15000/15000 [==============================] - 2s 160us/step - loss: 0.0437 - binary_accuracy: 0.9915 - val_loss: 0.3975 - val_binary_accuracy: 0.8763\n",
      "Epoch 17/20\n",
      "15000/15000 [==============================] - 3s 167us/step - loss: 0.0390 - binary_accuracy: 0.9928 - val_loss: 0.4139 - val_binary_accuracy: 0.8747\n",
      "Epoch 18/20\n",
      "15000/15000 [==============================] - 2s 154us/step - loss: 0.0337 - binary_accuracy: 0.9946 - val_loss: 0.4261 - val_binary_accuracy: 0.8723\n",
      "Epoch 19/20\n",
      "15000/15000 [==============================] - 2s 155us/step - loss: 0.0308 - binary_accuracy: 0.9951 - val_loss: 0.4397 - val_binary_accuracy: 0.8758\n",
      "Epoch 20/20\n",
      "15000/15000 [==============================] - 3s 168us/step - loss: 0.0257 - binary_accuracy: 0.9966 - val_loss: 0.4583 - val_binary_accuracy: 0.8734\n"
     ]
    }
   ],
   "source": [
    "history = model.fit(partial_x_train,\n",
    "                    partial_y_train,\n",
    "                    epochs=20,\n",
    "                    batch_size=512,\n",
    "                    validation_data=(x_val, y_val)) "
   ]
  },
  {
   "cell_type": "code",
   "execution_count": 11,
   "metadata": {},
   "outputs": [
    {
     "data": {
      "image/png": "[encoded data removed]",
      "text/plain": [
       "<Figure size 432x288 with 1 Axes>"
      ]
     },
     "metadata": {
      "needs_background": "light"
     },
     "output_type": "display_data"
    }
   ],
   "source": [
    "acc = history.history['binary_accuracy']\n",
    "val_acc = history.history['val_binary_accuracy']\n",
    "\n",
    "epochs = range(1, len(acc) + 1)\n",
    "\n",
    "# \"bo\" is for \"blue dot\"\n",
    "plt.plot(epochs, acc, 'r', label='Training Accuracy')\n",
    "# b is for \"solid blue line\"\n",
    "plt.plot(epochs, val_acc, 'b', label='Validation Accuracy')\n",
    "plt.title('Training and validation accuracy')\n",
    "plt.xlabel('Epochs')\n",
    "plt.ylabel('Accuracy')\n",
    "plt.legend()\n",
    "\n",
    "plt.show()"
   ]
  },
  {
   "cell_type": "code",
   "execution_count": 12,
   "metadata": {},
   "outputs": [
    {
     "name": "stdout",
     "output_type": "stream",
     "text": [
      "25000/25000 [==============================] - 3s 130us/step\n"
     ]
    },
    {
     "data": {
      "text/plain": [
       "[0.49928850970745087, 0.8579199910163879]"
      ]
     },
     "execution_count": 12,
     "metadata": {},
     "output_type": "execute_result"
    }
   ],
   "source": [
    "results = model.evaluate(x_test, y_test)\n",
    "results"
   ]
  },
  {
   "cell_type": "markdown",
   "metadata": {},
   "source": [
    "### 1) layer - 3개"
   ]
  },
  {
   "cell_type": "code",
   "execution_count": 13,
   "metadata": {},
   "outputs": [],
   "source": [
    "model = models.Sequential()\n",
    "model.add(layers.Dense(16, activation='relu', input_shape=(10000,)))\n",
    "model.add(layers.Dense(16, activation='relu'))\n",
    "model.add(layers.Dense(16, activation='relu'))\n",
    "model.add(layers.Dense(1, activation='sigmoid'))"
   ]
  },
  {
   "cell_type": "code",
   "execution_count": 14,
   "metadata": {},
   "outputs": [],
   "source": [
    "model.compile(optimizer=optimizers.RMSprop(lr=0.001), \n",
    "              loss=losses.binary_crossentropy,\n",
    "              metrics=[metrics.binary_accuracy])"
   ]
  },
  {
   "cell_type": "code",
   "execution_count": 15,
   "metadata": {
    "scrolled": true
   },
   "outputs": [
    {
     "name": "stdout",
     "output_type": "stream",
     "text": [
      "Train on 15000 samples, validate on 10000 samples\n",
      "Epoch 1/20\n",
      "15000/15000 [==============================] - 3s 175us/step - loss: 0.5209 - binary_accuracy: 0.7703 - val_loss: 0.3757 - val_binary_accuracy: 0.8705\n",
      "Epoch 2/20\n",
      "15000/15000 [==============================] - 2s 163us/step - loss: 0.2889 - binary_accuracy: 0.9061 - val_loss: 0.3077 - val_binary_accuracy: 0.8777\n",
      "Epoch 3/20\n",
      "15000/15000 [==============================] - 2s 155us/step - loss: 0.2098 - binary_accuracy: 0.9267 - val_loss: 0.2738 - val_binary_accuracy: 0.8918\n",
      "Epoch 4/20\n",
      "15000/15000 [==============================] - 2s 163us/step - loss: 0.1626 - binary_accuracy: 0.9448 - val_loss: 0.3166 - val_binary_accuracy: 0.8756\n",
      "Epoch 5/20\n",
      "15000/15000 [==============================] - 3s 169us/step - loss: 0.1308 - binary_accuracy: 0.9569 - val_loss: 0.2970 - val_binary_accuracy: 0.8852\n",
      "Epoch 6/20\n",
      "15000/15000 [==============================] - 3s 175us/step - loss: 0.0987 - binary_accuracy: 0.9686 - val_loss: 0.3196 - val_binary_accuracy: 0.8833\n",
      "Epoch 7/20\n",
      "15000/15000 [==============================] - 3s 175us/step - loss: 0.0848 - binary_accuracy: 0.9737 - val_loss: 0.3910 - val_binary_accuracy: 0.8673\n",
      "Epoch 8/20\n",
      "15000/15000 [==============================] - 3s 170us/step - loss: 0.0690 - binary_accuracy: 0.9799 - val_loss: 0.3787 - val_binary_accuracy: 0.8766\n",
      "Epoch 9/20\n",
      "15000/15000 [==============================] - 2s 159us/step - loss: 0.0549 - binary_accuracy: 0.9838 - val_loss: 0.4028 - val_binary_accuracy: 0.8766\n",
      "Epoch 10/20\n",
      "15000/15000 [==============================] - 2s 154us/step - loss: 0.0462 - binary_accuracy: 0.9862 - val_loss: 0.4328 - val_binary_accuracy: 0.8739\n",
      "Epoch 11/20\n",
      "15000/15000 [==============================] - 2s 155us/step - loss: 0.0356 - binary_accuracy: 0.9905 - val_loss: 0.4758 - val_binary_accuracy: 0.8710\n",
      "Epoch 12/20\n",
      "15000/15000 [==============================] - 2s 152us/step - loss: 0.0323 - binary_accuracy: 0.9907 - val_loss: 0.4941 - val_binary_accuracy: 0.8730\n",
      "Epoch 13/20\n",
      "15000/15000 [==============================] - 3s 172us/step - loss: 0.0290 - binary_accuracy: 0.9921 - val_loss: 0.5251 - val_binary_accuracy: 0.8701\n",
      "Epoch 14/20\n",
      "15000/15000 [==============================] - 2s 162us/step - loss: 0.0202 - binary_accuracy: 0.9944 - val_loss: 0.5714 - val_binary_accuracy: 0.8641\n",
      "Epoch 15/20\n",
      "15000/15000 [==============================] - 3s 175us/step - loss: 0.0083 - binary_accuracy: 0.9994 - val_loss: 0.5929 - val_binary_accuracy: 0.8696\n",
      "Epoch 16/20\n",
      "15000/15000 [==============================] - 3s 194us/step - loss: 0.0211 - binary_accuracy: 0.9942 - val_loss: 0.6223 - val_binary_accuracy: 0.8662\n",
      "Epoch 17/20\n",
      "15000/15000 [==============================] - 2s 161us/step - loss: 0.0039 - binary_accuracy: 0.9998 - val_loss: 0.6511 - val_binary_accuracy: 0.8653\n",
      "Epoch 18/20\n",
      "15000/15000 [==============================] - 3s 173us/step - loss: 0.0169 - binary_accuracy: 0.9949 - val_loss: 0.6913 - val_binary_accuracy: 0.8653\n",
      "Epoch 19/20\n",
      "15000/15000 [==============================] - 2s 163us/step - loss: 0.0022 - binary_accuracy: 0.9999 - val_loss: 0.7162 - val_binary_accuracy: 0.8638\n",
      "Epoch 20/20\n",
      "15000/15000 [==============================] - 2s 165us/step - loss: 0.0017 - binary_accuracy: 0.9999 - val_loss: 0.7860 - val_binary_accuracy: 0.8619\n"
     ]
    }
   ],
   "source": [
    "history = model.fit(partial_x_train,\n",
    "                    partial_y_train,\n",
    "                    epochs=20,\n",
    "                    batch_size=512,\n",
    "                    validation_data=(x_val, y_val)) "
   ]
  },
  {
   "cell_type": "code",
   "execution_count": 16,
   "metadata": {},
   "outputs": [
    {
     "data": {
      "image/png": "[encoded data removed]",
      "text/plain": [
       "<Figure size 432x288 with 1 Axes>"
      ]
     },
     "metadata": {
      "needs_background": "light"
     },
     "output_type": "display_data"
    }
   ],
   "source": [
    "acc = history.history['binary_accuracy']\n",
    "val_acc = history.history['val_binary_accuracy']\n",
    "epochs = range(1, len(acc) + 1)\n",
    "\n",
    "# \"bo\" is for \"blue dot\"\n",
    "plt.plot(epochs, acc, 'r', label='Training Accuracy')\n",
    "# b is for \"solid blue line\"\n",
    "plt.plot(epochs, val_acc, 'b', label='Validation Accuracy')\n",
    "plt.title('Training and validation accuracy')\n",
    "plt.xlabel('Epochs')\n",
    "plt.ylabel('Accuracy')\n",
    "plt.legend()\n",
    "\n",
    "plt.show()"
   ]
  },
  {
   "cell_type": "code",
   "execution_count": 17,
   "metadata": {},
   "outputs": [
    {
     "name": "stdout",
     "output_type": "stream",
     "text": [
      "25000/25000 [==============================] - 3s 124us/step\n"
     ]
    },
    {
     "data": {
      "text/plain": [
       "[0.8913047682905197, 0.8453599810600281]"
      ]
     },
     "execution_count": 17,
     "metadata": {},
     "output_type": "execute_result"
    }
   ],
   "source": [
    "results = model.evaluate(x_test, y_test)\n",
    "results"
   ]
  },
  {
   "cell_type": "markdown",
   "metadata": {},
   "source": [
    "### 2) 32 units"
   ]
  },
  {
   "cell_type": "code",
   "execution_count": 18,
   "metadata": {},
   "outputs": [],
   "source": [
    "model = models.Sequential()\n",
    "model.add(layers.Dense(32, activation='relu', input_shape=(10000,)))\n",
    "model.add(layers.Dense(32, activation='relu'))\n",
    "model.add(layers.Dense(32, activation='relu'))\n",
    "model.add(layers.Dense(1, activation='sigmoid'))"
   ]
  },
  {
   "cell_type": "code",
   "execution_count": 19,
   "metadata": {},
   "outputs": [],
   "source": [
    "model.compile(optimizer=optimizers.RMSprop(lr=0.001), \n",
    "              loss=losses.binary_crossentropy,\n",
    "              metrics=[metrics.binary_accuracy])"
   ]
  },
  {
   "cell_type": "code",
   "execution_count": 20,
   "metadata": {
    "scrolled": false
   },
   "outputs": [
    {
     "name": "stdout",
     "output_type": "stream",
     "text": [
      "Train on 15000 samples, validate on 10000 samples\n",
      "Epoch 1/20\n",
      "15000/15000 [==============================] - 3s 201us/step - loss: 0.4973 - binary_accuracy: 0.7664 - val_loss: 0.3547 - val_binary_accuracy: 0.8603\n",
      "Epoch 2/20\n",
      "15000/15000 [==============================] - 3s 171us/step - loss: 0.2725 - binary_accuracy: 0.9000 - val_loss: 0.3244 - val_binary_accuracy: 0.8671\n",
      "Epoch 3/20\n",
      "15000/15000 [==============================] - 3s 172us/step - loss: 0.1969 - binary_accuracy: 0.9293 - val_loss: 0.2913 - val_binary_accuracy: 0.8866\n",
      "Epoch 4/20\n",
      "15000/15000 [==============================] - 3s 172us/step - loss: 0.1447 - binary_accuracy: 0.9486 - val_loss: 0.2955 - val_binary_accuracy: 0.8844\n",
      "Epoch 5/20\n",
      "15000/15000 [==============================] - 3s 171us/step - loss: 0.1229 - binary_accuracy: 0.9564 - val_loss: 0.3208 - val_binary_accuracy: 0.8816\n",
      "Epoch 6/20\n",
      "15000/15000 [==============================] - 3s 172us/step - loss: 0.0864 - binary_accuracy: 0.9727 - val_loss: 0.3400 - val_binary_accuracy: 0.8842\n",
      "Epoch 7/20\n",
      "15000/15000 [==============================] - 3s 174us/step - loss: 0.0646 - binary_accuracy: 0.9806 - val_loss: 0.4999 - val_binary_accuracy: 0.8554\n",
      "Epoch 8/20\n",
      "15000/15000 [==============================] - 3s 172us/step - loss: 0.0613 - binary_accuracy: 0.9817 - val_loss: 0.4071 - val_binary_accuracy: 0.8790\n",
      "Epoch 9/20\n",
      "15000/15000 [==============================] - 3s 172us/step - loss: 0.0519 - binary_accuracy: 0.9845 - val_loss: 0.4425 - val_binary_accuracy: 0.8757\n",
      "Epoch 10/20\n",
      "15000/15000 [==============================] - 3s 172us/step - loss: 0.0430 - binary_accuracy: 0.9872 - val_loss: 0.4535 - val_binary_accuracy: 0.8773\n",
      "Epoch 11/20\n",
      "15000/15000 [==============================] - 3s 172us/step - loss: 0.0117 - binary_accuracy: 0.9986 - val_loss: 0.5300 - val_binary_accuracy: 0.8712\n",
      "Epoch 12/20\n",
      "15000/15000 [==============================] - 3s 173us/step - loss: 0.0358 - binary_accuracy: 0.9901 - val_loss: 0.5378 - val_binary_accuracy: 0.8764\n",
      "Epoch 13/20\n",
      "15000/15000 [==============================] - 3s 173us/step - loss: 0.0053 - binary_accuracy: 0.9994 - val_loss: 0.5936 - val_binary_accuracy: 0.8735\n",
      "Epoch 14/20\n",
      "15000/15000 [==============================] - 3s 171us/step - loss: 0.0328 - binary_accuracy: 0.9905 - val_loss: 0.6147 - val_binary_accuracy: 0.8735\n",
      "Epoch 15/20\n",
      "15000/15000 [==============================] - 3s 172us/step - loss: 0.0024 - binary_accuracy: 0.9999 - val_loss: 0.6713 - val_binary_accuracy: 0.8720\n",
      "Epoch 16/20\n",
      "15000/15000 [==============================] - 3s 172us/step - loss: 0.0015 - binary_accuracy: 0.9999 - val_loss: 0.7937 - val_binary_accuracy: 0.8639\n",
      "Epoch 17/20\n",
      "15000/15000 [==============================] - 3s 171us/step - loss: 0.0308 - binary_accuracy: 0.9929 - val_loss: 0.7134 - val_binary_accuracy: 0.8716\n",
      "Epoch 18/20\n",
      "15000/15000 [==============================] - 3s 175us/step - loss: 7.7309e-04 - binary_accuracy: 0.9999 - val_loss: 0.7640 - val_binary_accuracy: 0.8701\n",
      "Epoch 19/20\n",
      "15000/15000 [==============================] - 3s 172us/step - loss: 4.2949e-04 - binary_accuracy: 1.0000 - val_loss: 0.8330 - val_binary_accuracy: 0.8694\n",
      "Epoch 20/20\n",
      "15000/15000 [==============================] - 3s 174us/step - loss: 0.0526 - binary_accuracy: 0.9913 - val_loss: 0.8515 - val_binary_accuracy: 0.8695\n"
     ]
    }
   ],
   "source": [
    "history = model.fit(partial_x_train,\n",
    "                    partial_y_train,\n",
    "                    epochs=20,\n",
    "                    batch_size=512,\n",
    "                    validation_data=(x_val, y_val)) "
   ]
  },
  {
   "cell_type": "code",
   "execution_count": 21,
   "metadata": {},
   "outputs": [
    {
     "data": {
      "image/png": "[encoded data removed]",
      "text/plain": [
       "<Figure size 432x288 with 1 Axes>"
      ]
     },
     "metadata": {
      "needs_background": "light"
     },
     "output_type": "display_data"
    }
   ],
   "source": [
    "acc = history.history['binary_accuracy']\n",
    "val_acc = history.history['val_binary_accuracy']\n",
    "epochs = range(1, len(acc) + 1)\n",
    "\n",
    "# \"bo\" is for \"blue dot\"\n",
    "plt.plot(epochs, acc, 'r', label='Training Accuracy')\n",
    "# b is for \"solid blue line\"\n",
    "plt.plot(epochs, val_acc, 'b', label='Validation Accuracy')\n",
    "plt.title('Training and validation accuracy')\n",
    "plt.xlabel('Epochs')\n",
    "plt.ylabel('Accuracy')\n",
    "plt.legend()\n",
    "\n",
    "plt.show()"
   ]
  },
  {
   "cell_type": "code",
   "execution_count": 22,
   "metadata": {},
   "outputs": [
    {
     "name": "stdout",
     "output_type": "stream",
     "text": [
      "25000/25000 [==============================] - 3s 123us/step\n"
     ]
    },
    {
     "data": {
      "text/plain": [
       "[0.9562194170874357, 0.8519999980926514]"
      ]
     },
     "execution_count": 22,
     "metadata": {},
     "output_type": "execute_result"
    }
   ],
   "source": [
    "results = model.evaluate(x_test, y_test)\n",
    "results"
   ]
  },
  {
   "cell_type": "markdown",
   "metadata": {},
   "source": [
    "### 2) 64 units"
   ]
  },
  {
   "cell_type": "code",
   "execution_count": 23,
   "metadata": {},
   "outputs": [],
   "source": [
    "model = models.Sequential()\n",
    "model.add(layers.Dense(64, activation='relu', input_shape=(10000,)))\n",
    "model.add(layers.Dense(64, activation='relu'))\n",
    "model.add(layers.Dense(64, activation='relu'))\n",
    "model.add(layers.Dense(1, activation='sigmoid'))"
   ]
  },
  {
   "cell_type": "code",
   "execution_count": 24,
   "metadata": {},
   "outputs": [],
   "source": [
    "model.compile(optimizer=optimizers.RMSprop(lr=0.001), \n",
    "              loss=losses.binary_crossentropy,\n",
    "              metrics=[metrics.binary_accuracy])"
   ]
  },
  {
   "cell_type": "code",
   "execution_count": 25,
   "metadata": {},
   "outputs": [
    {
     "name": "stdout",
     "output_type": "stream",
     "text": [
      "Train on 15000 samples, validate on 10000 samples\n",
      "Epoch 1/20\n",
      "15000/15000 [==============================] - 3s 206us/step - loss: 0.4951 - binary_accuracy: 0.7567 - val_loss: 0.3114 - val_binary_accuracy: 0.8808\n",
      "Epoch 2/20\n",
      "15000/15000 [==============================] - 3s 190us/step - loss: 0.2572 - binary_accuracy: 0.8995 - val_loss: 0.3943 - val_binary_accuracy: 0.8396\n",
      "Epoch 3/20\n",
      "15000/15000 [==============================] - 3s 191us/step - loss: 0.1847 - binary_accuracy: 0.9295 - val_loss: 0.3623 - val_binary_accuracy: 0.8662\n",
      "Epoch 4/20\n",
      "15000/15000 [==============================] - 3s 190us/step - loss: 0.1320 - binary_accuracy: 0.9517 - val_loss: 0.3210 - val_binary_accuracy: 0.8849\n",
      "Epoch 5/20\n",
      "15000/15000 [==============================] - 3s 210us/step - loss: 0.0964 - binary_accuracy: 0.9665 - val_loss: 0.4578 - val_binary_accuracy: 0.8511\n",
      "Epoch 6/20\n",
      "15000/15000 [==============================] - 3s 206us/step - loss: 0.0837 - binary_accuracy: 0.9721 - val_loss: 0.3741 - val_binary_accuracy: 0.8815\n",
      "Epoch 7/20\n",
      "15000/15000 [==============================] - 3s 191us/step - loss: 0.0631 - binary_accuracy: 0.9808 - val_loss: 0.3939 - val_binary_accuracy: 0.8766\n",
      "Epoch 8/20\n",
      "15000/15000 [==============================] - 3s 190us/step - loss: 0.0135 - binary_accuracy: 0.9977 - val_loss: 0.5269 - val_binary_accuracy: 0.8773\n",
      "Epoch 9/20\n",
      "15000/15000 [==============================] - 3s 191us/step - loss: 0.0709 - binary_accuracy: 0.9842 - val_loss: 0.5101 - val_binary_accuracy: 0.8738\n",
      "Epoch 10/20\n",
      "15000/15000 [==============================] - 3s 190us/step - loss: 0.0040 - binary_accuracy: 0.9997 - val_loss: 0.6058 - val_binary_accuracy: 0.8726\n",
      "Epoch 11/20\n",
      "15000/15000 [==============================] - 3s 191us/step - loss: 0.0017 - binary_accuracy: 0.9998 - val_loss: 0.7164 - val_binary_accuracy: 0.8714\n",
      "Epoch 12/20\n",
      "15000/15000 [==============================] - 3s 190us/step - loss: 0.0854 - binary_accuracy: 0.9855 - val_loss: 0.7815 - val_binary_accuracy: 0.8717\n",
      "Epoch 13/20\n",
      "15000/15000 [==============================] - 3s 189us/step - loss: 7.0232e-04 - binary_accuracy: 0.9999 - val_loss: 0.7705 - val_binary_accuracy: 0.8738\n",
      "Epoch 14/20\n",
      "15000/15000 [==============================] - 3s 191us/step - loss: 3.6381e-04 - binary_accuracy: 0.9999 - val_loss: 0.8243 - val_binary_accuracy: 0.8732\n",
      "Epoch 15/20\n",
      "15000/15000 [==============================] - 3s 190us/step - loss: 2.3925e-04 - binary_accuracy: 0.9999 - val_loss: 0.8762 - val_binary_accuracy: 0.8737\n",
      "Epoch 16/20\n",
      "15000/15000 [==============================] - 3s 191us/step - loss: 1.0786e-04 - binary_accuracy: 0.9999 - val_loss: 0.9600 - val_binary_accuracy: 0.8727\n",
      "Epoch 17/20\n",
      "15000/15000 [==============================] - 3s 193us/step - loss: 3.2290e-05 - binary_accuracy: 1.0000 - val_loss: 1.0457 - val_binary_accuracy: 0.8717\n",
      "Epoch 18/20\n",
      "15000/15000 [==============================] - 3s 191us/step - loss: 0.0312 - binary_accuracy: 0.9969 - val_loss: 1.1909 - val_binary_accuracy: 0.8693\n",
      "Epoch 19/20\n",
      "15000/15000 [==============================] - 3s 191us/step - loss: 1.2750e-04 - binary_accuracy: 0.9999 - val_loss: 1.1519 - val_binary_accuracy: 0.8713\n",
      "Epoch 20/20\n",
      "15000/15000 [==============================] - 3s 192us/step - loss: 8.5469e-06 - binary_accuracy: 1.0000 - val_loss: 1.1558 - val_binary_accuracy: 0.8724\n"
     ]
    }
   ],
   "source": [
    "history = model.fit(partial_x_train,\n",
    "                    partial_y_train,\n",
    "                    epochs=20,\n",
    "                    batch_size=512,\n",
    "                    validation_data=(x_val, y_val)) "
   ]
  },
  {
   "cell_type": "code",
   "execution_count": 26,
   "metadata": {},
   "outputs": [
    {
     "data": {
      "image/png": "[encoded data removed]",
      "text/plain": [
       "<Figure size 432x288 with 1 Axes>"
      ]
     },
     "metadata": {
      "needs_background": "light"
     },
     "output_type": "display_data"
    }
   ],
   "source": [
    "acc = history.history['binary_accuracy']\n",
    "val_acc = history.history['val_binary_accuracy']\n",
    "epochs = range(1, len(acc) + 1)\n",
    "\n",
    "# \"bo\" is for \"blue dot\"\n",
    "plt.plot(epochs, acc, 'r', label='Training Accuracy')\n",
    "# b is for \"solid blue line\"\n",
    "plt.plot(epochs, val_acc, 'b', label='Validation Accuracy')\n",
    "plt.title('Training and validation accuracy')\n",
    "plt.xlabel('Epochs')\n",
    "plt.ylabel('Accuracy')\n",
    "plt.legend()\n",
    "\n",
    "plt.show()"
   ]
  },
  {
   "cell_type": "code",
   "execution_count": 27,
   "metadata": {},
   "outputs": [
    {
     "name": "stdout",
     "output_type": "stream",
     "text": [
      "25000/25000 [==============================] - 3s 137us/step\n"
     ]
    },
    {
     "data": {
      "text/plain": [
       "[1.2637155660626291, 0.8576800227165222]"
      ]
     },
     "execution_count": 27,
     "metadata": {},
     "output_type": "execute_result"
    }
   ],
   "source": [
    "results = model.evaluate(x_test, y_test)\n",
    "results"
   ]
  },
  {
   "cell_type": "markdown",
   "metadata": {},
   "source": [
    "### 3) mse loss function"
   ]
  },
  {
   "cell_type": "code",
   "execution_count": 28,
   "metadata": {},
   "outputs": [],
   "source": [
    "model = models.Sequential()\n",
    "model.add(layers.Dense(16, activation='relu', input_shape=(10000,)))\n",
    "model.add(layers.Dense(16, activation='relu'))\n",
    "model.add(layers.Dense(16, activation='relu'))\n",
    "model.add(layers.Dense(1, activation='sigmoid'))"
   ]
  },
  {
   "cell_type": "code",
   "execution_count": 29,
   "metadata": {},
   "outputs": [],
   "source": [
    "model.compile(optimizer=optimizers.RMSprop(lr=0.001), \n",
    "              loss=losses.mse,\n",
    "              metrics=[metrics.binary_accuracy])"
   ]
  },
  {
   "cell_type": "code",
   "execution_count": 30,
   "metadata": {
    "scrolled": true
   },
   "outputs": [
    {
     "name": "stdout",
     "output_type": "stream",
     "text": [
      "Train on 15000 samples, validate on 10000 samples\n",
      "Epoch 1/20\n",
      "15000/15000 [==============================] - 3s 170us/step - loss: 0.1673 - binary_accuracy: 0.7759 - val_loss: 0.1119 - val_binary_accuracy: 0.8762\n",
      "Epoch 2/20\n",
      "15000/15000 [==============================] - 2s 156us/step - loss: 0.0859 - binary_accuracy: 0.9019 - val_loss: 0.0941 - val_binary_accuracy: 0.8789\n",
      "Epoch 3/20\n",
      "15000/15000 [==============================] - 2s 156us/step - loss: 0.0608 - binary_accuracy: 0.9295 - val_loss: 0.0828 - val_binary_accuracy: 0.8907\n",
      "Epoch 4/20\n",
      "15000/15000 [==============================] - 2s 155us/step - loss: 0.0443 - binary_accuracy: 0.9509 - val_loss: 0.0835 - val_binary_accuracy: 0.8861\n",
      "Epoch 5/20\n",
      "15000/15000 [==============================] - 2s 157us/step - loss: 0.0356 - binary_accuracy: 0.9610 - val_loss: 0.1022 - val_binary_accuracy: 0.8612\n",
      "Epoch 6/20\n",
      "15000/15000 [==============================] - 2s 157us/step - loss: 0.0302 - binary_accuracy: 0.9678 - val_loss: 0.1142 - val_binary_accuracy: 0.8494\n",
      "Epoch 7/20\n",
      "15000/15000 [==============================] - 2s 156us/step - loss: 0.0218 - binary_accuracy: 0.9789 - val_loss: 0.0894 - val_binary_accuracy: 0.8808\n",
      "Epoch 8/20\n",
      "15000/15000 [==============================] - 2s 157us/step - loss: 0.0189 - binary_accuracy: 0.9820 - val_loss: 0.0996 - val_binary_accuracy: 0.8702\n",
      "Epoch 9/20\n",
      "15000/15000 [==============================] - 2s 157us/step - loss: 0.0148 - binary_accuracy: 0.9861 - val_loss: 0.0960 - val_binary_accuracy: 0.8748\n",
      "Epoch 10/20\n",
      "15000/15000 [==============================] - 2s 157us/step - loss: 0.0114 - binary_accuracy: 0.9896 - val_loss: 0.0966 - val_binary_accuracy: 0.8767\n",
      "Epoch 11/20\n",
      "15000/15000 [==============================] - 2s 164us/step - loss: 0.0119 - binary_accuracy: 0.9877 - val_loss: 0.0980 - val_binary_accuracy: 0.8757\n",
      "Epoch 12/20\n",
      "15000/15000 [==============================] - 2s 162us/step - loss: 0.0068 - binary_accuracy: 0.9944 - val_loss: 0.1124 - val_binary_accuracy: 0.8625\n",
      "Epoch 13/20\n",
      "15000/15000 [==============================] - 3s 173us/step - loss: 0.0049 - binary_accuracy: 0.9963 - val_loss: 0.1034 - val_binary_accuracy: 0.8703\n",
      "Epoch 14/20\n",
      "15000/15000 [==============================] - 3s 177us/step - loss: 0.0082 - binary_accuracy: 0.9913 - val_loss: 0.1036 - val_binary_accuracy: 0.8714\n",
      "Epoch 15/20\n",
      "15000/15000 [==============================] - 2s 160us/step - loss: 0.0036 - binary_accuracy: 0.9967 - val_loss: 0.1049 - val_binary_accuracy: 0.8713\n",
      "Epoch 16/20\n",
      "15000/15000 [==============================] - 2s 156us/step - loss: 0.0073 - binary_accuracy: 0.9917 - val_loss: 0.1068 - val_binary_accuracy: 0.8694\n",
      "Epoch 17/20\n",
      "15000/15000 [==============================] - 2s 156us/step - loss: 0.0030 - binary_accuracy: 0.9972 - val_loss: 0.1075 - val_binary_accuracy: 0.8712\n",
      "Epoch 18/20\n",
      "15000/15000 [==============================] - 2s 157us/step - loss: 0.0029 - binary_accuracy: 0.9972 - val_loss: 0.1382 - val_binary_accuracy: 0.8349\n",
      "Epoch 19/20\n",
      "15000/15000 [==============================] - 2s 157us/step - loss: 0.0055 - binary_accuracy: 0.9938 - val_loss: 0.1102 - val_binary_accuracy: 0.8688\n",
      "Epoch 20/20\n",
      "15000/15000 [==============================] - 2s 159us/step - loss: 0.0025 - binary_accuracy: 0.9976 - val_loss: 0.1117 - val_binary_accuracy: 0.8669\n"
     ]
    }
   ],
   "source": [
    "history = model.fit(partial_x_train,\n",
    "                    partial_y_train,\n",
    "                    epochs=20,\n",
    "                    batch_size=512,\n",
    "                    validation_data=(x_val, y_val)) "
   ]
  },
  {
   "cell_type": "code",
   "execution_count": 31,
   "metadata": {},
   "outputs": [
    {
     "data": {
      "image/png": "[encoded data removed]",
      "text/plain": [
       "<Figure size 432x288 with 1 Axes>"
      ]
     },
     "metadata": {
      "needs_background": "light"
     },
     "output_type": "display_data"
    }
   ],
   "source": [
    "acc = history.history['binary_accuracy']\n",
    "val_acc = history.history['val_binary_accuracy']\n",
    "epochs = range(1, len(acc) + 1)\n",
    "\n",
    "# \"bo\" is for \"blue dot\"\n",
    "plt.plot(epochs, acc, 'r', label='Training Accuracy')\n",
    "# b is for \"solid blue line\"\n",
    "plt.plot(epochs, val_acc, 'b', label='Validation Accuracy')\n",
    "plt.title('Training and validation accuracy')\n",
    "plt.xlabel('Epochs')\n",
    "plt.ylabel('Accuracy')\n",
    "plt.legend()\n",
    "\n",
    "plt.show()"
   ]
  },
  {
   "cell_type": "code",
   "execution_count": 32,
   "metadata": {},
   "outputs": [
    {
     "name": "stdout",
     "output_type": "stream",
     "text": [
      "25000/25000 [==============================] - 3s 118us/step\n"
     ]
    },
    {
     "data": {
      "text/plain": [
       "[0.1207004007063806, 0.8560000061988831]"
      ]
     },
     "execution_count": 32,
     "metadata": {},
     "output_type": "execute_result"
    }
   ],
   "source": [
    "results = model.evaluate(x_test, y_test)\n",
    "results"
   ]
  },
  {
   "cell_type": "markdown",
   "metadata": {},
   "source": [
    "### 4) tanh activation"
   ]
  },
  {
   "cell_type": "code",
   "execution_count": 33,
   "metadata": {},
   "outputs": [],
   "source": [
    "model = models.Sequential()\n",
    "model.add(layers.Dense(16, activation='tanh', input_shape=(10000,)))\n",
    "model.add(layers.Dense(16, activation='tanh'))\n",
    "model.add(layers.Dense(16, activation='tanh'))\n",
    "model.add(layers.Dense(1, activation='sigmoid'))"
   ]
  },
  {
   "cell_type": "code",
   "execution_count": 37,
   "metadata": {},
   "outputs": [],
   "source": [
    "model.compile(optimizer=optimizers.RMSprop(lr=0.001), \n",
    "              loss=losses.mse,\n",
    "              metrics=[metrics.binary_accuracy])"
   ]
  },
  {
   "cell_type": "code",
   "execution_count": 38,
   "metadata": {
    "scrolled": true
   },
   "outputs": [
    {
     "name": "stdout",
     "output_type": "stream",
     "text": [
      "Train on 15000 samples, validate on 10000 samples\n",
      "Epoch 1/20\n",
      "15000/15000 [==============================] - 3s 171us/step - loss: 0.0120 - binary_accuracy: 0.9870 - val_loss: 0.1205 - val_binary_accuracy: 0.8689\n",
      "Epoch 2/20\n",
      "15000/15000 [==============================] - 2s 157us/step - loss: 0.0050 - binary_accuracy: 0.9949 - val_loss: 0.1252 - val_binary_accuracy: 0.8645\n",
      "Epoch 3/20\n",
      "15000/15000 [==============================] - 2s 157us/step - loss: 0.0089 - binary_accuracy: 0.9900 - val_loss: 0.1212 - val_binary_accuracy: 0.8662\n",
      "Epoch 4/20\n",
      "15000/15000 [==============================] - 2s 163us/step - loss: 0.0045 - binary_accuracy: 0.9955 - val_loss: 0.1228 - val_binary_accuracy: 0.8659\n",
      "Epoch 5/20\n",
      "15000/15000 [==============================] - 3s 172us/step - loss: 0.0083 - binary_accuracy: 0.9909 - val_loss: 0.1252 - val_binary_accuracy: 0.8627\n",
      "Epoch 6/20\n",
      "15000/15000 [==============================] - 3s 173us/step - loss: 0.0040 - binary_accuracy: 0.9961 - val_loss: 0.1236 - val_binary_accuracy: 0.8646\n",
      "Epoch 7/20\n",
      "15000/15000 [==============================] - 3s 172us/step - loss: 0.0081 - binary_accuracy: 0.9911 - val_loss: 0.1255 - val_binary_accuracy: 0.8618\n",
      "Epoch 8/20\n",
      "15000/15000 [==============================] - 3s 170us/step - loss: 0.0038 - binary_accuracy: 0.9962 - val_loss: 0.1247 - val_binary_accuracy: 0.8631\n",
      "Epoch 9/20\n",
      "15000/15000 [==============================] - 3s 212us/step - loss: 0.0083 - binary_accuracy: 0.9909 - val_loss: 0.1247 - val_binary_accuracy: 0.8625\n",
      "Epoch 10/20\n",
      "15000/15000 [==============================] - 3s 174us/step - loss: 0.0035 - binary_accuracy: 0.9965 - val_loss: 0.1246 - val_binary_accuracy: 0.8628\n",
      "Epoch 11/20\n",
      "15000/15000 [==============================] - 3s 168us/step - loss: 0.0072 - binary_accuracy: 0.9917 - val_loss: 0.1248 - val_binary_accuracy: 0.8629\n",
      "Epoch 12/20\n",
      "15000/15000 [==============================] - 3s 174us/step - loss: 0.0032 - binary_accuracy: 0.9968 - val_loss: 0.1263 - val_binary_accuracy: 0.8612\n",
      "Epoch 13/20\n",
      "15000/15000 [==============================] - 3s 172us/step - loss: 0.0030 - binary_accuracy: 0.9970 - val_loss: 0.1344 - val_binary_accuracy: 0.8554\n",
      "Epoch 14/20\n",
      "15000/15000 [==============================] - 3s 180us/step - loss: 0.0081 - binary_accuracy: 0.9903 - val_loss: 0.1257 - val_binary_accuracy: 0.8637\n",
      "Epoch 15/20\n",
      "15000/15000 [==============================] - 3s 171us/step - loss: 0.0028 - binary_accuracy: 0.9972 - val_loss: 0.1254 - val_binary_accuracy: 0.8638\n",
      "Epoch 16/20\n",
      "15000/15000 [==============================] - 2s 163us/step - loss: 0.0028 - binary_accuracy: 0.9972 - val_loss: 0.1261 - val_binary_accuracy: 0.8638\n",
      "Epoch 17/20\n",
      "15000/15000 [==============================] - 2s 165us/step - loss: 0.0028 - binary_accuracy: 0.9972 - val_loss: 0.1266 - val_binary_accuracy: 0.8632\n",
      "Epoch 18/20\n",
      "15000/15000 [==============================] - 3s 168us/step - loss: 0.0066 - binary_accuracy: 0.9927 - val_loss: 0.1264 - val_binary_accuracy: 0.8634\n",
      "Epoch 19/20\n",
      "15000/15000 [==============================] - 3s 168us/step - loss: 0.0027 - binary_accuracy: 0.9973 - val_loss: 0.1267 - val_binary_accuracy: 0.8638\n",
      "Epoch 20/20\n",
      "15000/15000 [==============================] - 2s 165us/step - loss: 0.0026 - binary_accuracy: 0.9974 - val_loss: 0.1274 - val_binary_accuracy: 0.8638\n"
     ]
    }
   ],
   "source": [
    "history = model.fit(partial_x_train,\n",
    "                    partial_y_train,\n",
    "                    epochs=20,\n",
    "                    batch_size=512,\n",
    "                    validation_data=(x_val, y_val)) "
   ]
  },
  {
   "cell_type": "code",
   "execution_count": 39,
   "metadata": {},
   "outputs": [
    {
     "data": {
      "image/png": "[encoded data removed]",
      "text/plain": [
       "<Figure size 432x288 with 1 Axes>"
      ]
     },
     "metadata": {
      "needs_background": "light"
     },
     "output_type": "display_data"
    }
   ],
   "source": [
    "acc = history.history['binary_accuracy']\n",
    "val_acc = history.history['val_binary_accuracy']\n",
    "epochs = range(1, len(acc) + 1)\n",
    "\n",
    "plt.plot(epochs, acc, 'r', label='Training Accuracy')\n",
    "plt.plot(epochs, val_acc, 'b', label='Validation Accuracy')\n",
    "plt.title('Training and validation accuracy')\n",
    "plt.xlabel('Epochs')\n",
    "plt.ylabel('Accuracy')\n",
    "plt.legend()\n",
    "\n",
    "plt.show()"
   ]
  },
  {
   "cell_type": "code",
   "execution_count": 40,
   "metadata": {},
   "outputs": [
    {
     "name": "stdout",
     "output_type": "stream",
     "text": [
      "25000/25000 [==============================] - 3s 123us/step\n"
     ]
    },
    {
     "data": {
      "text/plain": [
       "[0.14337796947576106, 0.84579998254776]"
      ]
     },
     "execution_count": 40,
     "metadata": {},
     "output_type": "execute_result"
    }
   ],
   "source": [
    "results = model.evaluate(x_test, y_test)\n",
    "results"
   ]
  }
 ],
 "metadata": {
  "kernelspec": {
   "display_name": "Python 3",
   "language": "python",
   "name": "python3"
  },
  "language_info": {
   "codemirror_mode": {
    "name": "ipython",
    "version": 3
   },
   "file_extension": ".py",
   "mimetype": "text/x-python",
   "name": "python",
   "nbconvert_exporter": "python",
   "pygments_lexer": "ipython3",
   "version": "3.7.0"
  }
 },
 "nbformat": 4,
 "nbformat_minor": 2
}
