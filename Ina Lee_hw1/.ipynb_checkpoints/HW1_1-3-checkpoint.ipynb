{
 "cells": [
  {
   "cell_type": "code",
   "execution_count": 19,
   "metadata": {},
   "outputs": [],
   "source": [
    "from keras.utils import to_categorical\n",
    "from keras import models\n",
    "from keras import layers\n",
    "from keras import optimizers\n",
    "from keras.datasets import cifar100\n",
    "import matplotlib.pyplot as plt"
   ]
  },
  {
   "cell_type": "code",
   "execution_count": 20,
   "metadata": {
    "scrolled": true
   },
   "outputs": [],
   "source": [
    "(train_data, train_labels), (test_data, test_labels) = cifar100.load_data(label_mode='coarse')"
   ]
  },
  {
   "cell_type": "code",
   "execution_count": 21,
   "metadata": {
    "scrolled": true
   },
   "outputs": [
    {
     "data": {
      "text/plain": [
       "(50000, 32, 32, 3)"
      ]
     },
     "execution_count": 21,
     "metadata": {},
     "output_type": "execute_result"
    }
   ],
   "source": [
    "train_data.shape"
   ]
  },
  {
   "cell_type": "code",
   "execution_count": 22,
   "metadata": {
    "scrolled": true
   },
   "outputs": [
    {
     "data": {
      "text/plain": [
       "(10000, 32, 32, 3)"
      ]
     },
     "execution_count": 22,
     "metadata": {},
     "output_type": "execute_result"
    }
   ],
   "source": [
    "test_data.shape"
   ]
  },
  {
   "cell_type": "code",
   "execution_count": 23,
   "metadata": {},
   "outputs": [],
   "source": [
    "val_data = train_data[45000:]\n",
    "train_data = train_data[0:45000]\n",
    "\n",
    "val_labels = train_labels[45000:]\n",
    "train_labels = train_labels[0:45000]\n",
    "\n",
    "### validation data / train data 구분"
   ]
  },
  {
   "cell_type": "code",
   "execution_count": 24,
   "metadata": {},
   "outputs": [
    {
     "data": {
      "text/plain": [
       "5000"
      ]
     },
     "execution_count": 24,
     "metadata": {},
     "output_type": "execute_result"
    }
   ],
   "source": [
    "len(val_data)"
   ]
  },
  {
   "cell_type": "code",
   "execution_count": 25,
   "metadata": {},
   "outputs": [],
   "source": [
    "train_data = train_data.reshape((45000, 32 * 32 * 3))\n",
    "train_data = train_data.astype('float32') / 255\n",
    "\n",
    "val_data = val_data.reshape((5000, 32 * 32 * 3))\n",
    "val_data = val_data.astype('float32') / 255\n",
    "\n",
    "test_data = test_data.reshape((10000, 32 * 32 * 3))\n",
    "test_data = test_data.astype('float32') / 255"
   ]
  },
  {
   "cell_type": "code",
   "execution_count": 26,
   "metadata": {},
   "outputs": [],
   "source": [
    "train_labels = to_categorical(train_labels)\n",
    "val_labels = to_categorical(val_labels)\n",
    "test_labels = to_categorical(test_labels)"
   ]
  },
  {
   "cell_type": "code",
   "execution_count": 27,
   "metadata": {},
   "outputs": [],
   "source": [
    "network = models.Sequential()\n",
    "network.add(layers.Dense(256, activation='relu', input_shape=(32 * 32 * 3,)))\n",
    "network.add(layers.Dense(256, activation='relu'))\n",
    "network.add(layers.Dense(256, activation='relu'))\n",
    "network.add(layers.Dense(256, activation='relu'))\n",
    "network.add(layers.Dense(256, activation='relu'))\n",
    "network.add(layers.Dense(256, activation='relu'))\n",
    "network.add(layers.Dense(256, activation='relu'))\n",
    "network.add(layers.Dense(256, activation='relu'))\n",
    "network.add(layers.Dense(256, activation='relu'))\n",
    "network.add(layers.Dense(20, activation='softmax'))"
   ]
  },
  {
   "cell_type": "code",
   "execution_count": 28,
   "metadata": {},
   "outputs": [],
   "source": [
    "network.compile(optimizer=optimizers.RMSprop(lr=0.001), \n",
    "                loss='categorical_crossentropy',\n",
    "                metrics=['accuracy'])"
   ]
  },
  {
   "cell_type": "code",
   "execution_count": 29,
   "metadata": {
    "scrolled": false
   },
   "outputs": [
    {
     "name": "stdout",
     "output_type": "stream",
     "text": [
      "Train on 45000 samples, validate on 5000 samples\n",
      "Epoch 1/15\n",
      "45000/45000 [==============================] - 13s 279us/step - loss: 2.8055 - acc: 0.1197 - val_loss: 3.5072 - val_acc: 0.1136\n",
      "Epoch 2/15\n",
      "45000/45000 [==============================] - 12s 261us/step - loss: 2.6249 - acc: 0.1781 - val_loss: 2.7608 - val_acc: 0.1400\n",
      "Epoch 3/15\n",
      "45000/45000 [==============================] - 12s 261us/step - loss: 2.5422 - acc: 0.2121 - val_loss: 2.6909 - val_acc: 0.1722\n",
      "Epoch 4/15\n",
      "45000/45000 [==============================] - 12s 264us/step - loss: 2.4740 - acc: 0.2366 - val_loss: 2.6176 - val_acc: 0.2134\n",
      "Epoch 5/15\n",
      "45000/45000 [==============================] - 12s 259us/step - loss: 2.4249 - acc: 0.2514 - val_loss: 2.6264 - val_acc: 0.2082\n",
      "Epoch 6/15\n",
      "45000/45000 [==============================] - 12s 268us/step - loss: 2.3941 - acc: 0.2637 - val_loss: 2.4758 - val_acc: 0.2502\n",
      "Epoch 7/15\n",
      "45000/45000 [==============================] - 12s 265us/step - loss: 2.3644 - acc: 0.2740 - val_loss: 2.5543 - val_acc: 0.2248\n",
      "Epoch 8/15\n",
      "45000/45000 [==============================] - 12s 275us/step - loss: 2.3373 - acc: 0.2848 - val_loss: 2.7745 - val_acc: 0.2132\n",
      "Epoch 9/15\n",
      "45000/45000 [==============================] - 12s 262us/step - loss: 2.3250 - acc: 0.2861 - val_loss: 2.5278 - val_acc: 0.2404\n",
      "Epoch 10/15\n",
      "45000/45000 [==============================] - 12s 257us/step - loss: 2.3096 - acc: 0.2914 - val_loss: 2.3619 - val_acc: 0.2826\n",
      "Epoch 11/15\n",
      "45000/45000 [==============================] - 12s 261us/step - loss: 2.3018 - acc: 0.2969 - val_loss: 2.8063 - val_acc: 0.2198\n",
      "Epoch 12/15\n",
      "45000/45000 [==============================] - 11s 252us/step - loss: 2.3021 - acc: 0.2930 - val_loss: 2.5049 - val_acc: 0.2650\n",
      "Epoch 13/15\n",
      "45000/45000 [==============================] - 11s 253us/step - loss: 2.2883 - acc: 0.2998 - val_loss: 2.6923 - val_acc: 0.2396\n",
      "Epoch 14/15\n",
      "45000/45000 [==============================] - 12s 256us/step - loss: 2.2852 - acc: 0.3030 - val_loss: 2.6337 - val_acc: 0.2442\n",
      "Epoch 15/15\n",
      "45000/45000 [==============================] - 12s 270us/step - loss: 2.2798 - acc: 0.3019 - val_loss: 2.6232 - val_acc: 0.2170\n"
     ]
    }
   ],
   "source": [
    "history = network.fit(train_data,\n",
    "                    train_labels,\n",
    "                    epochs=15,\n",
    "                    batch_size=64,\n",
    "                    validation_data=(val_data, val_labels)) "
   ]
  },
  {
   "cell_type": "code",
   "execution_count": 16,
   "metadata": {},
   "outputs": [
    {
     "data": {
      "image/png": "[encoded data removed]",
      "text/plain": [
       "<Figure size 432x288 with 1 Axes>"
      ]
     },
     "metadata": {
      "needs_background": "light"
     },
     "output_type": "display_data"
    }
   ],
   "source": [
    "acc = history.history['acc']\n",
    "val_acc = history.history['val_acc']\n",
    "epochs = range(1, len(acc) + 1)\n",
    "\n",
    "plt.plot(epochs, acc, 'r', label='Training acc')\n",
    "plt.plot(epochs, val_acc, 'b', label='Validation acc')\n",
    "plt.title('Training and validation accuracy')\n",
    "plt.xlabel('Epochs')\n",
    "plt.ylabel('ACcc')\n",
    "plt.legend()\n",
    "\n",
    "plt.show()"
   ]
  },
  {
   "cell_type": "code",
   "execution_count": 17,
   "metadata": {},
   "outputs": [
    {
     "name": "stdout",
     "output_type": "stream",
     "text": [
      "10000/10000 [==============================] - 1s 88us/step\n"
     ]
    },
    {
     "data": {
      "text/plain": [
       "[2.452375454711914, 0.2701]"
      ]
     },
     "execution_count": 17,
     "metadata": {},
     "output_type": "execute_result"
    }
   ],
   "source": [
    "results = network.evaluate(test_data, test_labels)\n",
    "results "
   ]
  }
 ],
 "metadata": {
  "kernelspec": {
   "display_name": "Python 3",
   "language": "python",
   "name": "python3"
  },
  "language_info": {
   "codemirror_mode": {
    "name": "ipython",
    "version": 3
   },
   "file_extension": ".py",
   "mimetype": "text/x-python",
   "name": "python",
   "nbconvert_exporter": "python",
   "pygments_lexer": "ipython3",
   "version": "3.7.0"
  }
 },
 "nbformat": 4,
 "nbformat_minor": 2
}
