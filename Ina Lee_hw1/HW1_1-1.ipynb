{
 "cells": [
  {
   "cell_type": "code",
   "execution_count": 1,
   "metadata": {},
   "outputs": [
    {
     "name": "stderr",
     "output_type": "stream",
     "text": [
      "Using TensorFlow backend.\n"
     ]
    }
   ],
   "source": [
    "from keras.utils import to_categorical\n",
    "from keras.datasets import mnist\n",
    "from keras import models\n",
    "from keras import layers\n",
    "from keras import optimizers\n",
    "import matplotlib.pyplot as plt"
   ]
  },
  {
   "cell_type": "code",
   "execution_count": 2,
   "metadata": {},
   "outputs": [],
   "source": [
    "(train_images, train_labels), (test_images, test_labels) = mnist.load_data()"
   ]
  },
  {
   "cell_type": "code",
   "execution_count": 3,
   "metadata": {
    "scrolled": true
   },
   "outputs": [],
   "source": [
    "val_images = train_images[55000:]\n",
    "train_images = train_images[0:55000]\n",
    "\n",
    "val_labels = train_labels[55000:]\n",
    "train_labels = train_labels[0:55000]\n",
    "\n",
    "### validation data / train data 구분"
   ]
  },
  {
   "cell_type": "code",
   "execution_count": 4,
   "metadata": {},
   "outputs": [
    {
     "data": {
      "text/plain": [
       "55000"
      ]
     },
     "execution_count": 4,
     "metadata": {},
     "output_type": "execute_result"
    }
   ],
   "source": [
    "len(train_images)"
   ]
  },
  {
   "cell_type": "code",
   "execution_count": 5,
   "metadata": {
    "scrolled": true
   },
   "outputs": [
    {
     "data": {
      "text/plain": [
       "5000"
      ]
     },
     "execution_count": 5,
     "metadata": {},
     "output_type": "execute_result"
    }
   ],
   "source": [
    "len(val_images)"
   ]
  },
  {
   "cell_type": "code",
   "execution_count": 6,
   "metadata": {},
   "outputs": [],
   "source": [
    "train_images = train_images.reshape((55000, 28 * 28))\n",
    "train_images = train_images.astype('float32') / 255\n",
    "\n",
    "val_images = val_images.reshape((5000, 28 * 28))\n",
    "val_images = val_images.astype('float32') / 255\n",
    "\n",
    "test_images = test_images.reshape((10000, 28 * 28))\n",
    "test_images = test_images.astype('float32') / 255"
   ]
  },
  {
   "cell_type": "code",
   "execution_count": 7,
   "metadata": {},
   "outputs": [],
   "source": [
    "train_labels = to_categorical(train_labels)\n",
    "val_labels = to_categorical(val_labels)\n",
    "test_labels = to_categorical(test_labels)"
   ]
  },
  {
   "cell_type": "code",
   "execution_count": 8,
   "metadata": {},
   "outputs": [
    {
     "name": "stdout",
     "output_type": "stream",
     "text": [
      "WARNING:tensorflow:From c:\\users\\ina lee\\appdata\\local\\programs\\python\\python37\\lib\\site-packages\\tensorflow\\python\\ops\\resource_variable_ops.py:435: colocate_with (from tensorflow.python.framework.ops) is deprecated and will be removed in a future version.\n",
      "Instructions for updating:\n",
      "Colocations handled automatically by placer.\n"
     ]
    }
   ],
   "source": [
    "network = models.Sequential()\n",
    "network.add(layers.Dense(256, activation='relu', input_shape=(28 * 28,)))\n",
    "network.add(layers.Dense(256, activation='relu'))\n",
    "network.add(layers.Dense(256, activation='relu'))\n",
    "network.add(layers.Dense(256, activation='relu'))\n",
    "network.add(layers.Dense(256, activation='relu'))\n",
    "network.add(layers.Dense(256, activation='relu'))\n",
    "network.add(layers.Dense(256, activation='relu'))\n",
    "network.add(layers.Dense(256, activation='relu'))\n",
    "network.add(layers.Dense(256, activation='relu'))\n",
    "network.add(layers.Dense(10, activation='softmax'))"
   ]
  },
  {
   "cell_type": "code",
   "execution_count": 9,
   "metadata": {},
   "outputs": [],
   "source": [
    "network.compile(optimizer=optimizers.RMSprop(lr=0.001), \n",
    "                loss='categorical_crossentropy',\n",
    "                metrics=['accuracy'])"
   ]
  },
  {
   "cell_type": "code",
   "execution_count": 10,
   "metadata": {},
   "outputs": [
    {
     "name": "stdout",
     "output_type": "stream",
     "text": [
      "WARNING:tensorflow:From c:\\users\\ina lee\\appdata\\local\\programs\\python\\python37\\lib\\site-packages\\tensorflow\\python\\ops\\math_ops.py:3066: to_int32 (from tensorflow.python.ops.math_ops) is deprecated and will be removed in a future version.\n",
      "Instructions for updating:\n",
      "Use tf.cast instead.\n",
      "Train on 55000 samples, validate on 5000 samples\n",
      "Epoch 1/15\n",
      "55000/55000 [==============================] - 8s 138us/step - loss: 0.3952 - accuracy: 0.8862 - val_loss: 0.1725 - val_accuracy: 0.9610\n",
      "Epoch 2/15\n",
      "55000/55000 [==============================] - 7s 135us/step - loss: 0.1672 - accuracy: 0.9595 - val_loss: 0.1192 - val_accuracy: 0.9740\n",
      "Epoch 3/15\n",
      "55000/55000 [==============================] - 7s 132us/step - loss: 0.1524 - accuracy: 0.9685 - val_loss: 0.1335 - val_accuracy: 0.9728\n",
      "Epoch 4/15\n",
      "55000/55000 [==============================] - 8s 139us/step - loss: 0.1409 - accuracy: 0.9712 - val_loss: 0.1327 - val_accuracy: 0.9718\n",
      "Epoch 5/15\n",
      "55000/55000 [==============================] - 8s 139us/step - loss: 0.1683 - accuracy: 0.9730 - val_loss: 0.1701 - val_accuracy: 0.9754\n",
      "Epoch 6/15\n",
      "55000/55000 [==============================] - 7s 130us/step - loss: 0.1663 - accuracy: 0.9736 - val_loss: 0.1555 - val_accuracy: 0.9694\n",
      "Epoch 7/15\n",
      "55000/55000 [==============================] - 7s 128us/step - loss: 0.1806 - accuracy: 0.9722 - val_loss: 0.1377 - val_accuracy: 0.9770\n",
      "Epoch 8/15\n",
      "55000/55000 [==============================] - 7s 130us/step - loss: 0.1695 - accuracy: 0.9749 - val_loss: 0.2646 - val_accuracy: 0.9742\n",
      "Epoch 9/15\n",
      "55000/55000 [==============================] - 8s 138us/step - loss: 0.1961 - accuracy: 0.9743 - val_loss: 0.3132 - val_accuracy: 0.9666\n",
      "Epoch 10/15\n",
      "55000/55000 [==============================] - 7s 133us/step - loss: 0.2470 - accuracy: 0.9742 - val_loss: 0.5718 - val_accuracy: 0.9494\n",
      "Epoch 11/15\n",
      "55000/55000 [==============================] - 7s 135us/step - loss: 0.2380 - accuracy: 0.9742 - val_loss: 0.2636 - val_accuracy: 0.9640\n",
      "Epoch 12/15\n",
      "55000/55000 [==============================] - 7s 131us/step - loss: 0.2171 - accuracy: 0.9745 - val_loss: 0.3164 - val_accuracy: 0.9724\n",
      "Epoch 13/15\n",
      "55000/55000 [==============================] - 7s 125us/step - loss: 0.2115 - accuracy: 0.9760 - val_loss: 0.3199 - val_accuracy: 0.9708\n",
      "Epoch 14/15\n",
      "55000/55000 [==============================] - 7s 119us/step - loss: 0.1889 - accuracy: 0.9748 - val_loss: 0.2867 - val_accuracy: 0.9718\n",
      "Epoch 15/15\n",
      "55000/55000 [==============================] - 7s 133us/step - loss: 0.2007 - accuracy: 0.9771 - val_loss: 0.2182 - val_accuracy: 0.9784\n"
     ]
    }
   ],
   "source": [
    "history = network.fit(train_images,\n",
    "                    train_labels,\n",
    "                    epochs=15,\n",
    "                    batch_size=64,\n",
    "                    validation_data=(val_images, val_labels)) "
   ]
  },
  {
   "cell_type": "code",
   "execution_count": 14,
   "metadata": {},
   "outputs": [
    {
     "data": {
      "image/png": "[encoded data removed]",
      "text/plain": [
       "<Figure size 432x288 with 1 Axes>"
      ]
     },
     "metadata": {
      "needs_background": "light"
     },
     "output_type": "display_data"
    }
   ],
   "source": [
    "acc = history.history['accuracy']\n",
    "val_acc = history.history['val_accuracy']\n",
    "epochs = range(1, len(acc) + 1)\n",
    "\n",
    "plt.plot(epochs, acc, 'r', label='Training acc')\n",
    "plt.plot(epochs, val_acc, 'b', label='Validation acc')\n",
    "plt.title('Training and validation accuracy')\n",
    "plt.xlabel('Epochs')\n",
    "plt.ylabel('Acc')\n",
    "plt.legend()\n",
    "\n",
    "plt.show()"
   ]
  },
  {
   "cell_type": "code",
   "execution_count": 15,
   "metadata": {
    "scrolled": true
   },
   "outputs": [
    {
     "name": "stdout",
     "output_type": "stream",
     "text": [
      "10000/10000 [==============================] - 1s 104us/step\n"
     ]
    },
    {
     "data": {
      "text/plain": [
       "[0.2734824763324407, 0.9764999747276306]"
      ]
     },
     "execution_count": 15,
     "metadata": {},
     "output_type": "execute_result"
    }
   ],
   "source": [
    "results = network.evaluate(test_images, test_labels)\n",
    "results "
   ]
  }
 ],
 "metadata": {
  "kernelspec": {
   "display_name": "Python 3",
   "language": "python",
   "name": "python3"
  },
  "language_info": {
   "codemirror_mode": {
    "name": "ipython",
    "version": 3
   },
   "file_extension": ".py",
   "mimetype": "text/x-python",
   "name": "python",
   "nbconvert_exporter": "python",
   "pygments_lexer": "ipython3",
   "version": "3.7.0"
  }
 },
 "nbformat": 4,
 "nbformat_minor": 2
}
